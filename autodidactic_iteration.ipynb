{
 "cells": [
  {
   "cell_type": "code",
   "execution_count": 1,
   "metadata": {},
   "outputs": [
    {
     "name": "stdout",
     "output_type": "stream",
     "text": [
      "Defaulting to user installation because normal site-packages is not writeable\n",
      "Requirement already satisfied: tensorflow in c:\\users\\daniel\\appdata\\roaming\\python\\python39\\site-packages (2.9.2)\n",
      "Requirement already satisfied: keras in c:\\users\\daniel\\appdata\\roaming\\python\\python39\\site-packages (2.9.0)\n",
      "Requirement already satisfied: opt-einsum>=2.3.2 in c:\\users\\daniel\\appdata\\roaming\\python\\python39\\site-packages (from tensorflow) (3.3.0)\n",
      "Requirement already satisfied: flatbuffers<2,>=1.12 in c:\\users\\daniel\\appdata\\roaming\\python\\python39\\site-packages (from tensorflow) (1.12)\n",
      "Requirement already satisfied: six>=1.12.0 in c:\\programdata\\anaconda3\\lib\\site-packages (from tensorflow) (1.16.0)\n",
      "Requirement already satisfied: tensorflow-estimator<2.10.0,>=2.9.0rc0 in c:\\users\\daniel\\appdata\\roaming\\python\\python39\\site-packages (from tensorflow) (2.9.0)\n",
      "Requirement already satisfied: wrapt>=1.11.0 in c:\\programdata\\anaconda3\\lib\\site-packages (from tensorflow) (1.12.1)\n",
      "Requirement already satisfied: google-pasta>=0.1.1 in c:\\users\\daniel\\appdata\\roaming\\python\\python39\\site-packages (from tensorflow) (0.2.0)\n",
      "Requirement already satisfied: numpy>=1.20 in c:\\programdata\\anaconda3\\lib\\site-packages (from tensorflow) (1.21.5)\n",
      "Requirement already satisfied: tensorflow-io-gcs-filesystem>=0.23.1 in c:\\users\\daniel\\appdata\\roaming\\python\\python39\\site-packages (from tensorflow) (0.26.0)\n",
      "Requirement already satisfied: tensorboard<2.10,>=2.9 in c:\\users\\daniel\\appdata\\roaming\\python\\python39\\site-packages (from tensorflow) (2.9.1)\n",
      "Requirement already satisfied: protobuf<3.20,>=3.9.2 in c:\\programdata\\anaconda3\\lib\\site-packages (from tensorflow) (3.19.1)\n",
      "Requirement already satisfied: keras-preprocessing>=1.1.1 in c:\\users\\daniel\\appdata\\roaming\\python\\python39\\site-packages (from tensorflow) (1.1.2)\n",
      "Requirement already satisfied: setuptools in c:\\programdata\\anaconda3\\lib\\site-packages (from tensorflow) (61.2.0)\n",
      "Requirement already satisfied: typing-extensions>=3.6.6 in c:\\programdata\\anaconda3\\lib\\site-packages (from tensorflow) (4.1.1)\n",
      "Requirement already satisfied: h5py>=2.9.0 in c:\\programdata\\anaconda3\\lib\\site-packages (from tensorflow) (3.6.0)\n",
      "Requirement already satisfied: astunparse>=1.6.0 in c:\\users\\daniel\\appdata\\roaming\\python\\python39\\site-packages (from tensorflow) (1.6.3)\n",
      "Requirement already satisfied: termcolor>=1.1.0 in c:\\users\\daniel\\appdata\\roaming\\python\\python39\\site-packages (from tensorflow) (1.1.0)\n",
      "Requirement already satisfied: packaging in c:\\programdata\\anaconda3\\lib\\site-packages (from tensorflow) (21.3)\n",
      "Requirement already satisfied: gast<=0.4.0,>=0.2.1 in c:\\users\\daniel\\appdata\\roaming\\python\\python39\\site-packages (from tensorflow) (0.4.0)\n",
      "Requirement already satisfied: grpcio<2.0,>=1.24.3 in c:\\programdata\\anaconda3\\lib\\site-packages (from tensorflow) (1.42.0)\n",
      "Requirement already satisfied: libclang>=13.0.0 in c:\\users\\daniel\\appdata\\roaming\\python\\python39\\site-packages (from tensorflow) (14.0.6)\n",
      "Requirement already satisfied: absl-py>=1.0.0 in c:\\users\\daniel\\appdata\\roaming\\python\\python39\\site-packages (from tensorflow) (1.2.0)\n",
      "Requirement already satisfied: wheel<1.0,>=0.23.0 in c:\\programdata\\anaconda3\\lib\\site-packages (from astunparse>=1.6.0->tensorflow) (0.37.1)\n",
      "Requirement already satisfied: requests<3,>=2.21.0 in c:\\programdata\\anaconda3\\lib\\site-packages (from tensorboard<2.10,>=2.9->tensorflow) (2.27.1)\n",
      "Requirement already satisfied: google-auth<3,>=1.6.3 in c:\\programdata\\anaconda3\\lib\\site-packages (from tensorboard<2.10,>=2.9->tensorflow) (1.33.0)\n",
      "Requirement already satisfied: tensorboard-plugin-wit>=1.6.0 in c:\\users\\daniel\\appdata\\roaming\\python\\python39\\site-packages (from tensorboard<2.10,>=2.9->tensorflow) (1.8.1)\n",
      "Requirement already satisfied: google-auth-oauthlib<0.5,>=0.4.1 in c:\\users\\daniel\\appdata\\roaming\\python\\python39\\site-packages (from tensorboard<2.10,>=2.9->tensorflow) (0.4.6)\n",
      "Requirement already satisfied: markdown>=2.6.8 in c:\\programdata\\anaconda3\\lib\\site-packages (from tensorboard<2.10,>=2.9->tensorflow) (3.3.4)\n",
      "Requirement already satisfied: tensorboard-data-server<0.7.0,>=0.6.0 in c:\\users\\daniel\\appdata\\roaming\\python\\python39\\site-packages (from tensorboard<2.10,>=2.9->tensorflow) (0.6.1)\n",
      "Requirement already satisfied: werkzeug>=1.0.1 in c:\\programdata\\anaconda3\\lib\\site-packages (from tensorboard<2.10,>=2.9->tensorflow) (2.0.3)\n",
      "Requirement already satisfied: pyasn1-modules>=0.2.1 in c:\\programdata\\anaconda3\\lib\\site-packages (from google-auth<3,>=1.6.3->tensorboard<2.10,>=2.9->tensorflow) (0.2.8)\n",
      "Requirement already satisfied: rsa<5,>=3.1.4 in c:\\programdata\\anaconda3\\lib\\site-packages (from google-auth<3,>=1.6.3->tensorboard<2.10,>=2.9->tensorflow) (4.7.2)\n",
      "Requirement already satisfied: cachetools<5.0,>=2.0.0 in c:\\programdata\\anaconda3\\lib\\site-packages (from google-auth<3,>=1.6.3->tensorboard<2.10,>=2.9->tensorflow) (4.2.2)\n",
      "Requirement already satisfied: requests-oauthlib>=0.7.0 in c:\\users\\daniel\\appdata\\roaming\\python\\python39\\site-packages (from google-auth-oauthlib<0.5,>=0.4.1->tensorboard<2.10,>=2.9->tensorflow) (1.3.1)\n",
      "Requirement already satisfied: pyasn1<0.5.0,>=0.4.6 in c:\\programdata\\anaconda3\\lib\\site-packages (from pyasn1-modules>=0.2.1->google-auth<3,>=1.6.3->tensorboard<2.10,>=2.9->tensorflow) (0.4.8)\n",
      "Requirement already satisfied: urllib3<1.27,>=1.21.1 in c:\\programdata\\anaconda3\\lib\\site-packages (from requests<3,>=2.21.0->tensorboard<2.10,>=2.9->tensorflow) (1.26.9)\n",
      "Requirement already satisfied: idna<4,>=2.5 in c:\\programdata\\anaconda3\\lib\\site-packages (from requests<3,>=2.21.0->tensorboard<2.10,>=2.9->tensorflow) (3.3)\n",
      "Requirement already satisfied: certifi>=2017.4.17 in c:\\programdata\\anaconda3\\lib\\site-packages (from requests<3,>=2.21.0->tensorboard<2.10,>=2.9->tensorflow) (2021.10.8)\n",
      "Requirement already satisfied: charset-normalizer~=2.0.0 in c:\\programdata\\anaconda3\\lib\\site-packages (from requests<3,>=2.21.0->tensorboard<2.10,>=2.9->tensorflow) (2.0.4)\n",
      "Requirement already satisfied: oauthlib>=3.0.0 in c:\\users\\daniel\\appdata\\roaming\\python\\python39\\site-packages (from requests-oauthlib>=0.7.0->google-auth-oauthlib<0.5,>=0.4.1->tensorboard<2.10,>=2.9->tensorflow) (3.2.0)\n",
      "Requirement already satisfied: pyparsing!=3.0.5,>=2.0.2 in c:\\programdata\\anaconda3\\lib\\site-packages (from packaging->tensorflow) (3.0.4)\n",
      "Note: you may need to restart the kernel to use updated packages.\n"
     ]
    }
   ],
   "source": [
    "pip install tensorflow keras \n"
   ]
  },
  {
   "cell_type": "code",
   "execution_count": 5,
   "metadata": {},
   "outputs": [],
   "source": [
    "import keras.backend as K\n",
    "import numpy as np\n",
    "from keras.callbacks import ModelCheckpoint, EarlyStopping, ReduceLROnPlateau\n",
    "from keras.layers import Dense, Input, LeakyReLU\n",
    "from keras.models import Model\n",
    "from keras.optimizers import Adam\n",
    "from tqdm import tqdm\n",
    "\n",
    "from solver import action_map_small, gen_sequence, get_all_possible_actions_cube_small, chunker, \\\n",
    "    flatten_1d_b\n",
    "    "
   ]
  },
  {
   "cell_type": "code",
   "execution_count": 6,
   "metadata": {},
   "outputs": [],
   "source": [
    "def acc(y_true, y_pred):\n",
    "    return K.cast(K.equal(K.max(y_true, axis=-1),\n",
    "                          K.cast(K.argmax(y_pred, axis=-1), K.floatx())),\n",
    "                  K.floatx())"
   ]
  },
  {
   "cell_type": "code",
   "execution_count": null,
   "metadata": {},
   "outputs": [
    {
     "name": "stdout",
     "output_type": "stream",
     "text": [
      "Model: \"model_1\"\n",
      "__________________________________________________________________________________________________\n",
      " Layer (type)                   Output Shape         Param #     Connected to                     \n",
      "==================================================================================================\n",
      " input_2 (InputLayer)           [(None, 324)]        0           []                               \n",
      "                                                                                                  \n",
      " dense_4 (Dense)                (None, 1024)         332800      ['input_2[0][0]']                \n",
      "                                                                                                  \n",
      " leaky_re_lu_4 (LeakyReLU)      (None, 1024)         0           ['dense_4[0][0]']                \n",
      "                                                                                                  \n",
      " dense_5 (Dense)                (None, 1024)         1049600     ['leaky_re_lu_4[0][0]']          \n",
      "                                                                                                  \n",
      " leaky_re_lu_5 (LeakyReLU)      (None, 1024)         0           ['dense_5[0][0]']                \n",
      "                                                                                                  \n",
      " dense_6 (Dense)                (None, 1024)         1049600     ['leaky_re_lu_5[0][0]']          \n",
      "                                                                                                  \n",
      " leaky_re_lu_6 (LeakyReLU)      (None, 1024)         0           ['dense_6[0][0]']                \n",
      "                                                                                                  \n",
      " dense_7 (Dense)                (None, 50)           51250       ['leaky_re_lu_6[0][0]']          \n",
      "                                                                                                  \n",
      " leaky_re_lu_7 (LeakyReLU)      (None, 50)           0           ['dense_7[0][0]']                \n",
      "                                                                                                  \n",
      " value (Dense)                  (None, 1)            51          ['leaky_re_lu_7[0][0]']          \n",
      "                                                                                                  \n",
      " policy (Dense)                 (None, 12)           612         ['leaky_re_lu_7[0][0]']          \n",
      "                                                                                                  \n",
      "==================================================================================================\n",
      "Total params: 2,483,913\n",
      "Trainable params: 2,483,913\n",
      "Non-trainable params: 0\n",
      "__________________________________________________________________________________________________\n"
     ]
    },
    {
     "name": "stderr",
     "output_type": "stream",
     "text": [
      "100%|██████████| 100/100 [00:06<00:00, 15.30it/s]\n",
      "100%|██████████| 2500/2500 [01:07<00:00, 36.96it/s]\n"
     ]
    },
    {
     "name": "stdout",
     "output_type": "stream",
     "text": [
      "30/30 [==============================] - 1s 16ms/step\n"
     ]
    },
    {
     "name": "stderr",
     "output_type": "stream",
     "text": [
      "2500it [00:00, 96163.46it/s]"
     ]
    },
    {
     "name": "stdout",
     "output_type": "stream",
     "text": [
      "[6, 4, 8, 0, 6, 10, 4, 4, 10, 8, 6, 11, 7, 5, 11, 10, 4, 7, 4, 11, 2, 4, 4, 1, 4, 10, 4, 9, 0, 9]\n",
      "[-0.54438774  0.00784822  3.65527477 -0.1122011   3.65527477 -0.57913239\n",
      "  0.37889508 -0.07943006 -1.03612266 -0.12261677 -0.11082152 -0.12261677\n",
      " -0.11736421 -0.12261677 -0.10477907 -0.19287723  0.34476324 -0.29997436\n",
      " -0.3718064  -0.14502552 -0.3552233  -0.00935247  0.04592827 -0.34122484\n",
      "  0.15548916 -0.02214367 -0.31110499  3.65527469  0.10811119  3.65527469]\n"
     ]
    },
    {
     "name": "stderr",
     "output_type": "stream",
     "text": [
      "\n"
     ]
    },
    {
     "name": "stdout",
     "output_type": "stream",
     "text": [
      "20/20 [==============================] - 1s 13ms/step - loss: 3.4732 - value_loss: 1.0960 - policy_loss: 2.3771 - policy_acc: 0.1316\n",
      "30/30 [==============================] - 1s 17ms/step\n"
     ]
    },
    {
     "name": "stderr",
     "output_type": "stream",
     "text": [
      "2500it [00:00, 104148.35it/s]"
     ]
    },
    {
     "name": "stdout",
     "output_type": "stream",
     "text": [
      "[0, 11, 8, 2, 6, 10, 10, 7, 10, 8, 6, 11, 2, 5, 10, 4, 4, 4, 4, 7, 7, 9, 7, 10, 10, 11, 9, 9, 1, 9]\n",
      "[ 0.78595937  1.89575195  3.20782753  1.89575195  3.20782753 -0.36686754\n",
      " -0.07422225 -0.25736409 -0.63313278 -0.42367087 -0.27612354 -0.42367087\n",
      " -0.66979232 -0.42367087 -0.59329185 -0.49946507 -0.28906354 -0.54240257\n",
      " -0.72791899 -0.87517289 -0.47959072 -0.18147424 -0.17012905 -0.31007016\n",
      "  0.16340005  0.29040211  1.32264491  3.20782753  1.16035836  3.20782753]\n",
      " 6/20 [========>.....................] - ETA: 0s - loss: 2.7590 - value_loss: 0.5129 - policy_loss: 2.2461 - policy_acc: 0.2344"
     ]
    },
    {
     "name": "stderr",
     "output_type": "stream",
     "text": [
      "\n"
     ]
    },
    {
     "name": "stdout",
     "output_type": "stream",
     "text": [
      "20/20 [==============================] - 0s 11ms/step - loss: 2.3878 - value_loss: 0.3829 - policy_loss: 2.0049 - policy_acc: 0.2716\n",
      "30/30 [==============================] - 1s 20ms/step\n"
     ]
    },
    {
     "name": "stderr",
     "output_type": "stream",
     "text": [
      "2500it [00:00, 122604.62it/s]"
     ]
    },
    {
     "name": "stdout",
     "output_type": "stream",
     "text": [
      "[0, 11, 8, 4, 6, 2, 10, 10, 10, 8, 6, 11, 6, 5, 10, 4, 4, 4, 4, 7, 7, 9, 7, 10, 10, 11, 11, 9, 1, 9]\n",
      "[ 0.6127937   1.50984587  3.27314312  1.85755945  3.27314312 -0.42289108\n",
      " -0.41462773 -0.32448772 -0.48794608 -0.56452476 -0.20701856 -0.56452476\n",
      " -0.66477213 -0.56452476 -0.52856412 -0.46485477 -0.29003078 -0.54882068\n",
      " -0.79520528 -0.73756298 -0.54249026 -0.37661959 -0.41105061 -0.14829798\n",
      "  0.2470496   0.60031752  1.72246378  3.2731424   1.72246378  3.2731424 ]\n",
      " 6/20 [========>.....................] - ETA: 0s - loss: 1.9483 - value_loss: 0.2742 - policy_loss: 1.6741 - policy_acc: 0.3216"
     ]
    },
    {
     "name": "stderr",
     "output_type": "stream",
     "text": [
      "\n"
     ]
    },
    {
     "name": "stdout",
     "output_type": "stream",
     "text": [
      "20/20 [==============================] - 0s 11ms/step - loss: 1.7801 - value_loss: 0.2698 - policy_loss: 1.5103 - policy_acc: 0.3988\n",
      "30/30 [==============================] - 1s 19ms/step\n"
     ]
    },
    {
     "name": "stderr",
     "output_type": "stream",
     "text": [
      "2500it [00:00, 104138.01it/s]"
     ]
    },
    {
     "name": "stdout",
     "output_type": "stream",
     "text": [
      "[0, 11, 8, 10, 6, 2, 10, 10, 1, 8, 6, 11, 11, 5, 4, 4, 4, 4, 4, 11, 7, 9, 7, 10, 11, 11, 11, 9, 1, 9]\n",
      "[ 0.68501495  1.75185476  3.19072614  1.98207739  3.19072614 -0.42843171\n",
      " -0.54811641 -0.3853477  -0.52296571 -0.53611029 -0.23174908 -0.53611029\n",
      " -0.76951556 -0.53611029 -0.46926107 -0.46286476 -0.44626109 -0.61652724\n",
      " -0.95551508 -0.85458034 -0.6984501  -0.37048696 -0.48902122 -0.23865986\n",
      "  0.16838438  0.60686294  1.77346216  3.19072648  1.77346216  3.19072648]\n",
      " 6/20 [========>.....................] - ETA: 0s - loss: 1.4234 - value_loss: 0.1984 - policy_loss: 1.2250 - policy_acc: 0.4688"
     ]
    },
    {
     "name": "stderr",
     "output_type": "stream",
     "text": [
      "\n"
     ]
    },
    {
     "name": "stdout",
     "output_type": "stream",
     "text": [
      "20/20 [==============================] - 0s 11ms/step - loss: 1.3659 - value_loss: 0.1981 - policy_loss: 1.1678 - policy_acc: 0.4704\n",
      "30/30 [==============================] - 0s 13ms/step\n"
     ]
    },
    {
     "name": "stderr",
     "output_type": "stream",
     "text": [
      "2500it [00:00, 100010.11it/s]"
     ]
    },
    {
     "name": "stdout",
     "output_type": "stream",
     "text": [
      "[0, 11, 8, 4, 6, 2, 5, 10, 1, 8, 6, 9, 9, 5, 4, 4, 4, 4, 4, 11, 11, 9, 7, 7, 11, 9, 11, 9, 1, 9]\n",
      "[ 0.65938829  1.90938591  3.11504697  1.98855308  3.11504697 -0.45041051\n",
      " -0.5220875  -0.2151704  -0.40775636 -0.58588623 -0.23468873 -0.53670899\n",
      " -0.79126114 -0.58588623 -0.56832056 -0.48434135 -0.47057765 -0.71961374\n",
      " -0.97966416 -0.82674732 -0.71537866 -0.49571464 -0.55781579 -0.2462359\n",
      "  0.22414762  0.56440471  1.71408106  3.11504664  1.71408106  3.11504664]\n",
      " 6/20 [========>.....................] - ETA: 0s - loss: 1.3070 - value_loss: 0.2009 - policy_loss: 1.1061 - policy_acc: 0.5039"
     ]
    },
    {
     "name": "stderr",
     "output_type": "stream",
     "text": [
      "\n"
     ]
    },
    {
     "name": "stdout",
     "output_type": "stream",
     "text": [
      "20/20 [==============================] - 0s 10ms/step - loss: 1.2711 - value_loss: 0.2346 - policy_loss: 1.0364 - policy_acc: 0.4964\n",
      "30/30 [==============================] - 1s 21ms/step\n"
     ]
    },
    {
     "name": "stderr",
     "output_type": "stream",
     "text": [
      "2500it [00:00, 81471.27it/s]"
     ]
    },
    {
     "name": "stdout",
     "output_type": "stream",
     "text": [
      "[0, 11, 8, 6, 6, 2, 5, 10, 1, 8, 6, 9, 11, 5, 4, 4, 4, 4, 8, 5, 5, 9, 7, 7, 10, 9, 11, 9, 1, 9]\n",
      "[ 0.87906616  1.98223039  3.02458166  2.15898934  3.02458166 -0.46805266\n",
      " -0.58182605 -0.30988243 -0.46546877 -0.61576478 -0.30725369 -0.57487863\n",
      " -0.81225706 -0.61576478 -0.60553165 -0.54686814 -0.59075694 -0.73039891\n",
      " -0.94037175 -0.7875145  -0.7211521  -0.45925601 -0.61250951 -0.32360161\n",
      "  0.21030594  0.75437742  1.86170665  3.02458201  1.86170665  3.02458201]\n",
      " 1/20 [>.............................] - ETA: 0s - loss: 1.1581 - value_loss: 0.2122 - policy_loss: 0.9459 - policy_acc: 0.4688"
     ]
    },
    {
     "name": "stderr",
     "output_type": "stream",
     "text": [
      "\n"
     ]
    },
    {
     "name": "stdout",
     "output_type": "stream",
     "text": [
      "20/20 [==============================] - 0s 12ms/step - loss: 1.2545 - value_loss: 0.2691 - policy_loss: 0.9853 - policy_acc: 0.5076\n",
      "30/30 [==============================] - 1s 17ms/step\n"
     ]
    },
    {
     "name": "stderr",
     "output_type": "stream",
     "text": [
      "2500it [00:00, 94289.62it/s]"
     ]
    },
    {
     "name": "stdout",
     "output_type": "stream",
     "text": [
      "[0, 11, 8, 5, 6, 2, 5, 10, 1, 8, 8, 4, 11, 5, 4, 4, 4, 4, 8, 11, 8, 11, 8, 11, 10, 9, 11, 9, 1, 9]\n",
      "[ 1.09085933  1.65494064  2.89134353  2.08834034  2.89134353 -0.52274523\n",
      " -0.59624269 -0.27886999 -0.49558753 -0.65678064 -0.39074136 -0.46651529\n",
      " -0.71320936 -0.65678064 -0.53775434 -0.49843696 -0.63616563 -0.81773582\n",
      " -1.05695166 -0.84014848 -0.58693984 -0.49222527 -0.48202233 -0.06935885\n",
      "  0.41072024  0.97278696  2.01396972  2.89134353  2.01396972  2.89134353]\n",
      " 6/20 [========>.....................] - ETA: 0s - loss: 1.1567 - value_loss: 0.1838 - policy_loss: 0.9729 - policy_acc: 0.4544"
     ]
    },
    {
     "name": "stderr",
     "output_type": "stream",
     "text": [
      "\n"
     ]
    },
    {
     "name": "stdout",
     "output_type": "stream",
     "text": [
      "20/20 [==============================] - 0s 11ms/step - loss: 1.1492 - value_loss: 0.1741 - policy_loss: 0.9752 - policy_acc: 0.4884\n",
      "30/30 [==============================] - 1s 18ms/step\n"
     ]
    },
    {
     "name": "stderr",
     "output_type": "stream",
     "text": [
      "2500it [00:00, 83339.37it/s]"
     ]
    },
    {
     "name": "stdout",
     "output_type": "stream",
     "text": [
      "[0, 11, 8, 11, 6, 2, 5, 10, 1, 8, 8, 4, 11, 4, 4, 4, 4, 4, 8, 11, 8, 11, 8, 11, 10, 9, 11, 9, 1, 9]\n",
      "[ 1.20214408  1.79030819  2.75590435  2.21516067  2.75590435 -0.48288247\n",
      " -0.64859086 -0.34668559 -0.58659712 -0.67937301 -0.37427687 -0.39359037\n",
      " -0.7439675  -0.62527485 -0.58241832 -0.61922302 -0.79532944 -0.88282738\n",
      " -1.0857364  -0.90786092 -0.50728765 -0.41970862 -0.39485299 -0.00528809\n",
      "  0.59657688  1.31315099  1.94910552  2.75590395  1.94910552  2.75590395]\n",
      " 5/20 [======>.......................] - ETA: 0s - loss: 1.1502 - value_loss: 0.1473 - policy_loss: 1.0029 - policy_acc: 0.4844"
     ]
    },
    {
     "name": "stderr",
     "output_type": "stream",
     "text": [
      "\n"
     ]
    },
    {
     "name": "stdout",
     "output_type": "stream",
     "text": [
      "20/20 [==============================] - 0s 12ms/step - loss: 1.0856 - value_loss: 0.1471 - policy_loss: 0.9384 - policy_acc: 0.5076\n",
      "30/30 [==============================] - 0s 16ms/step\n"
     ]
    },
    {
     "name": "stderr",
     "output_type": "stream",
     "text": [
      "2500it [00:00, 108706.91it/s]"
     ]
    },
    {
     "name": "stdout",
     "output_type": "stream",
     "text": [
      "[0, 11, 8, 0, 6, 2, 5, 10, 1, 8, 8, 4, 11, 5, 4, 4, 4, 4, 8, 11, 8, 11, 8, 7, 10, 9, 11, 9, 1, 9]\n",
      "[ 1.1429998   1.87910903  2.58541432  2.20142841  2.58541432 -0.54858197\n",
      " -0.72683392 -0.43858242 -0.69115119 -0.60433605 -0.36202139 -0.42951708\n",
      " -0.75378661 -0.60433605 -0.57103616 -0.70096394 -0.92716321 -0.98428235\n",
      " -1.23280028 -0.93438329 -0.61362631 -0.34441387 -0.28561183  0.1335097\n",
      "  0.74471656  1.40221813  1.91024521  2.58541432  1.91024521  2.58541432]\n",
      " 6/20 [========>.....................] - ETA: 0s - loss: 1.0888 - value_loss: 0.1660 - policy_loss: 0.9228 - policy_acc: 0.4935"
     ]
    },
    {
     "name": "stderr",
     "output_type": "stream",
     "text": [
      "\n"
     ]
    },
    {
     "name": "stdout",
     "output_type": "stream",
     "text": [
      "20/20 [==============================] - 0s 10ms/step - loss: 1.0363 - value_loss: 0.1589 - policy_loss: 0.8774 - policy_acc: 0.5308\n",
      "30/30 [==============================] - 1s 17ms/step\n"
     ]
    },
    {
     "name": "stderr",
     "output_type": "stream",
     "text": [
      "2500it [00:00, 100893.49it/s]"
     ]
    },
    {
     "name": "stdout",
     "output_type": "stream",
     "text": [
      "[0, 11, 8, 11, 6, 2, 5, 10, 1, 8, 8, 4, 4, 4, 4, 4, 4, 4, 8, 11, 8, 8, 8, 7, 10, 9, 11, 9, 1, 9]\n",
      "[ 1.37278764  1.81902453  2.37899246  2.09795372  2.37899246 -0.6372188\n",
      " -0.85487436 -0.53175307 -0.78241458 -0.5702163  -0.36354562 -0.28556769\n",
      " -0.67989354 -0.39140439 -0.51177456 -0.80967373 -1.03412581 -1.04033295\n",
      " -1.33506827 -0.98023607 -0.54980295 -0.2767989  -0.09050771  0.23363752\n",
      "  0.93017275  1.62386757  2.02737689  2.37899222  2.02737689  2.37899222]\n",
      " 6/20 [========>.....................] - ETA: 0s - loss: 1.0958 - value_loss: 0.1537 - policy_loss: 0.9421 - policy_acc: 0.5104"
     ]
    },
    {
     "name": "stderr",
     "output_type": "stream",
     "text": [
      "\n"
     ]
    },
    {
     "name": "stdout",
     "output_type": "stream",
     "text": [
      "20/20 [==============================] - 0s 11ms/step - loss: 1.0294 - value_loss: 0.1482 - policy_loss: 0.8812 - policy_acc: 0.5168\n",
      "30/30 [==============================] - 1s 20ms/step\n"
     ]
    },
    {
     "name": "stderr",
     "output_type": "stream",
     "text": [
      "2500it [00:00, 107830.49it/s]"
     ]
    },
    {
     "name": "stdout",
     "output_type": "stream",
     "text": [
      "[0, 11, 8, 10, 6, 2, 5, 10, 1, 8, 8, 4, 9, 4, 4, 4, 2, 4, 8, 11, 8, 8, 8, 7, 10, 9, 11, 9, 1, 9]\n",
      "[ 1.12324878  1.85022045  2.30474967  2.06648727  2.30474967 -0.77667029\n",
      " -0.80916443 -0.58649305 -0.73716417 -0.49908521 -0.27717127 -0.34335632\n",
      " -0.60619028 -0.40780562 -0.58365351 -0.877765   -1.11535013 -1.24758329\n",
      " -1.4483458  -1.07641943 -0.6666779  -0.22313907  0.11981425  0.434808\n",
      "  0.94498861  1.51772167  1.82362971  2.30474943  1.82362971  2.30474943]\n",
      " 6/20 [========>.....................] - ETA: 0s - loss: 1.1306 - value_loss: 0.1577 - policy_loss: 0.9729 - policy_acc: 0.4740"
     ]
    },
    {
     "name": "stderr",
     "output_type": "stream",
     "text": [
      "\n"
     ]
    },
    {
     "name": "stdout",
     "output_type": "stream",
     "text": [
      "20/20 [==============================] - 0s 11ms/step - loss: 1.0379 - value_loss: 0.1398 - policy_loss: 0.8981 - policy_acc: 0.5276\n",
      "30/30 [==============================] - 0s 12ms/step\n"
     ]
    },
    {
     "name": "stderr",
     "output_type": "stream",
     "text": [
      "2500it [00:00, 104135.94it/s]"
     ]
    },
    {
     "name": "stdout",
     "output_type": "stream",
     "text": [
      "[0, 11, 8, 10, 6, 2, 5, 10, 2, 8, 8, 9, 9, 4, 4, 5, 2, 4, 2, 11, 8, 9, 8, 11, 10, 9, 11, 9, 1, 9]\n",
      "[ 1.30678939  1.84719287  2.29420337  1.99126131  2.29420337 -0.85423364\n",
      " -0.84153958 -0.69184152 -0.73280974 -0.4998105  -0.26577474 -0.38072312\n",
      " -0.49785805 -0.41694181 -0.69822862 -0.94918057 -1.1108066  -1.26284494\n",
      " -1.38589321 -1.06084626 -0.80146083 -0.31687367  0.09875769  0.37662139\n",
      "  0.91130199  1.49628468  1.74009286  2.29420277  1.74009286  2.29420277]\n",
      " 7/20 [=========>....................] - ETA: 0s - loss: 0.9856 - value_loss: 0.1313 - policy_loss: 0.8542 - policy_acc: 0.5179"
     ]
    },
    {
     "name": "stderr",
     "output_type": "stream",
     "text": [
      "\n"
     ]
    },
    {
     "name": "stdout",
     "output_type": "stream",
     "text": [
      "20/20 [==============================] - 0s 10ms/step - loss: 0.9484 - value_loss: 0.1325 - policy_loss: 0.8159 - policy_acc: 0.5316\n",
      "30/30 [==============================] - 1s 22ms/step\n"
     ]
    },
    {
     "name": "stderr",
     "output_type": "stream",
     "text": [
      "2500it [00:00, 85427.19it/s]"
     ]
    },
    {
     "name": "stdout",
     "output_type": "stream",
     "text": [
      "[0, 11, 8, 10, 6, 0, 5, 0, 8, 8, 8, 4, 9, 4, 4, 7, 2, 4, 2, 11, 8, 8, 8, 7, 10, 9, 11, 9, 1, 9]\n",
      "[ 1.24041868  1.72659445  2.35500081  2.00210606  2.35500081 -0.85428507\n",
      " -0.86052855 -0.72540797 -0.74808324 -0.44264215 -0.26517278 -0.32844037\n",
      " -0.50509743 -0.34043066 -0.68174668 -0.96683245 -1.12430134 -1.23922807\n",
      " -1.33747074 -1.0501128  -0.78938878 -0.27412839  0.13689666  0.48917979\n",
      "  0.92700811  1.51614877  1.7543921   2.35500081  1.7543921   2.35500081]\n",
      " 1/20 [>.............................] - ETA: 0s - loss: 0.8936 - value_loss: 0.1331 - policy_loss: 0.7604 - policy_acc: 0.5703"
     ]
    },
    {
     "name": "stderr",
     "output_type": "stream",
     "text": [
      "\n"
     ]
    },
    {
     "name": "stdout",
     "output_type": "stream",
     "text": [
      "20/20 [==============================] - 0s 11ms/step - loss: 0.9203 - value_loss: 0.1242 - policy_loss: 0.7961 - policy_acc: 0.5412\n",
      "30/30 [==============================] - 0s 14ms/step\n"
     ]
    },
    {
     "name": "stderr",
     "output_type": "stream",
     "text": [
      "2500it [00:00, 106315.18it/s]"
     ]
    },
    {
     "name": "stdout",
     "output_type": "stream",
     "text": [
      "[0, 11, 8, 9, 6, 0, 5, 0, 0, 8, 8, 4, 4, 4, 0, 7, 2, 5, 2, 11, 0, 8, 8, 7, 10, 9, 11, 9, 1, 9]\n",
      "[ 1.24876566  1.82741739  2.30809384  2.07883753  2.30809384 -0.94125013\n",
      " -0.97501144 -0.71731458 -0.84906146 -0.4677541  -0.29396856 -0.29394887\n",
      " -0.54789599 -0.33878748 -0.74831337 -1.06054826 -1.21526365 -1.319494\n",
      " -1.34247528 -1.05979897 -0.72188937 -0.204754    0.18631302  0.64168976\n",
      "  1.02199889  1.43661741  1.75545954  2.3080943   1.75545954  2.3080943 ]\n",
      " 7/20 [=========>....................] - ETA: 0s - loss: 1.0785 - value_loss: 0.2107 - policy_loss: 0.8678 - policy_acc: 0.5424"
     ]
    },
    {
     "name": "stderr",
     "output_type": "stream",
     "text": [
      "\n"
     ]
    },
    {
     "name": "stdout",
     "output_type": "stream",
     "text": [
      "20/20 [==============================] - 0s 10ms/step - loss: 1.0276 - value_loss: 0.1769 - policy_loss: 0.8507 - policy_acc: 0.5360\n",
      "30/30 [==============================] - 0s 16ms/step\n"
     ]
    },
    {
     "name": "stderr",
     "output_type": "stream",
     "text": [
      "2500it [00:00, 111063.85it/s]"
     ]
    },
    {
     "name": "stdout",
     "output_type": "stream",
     "text": [
      "[0, 11, 8, 1, 6, 3, 5, 0, 8, 8, 8, 4, 4, 4, 0, 5, 2, 4, 4, 11, 0, 8, 8, 7, 10, 9, 11, 9, 1, 9]\n",
      "[ 1.2507991   1.82872334  2.30415924  2.06532292  2.30415924 -0.79313066\n",
      " -0.92714731 -0.76396201 -0.86056347 -0.56155853 -0.27631581 -0.4137352\n",
      " -0.62953679 -0.48283817 -0.94916934 -1.11342542 -1.23141561 -1.06417634\n",
      " -1.1939827  -1.13368437 -0.61477156 -0.20985593  0.12689103  0.61057072\n",
      "  1.06165395  1.38716224  1.97809784  2.30415899  1.97809784  2.30415899]\n",
      " 6/20 [========>.....................] - ETA: 0s - loss: 0.9850 - value_loss: 0.1354 - policy_loss: 0.8496 - policy_acc: 0.5091"
     ]
    },
    {
     "name": "stderr",
     "output_type": "stream",
     "text": [
      "\n"
     ]
    },
    {
     "name": "stdout",
     "output_type": "stream",
     "text": [
      "20/20 [==============================] - 0s 11ms/step - loss: 0.9313 - value_loss: 0.1207 - policy_loss: 0.8106 - policy_acc: 0.5368\n",
      "30/30 [==============================] - 1s 19ms/step\n"
     ]
    },
    {
     "name": "stderr",
     "output_type": "stream",
     "text": [
      "2500it [00:00, 104165.94it/s]"
     ]
    },
    {
     "name": "stdout",
     "output_type": "stream",
     "text": [
      "[0, 11, 8, 7, 6, 3, 5, 0, 0, 8, 8, 4, 4, 4, 4, 5, 8, 4, 8, 4, 0, 11, 8, 7, 10, 9, 11, 9, 1, 9]\n",
      "[ 1.28651995  1.67370908  2.39877645  1.95980315  2.39877645 -0.89212668\n",
      " -0.98104234 -0.71386141 -0.90443382 -0.56167848 -0.38050677 -0.33433744\n",
      " -0.68717189 -0.44086489 -0.85545654 -1.1211984  -1.19444871 -1.2172484\n",
      " -1.18558886 -1.11763467 -0.54602856 -0.14527174  0.18629609  0.60759167\n",
      "  1.04209897  1.40881146  1.79206582  2.39877669  1.79206582  2.39877669]\n",
      " 6/20 [========>.....................] - ETA: 0s - loss: 0.8762 - value_loss: 0.1321 - policy_loss: 0.7441 - policy_acc: 0.5586"
     ]
    },
    {
     "name": "stderr",
     "output_type": "stream",
     "text": [
      "\n"
     ]
    },
    {
     "name": "stdout",
     "output_type": "stream",
     "text": [
      "20/20 [==============================] - 0s 10ms/step - loss: 0.8496 - value_loss: 0.1256 - policy_loss: 0.7240 - policy_acc: 0.5752\n",
      "30/30 [==============================] - 1s 21ms/step\n"
     ]
    },
    {
     "name": "stderr",
     "output_type": "stream",
     "text": [
      "2500it [00:00, 82538.39it/s]"
     ]
    },
    {
     "name": "stdout",
     "output_type": "stream",
     "text": [
      "[0, 11, 8, 2, 6, 3, 5, 0, 0, 8, 8, 4, 4, 4, 9, 7, 8, 4, 8, 4, 0, 9, 8, 7, 10, 9, 11, 9, 1, 9]\n",
      "[ 1.15927851  1.96943369  2.45663115  1.96943369  2.45663115 -0.74201214\n",
      " -0.94488597 -0.70104268 -0.86317064 -0.49564139 -0.4071979  -0.46638941\n",
      " -0.66653792 -0.48067437 -0.85382958 -0.98948095 -1.12080271 -1.0661979\n",
      " -1.17275835 -1.02973378 -0.44391005 -0.16137896  0.18780232  0.5112027\n",
      "  0.80025502  1.28560974  1.78552792  2.45663162  1.78552792  2.45663162]\n",
      " 1/20 [>.............................] - ETA: 0s - loss: 0.9237 - value_loss: 0.1361 - policy_loss: 0.7877 - policy_acc: 0.5156"
     ]
    },
    {
     "name": "stderr",
     "output_type": "stream",
     "text": [
      "\n"
     ]
    },
    {
     "name": "stdout",
     "output_type": "stream",
     "text": [
      "20/20 [==============================] - 0s 11ms/step - loss: 0.8769 - value_loss: 0.1318 - policy_loss: 0.7451 - policy_acc: 0.5704\n",
      "30/30 [==============================] - 1s 17ms/step\n"
     ]
    },
    {
     "name": "stderr",
     "output_type": "stream",
     "text": [
      "2500it [00:00, 116219.19it/s]"
     ]
    },
    {
     "name": "stdout",
     "output_type": "stream",
     "text": [
      "[0, 11, 8, 1, 6, 0, 5, 0, 8, 8, 4, 4, 4, 5, 11, 7, 8, 5, 8, 11, 0, 3, 8, 11, 10, 9, 11, 9, 1, 9]\n",
      "[ 1.35198979  1.97537528  2.3947818   2.13365555  2.3947818  -0.88710261\n",
      " -0.92267752 -0.70398807 -0.80551032 -0.44562842 -0.41468365 -0.32154391\n",
      " -0.58964228 -0.44562842 -0.85218041 -1.01574546 -1.08822336 -1.28345451\n",
      " -1.09510509 -0.81889366 -0.53463906 -0.18389223  0.20157584  0.55424687\n",
      "  0.75771279  1.18301105  1.74194203  2.3947818   1.74194203  2.3947818 ]\n",
      " 6/20 [========>.....................] - ETA: 0s - loss: 0.8107 - value_loss: 0.1186 - policy_loss: 0.6922 - policy_acc: 0.5690"
     ]
    },
    {
     "name": "stderr",
     "output_type": "stream",
     "text": [
      "\n"
     ]
    },
    {
     "name": "stdout",
     "output_type": "stream",
     "text": [
      "20/20 [==============================] - 0s 11ms/step - loss: 0.7935 - value_loss: 0.1290 - policy_loss: 0.6645 - policy_acc: 0.6012\n",
      "30/30 [==============================] - 0s 14ms/step\n"
     ]
    },
    {
     "name": "stderr",
     "output_type": "stream",
     "text": [
      "2500it [00:00, 90859.75it/s]"
     ]
    },
    {
     "name": "stdout",
     "output_type": "stream",
     "text": [
      "[0, 11, 8, 10, 6, 0, 5, 0, 8, 8, 4, 4, 4, 5, 11, 7, 8, 4, 8, 11, 0, 9, 8, 7, 10, 9, 11, 9, 1, 9]\n",
      "[ 1.62751681  1.82149288  2.35843555  2.03473744  2.35843555 -0.90304725\n",
      " -0.99733072 -0.76239997 -0.776005   -0.41544904 -0.38309672 -0.24263514\n",
      " -0.53350284 -0.41544904 -0.75401715 -0.98806646 -1.06908978 -1.19053808\n",
      " -1.0046019  -0.93265539 -0.41799188 -0.14369341  0.15162311  0.58233833\n",
      "  0.89705874  1.46312064  1.94331424  2.35843579  1.94331424  2.35843579]\n",
      " 1/20 [>.............................] - ETA: 0s - loss: 1.0420 - value_loss: 0.1033 - policy_loss: 0.9387 - policy_acc: 0.5078"
     ]
    },
    {
     "name": "stderr",
     "output_type": "stream",
     "text": [
      "\n"
     ]
    },
    {
     "name": "stdout",
     "output_type": "stream",
     "text": [
      "20/20 [==============================] - 0s 11ms/step - loss: 0.8395 - value_loss: 0.1078 - policy_loss: 0.7317 - policy_acc: 0.5812\n",
      "30/30 [==============================] - 0s 13ms/step\n"
     ]
    },
    {
     "name": "stderr",
     "output_type": "stream",
     "text": [
      "2500it [00:00, 106373.42it/s]"
     ]
    },
    {
     "name": "stdout",
     "output_type": "stream",
     "text": [
      "[0, 11, 8, 2, 6, 3, 11, 0, 0, 8, 4, 4, 4, 4, 4, 7, 8, 4, 8, 4, 0, 8, 8, 11, 10, 9, 11, 9, 1, 9]\n",
      "[ 1.51062321  2.01105347  2.30156643  2.01105347  2.30156643 -0.86558912\n",
      " -1.08200828 -0.72983976 -0.85746099 -0.46295794 -0.33552937 -0.21419901\n",
      " -0.43361023 -0.22388165 -0.73433991 -1.01439591 -1.08212405 -1.13491176\n",
      " -1.06441077 -1.01987465 -0.45829305 -0.12228099  0.17529105  0.46810607\n",
      "  0.95691076  1.49297603  1.86987323  2.3015662   1.86987323  2.3015662 ]\n",
      " 6/20 [========>.....................] - ETA: 0s - loss: 0.8442 - value_loss: 0.1378 - policy_loss: 0.7064 - policy_acc: 0.6146"
     ]
    },
    {
     "name": "stderr",
     "output_type": "stream",
     "text": [
      "\n"
     ]
    },
    {
     "name": "stdout",
     "output_type": "stream",
     "text": [
      "20/20 [==============================] - 0s 10ms/step - loss: 0.8102 - value_loss: 0.1273 - policy_loss: 0.6829 - policy_acc: 0.6096\n"
     ]
    },
    {
     "name": "stderr",
     "output_type": "stream",
     "text": [
      "100%|██████████| 100/100 [00:06<00:00, 15.81it/s]\n",
      "100%|██████████| 2500/2500 [01:07<00:00, 37.05it/s]\n"
     ]
    },
    {
     "name": "stdout",
     "output_type": "stream",
     "text": [
      "30/30 [==============================] - 1s 22ms/step\n"
     ]
    },
    {
     "name": "stderr",
     "output_type": "stream",
     "text": [
      "2500it [00:00, 95672.12it/s]"
     ]
    },
    {
     "name": "stdout",
     "output_type": "stream",
     "text": [
      "[9, 10, 10, 3, 3, 4, 7, 4, 7, 10, 7, 7, 11, 8, 4, 4, 10, 9, 5, 5, 2, 5, 9, 7, 4, 9, 9, 4, 4, 8]\n",
      "[ 0.60438528  0.76191261  1.35751294  1.94248877  2.3357109  -0.86075716\n",
      " -0.70012212 -0.86075716 -0.25220691  0.05387582 -0.25220691 -0.05882094\n",
      " -0.10855136 -0.05882094 -0.28770884 -0.24979743  0.03880692  0.32705293\n",
      "  0.01188687 -0.46992551 -0.27197724  0.41967245  0.90091743  1.38405098\n",
      "  1.78017837  1.38405098  1.27643162  1.53634454  1.78017837  2.3357116 ]\n",
      " 5/20 [======>.......................] - ETA: 0s - loss: 1.0570 - value_loss: 0.1744 - policy_loss: 0.8826 - policy_acc: 0.4953"
     ]
    },
    {
     "name": "stderr",
     "output_type": "stream",
     "text": [
      "\n"
     ]
    },
    {
     "name": "stdout",
     "output_type": "stream",
     "text": [
      "20/20 [==============================] - 0s 12ms/step - loss: 1.0124 - value_loss: 0.1682 - policy_loss: 0.8442 - policy_acc: 0.4988\n",
      "30/30 [==============================] - 1s 21ms/step\n"
     ]
    },
    {
     "name": "stderr",
     "output_type": "stream",
     "text": [
      "2500it [00:00, 84558.49it/s]"
     ]
    },
    {
     "name": "stdout",
     "output_type": "stream",
     "text": [
      "[9, 10, 10, 3, 3, 9, 9, 9, 7, 10, 7, 7, 0, 8, 4, 4, 9, 9, 5, 5, 2, 5, 9, 7, 4, 9, 9, 4, 4, 8]\n",
      "[ 0.52846755  0.86098825  1.49381173  1.91378279  2.4094855  -0.95540318\n",
      " -0.79020692 -0.95540318 -0.33094143 -0.0188251  -0.33094143 -0.16272621\n",
      " -0.19178315 -0.16272621 -0.4126112  -0.38699468 -0.00375908  0.38990863\n",
      " -0.06519958 -0.58917737 -0.27834095  0.26221902  0.95901962  1.3695888\n",
      "  1.81810699  1.3695888   1.23599079  1.48804972  1.81810699  2.40948527]\n",
      " 6/20 [========>.....................] - ETA: 0s - loss: 0.9901 - value_loss: 0.1878 - policy_loss: 0.8023 - policy_acc: 0.5339"
     ]
    },
    {
     "name": "stderr",
     "output_type": "stream",
     "text": [
      "\n"
     ]
    },
    {
     "name": "stdout",
     "output_type": "stream",
     "text": [
      "20/20 [==============================] - 0s 12ms/step - loss: 0.9576 - value_loss: 0.1650 - policy_loss: 0.7926 - policy_acc: 0.5340\n",
      "30/30 [==============================] - 1s 20ms/step\n"
     ]
    },
    {
     "name": "stderr",
     "output_type": "stream",
     "text": [
      "2500it [00:00, 94313.37it/s]"
     ]
    },
    {
     "name": "stdout",
     "output_type": "stream",
     "text": [
      "[9, 8, 10, 3, 3, 4, 7, 4, 7, 8, 7, 7, 6, 8, 10, 6, 9, 9, 5, 5, 2, 5, 9, 7, 4, 9, 9, 2, 4, 8]\n",
      "[ 0.44568899  0.81855977  1.20269832  1.75614114  2.34276178 -0.94130581\n",
      " -0.77814742 -0.94130581 -0.45963211 -0.12898196 -0.45963211 -0.30696835\n",
      " -0.19147211 -0.30696835 -0.4511928  -0.40718482  0.15162663  0.43792978\n",
      " -0.00581995 -0.6270011  -0.26595435  0.31541542  1.04090139  1.53844538\n",
      "  1.93210659  1.53844538  1.41734902  1.53844538  1.93210659  2.34276109]\n",
      " 1/20 [>.............................] - ETA: 0s - loss: 0.8379 - value_loss: 0.1282 - policy_loss: 0.7097 - policy_acc: 0.5469"
     ]
    },
    {
     "name": "stderr",
     "output_type": "stream",
     "text": [
      "\n"
     ]
    },
    {
     "name": "stdout",
     "output_type": "stream",
     "text": [
      "20/20 [==============================] - 0s 12ms/step - loss: 0.8553 - value_loss: 0.1264 - policy_loss: 0.7289 - policy_acc: 0.5624\n",
      "30/30 [==============================] - 0s 16ms/step\n"
     ]
    },
    {
     "name": "stderr",
     "output_type": "stream",
     "text": [
      "2500it [00:00, 131571.97it/s]"
     ]
    },
    {
     "name": "stdout",
     "output_type": "stream",
     "text": [
      "[3, 8, 10, 2, 3, 4, 7, 4, 7, 10, 7, 7, 6, 0, 10, 6, 9, 9, 5, 5, 2, 5, 9, 7, 4, 9, 9, 4, 4, 8]\n",
      "[ 0.48535383  0.94400092  1.63635253  2.07470279  2.29494255 -1.00028432\n",
      " -0.83721411 -1.00028432 -0.52322078 -0.1318173  -0.52322078 -0.34937528\n",
      " -0.13790555 -0.27300741 -0.44351831 -0.32445507  0.17167155  0.37160988\n",
      " -0.01069574 -0.62847094 -0.2613937   0.35989737  1.03667271  1.28624895\n",
      "  1.66187558  1.28624895  1.4185072   1.46287341  1.66187558  2.29494231]\n",
      " 6/20 [========>.....................] - ETA: 0s - loss: 0.8002 - value_loss: 0.1176 - policy_loss: 0.6826 - policy_acc: 0.5664"
     ]
    },
    {
     "name": "stderr",
     "output_type": "stream",
     "text": [
      "\n"
     ]
    },
    {
     "name": "stdout",
     "output_type": "stream",
     "text": [
      "20/20 [==============================] - 0s 11ms/step - loss: 0.8128 - value_loss: 0.1145 - policy_loss: 0.6983 - policy_acc: 0.5780\n",
      "30/30 [==============================] - 0s 15ms/step\n"
     ]
    },
    {
     "name": "stderr",
     "output_type": "stream",
     "text": [
      "2500it [00:00, 125001.61it/s]"
     ]
    },
    {
     "name": "stdout",
     "output_type": "stream",
     "text": [
      "[3, 8, 10, 2, 3, 9, 7, 9, 7, 10, 7, 7, 6, 11, 4, 6, 9, 9, 5, 2, 2, 5, 9, 7, 4, 9, 9, 4, 4, 8]\n",
      "[ 0.4518754   0.89699003  1.63482079  1.9015206   2.3035979  -0.98804215\n",
      " -0.91079209 -0.98804215 -0.65944219 -0.25492086 -0.65944219 -0.46810518\n",
      " -0.26353009 -0.3356308  -0.52381032 -0.26348749  0.16245874  0.33260767\n",
      "  0.01391511 -0.64766427 -0.24821302  0.39641478  0.97736824  1.14888453\n",
      "  1.61118625  1.14888453  1.30068755  1.4404604   1.61118625  2.30359767]\n",
      " 6/20 [========>.....................] - ETA: 0s - loss: 0.8138 - value_loss: 0.1332 - policy_loss: 0.6807 - policy_acc: 0.6120"
     ]
    },
    {
     "name": "stderr",
     "output_type": "stream",
     "text": [
      "\n"
     ]
    },
    {
     "name": "stdout",
     "output_type": "stream",
     "text": [
      "20/20 [==============================] - 0s 11ms/step - loss: 0.7839 - value_loss: 0.1283 - policy_loss: 0.6556 - policy_acc: 0.6096\n",
      "30/30 [==============================] - 1s 21ms/step\n"
     ]
    },
    {
     "name": "stderr",
     "output_type": "stream",
     "text": [
      "2500it [00:00, 97213.69it/s]"
     ]
    },
    {
     "name": "stdout",
     "output_type": "stream",
     "text": [
      "[3, 8, 10, 3, 3, 9, 7, 9, 7, 8, 7, 7, 11, 11, 10, 6, 9, 9, 5, 4, 2, 5, 9, 7, 4, 8, 9, 4, 4, 8]\n",
      "[ 0.43518923  0.90879414  1.30172555  1.64450795  2.36656634 -1.02134159\n",
      " -0.82491014 -1.02134159 -0.66147552 -0.36239628 -0.66147552 -0.53854341\n",
      " -0.2964136  -0.32451771 -0.57917763 -0.10429389  0.24720287  0.27934994\n",
      "  0.00991516 -0.58336485 -0.27005918  0.41474756  0.87130744  1.04494137\n",
      "  1.64331846  1.07645569  1.37959224  1.46847516  1.64331846  2.36656657]\n",
      " 6/20 [========>.....................] - ETA: 0s - loss: 0.8451 - value_loss: 0.1349 - policy_loss: 0.7102 - policy_acc: 0.6211"
     ]
    },
    {
     "name": "stderr",
     "output_type": "stream",
     "text": [
      "\n"
     ]
    },
    {
     "name": "stdout",
     "output_type": "stream",
     "text": [
      "20/20 [==============================] - 0s 11ms/step - loss: 0.7960 - value_loss: 0.1294 - policy_loss: 0.6666 - policy_acc: 0.6264\n",
      "30/30 [==============================] - 0s 12ms/step\n"
     ]
    },
    {
     "name": "stderr",
     "output_type": "stream",
     "text": [
      "2500it [00:00, 113638.44it/s]"
     ]
    },
    {
     "name": "stdout",
     "output_type": "stream",
     "text": [
      "[3, 8, 10, 2, 3, 9, 7, 9, 7, 10, 7, 7, 6, 11, 4, 4, 9, 9, 5, 4, 2, 5, 9, 7, 4, 9, 9, 4, 4, 8]\n",
      "[ 0.3963765   0.82913014  1.44715977  1.83923186  2.39611142 -1.00960447\n",
      " -0.7918842  -1.00960447 -0.56136639 -0.2067843  -0.56136639 -0.43459148\n",
      " -0.25740993 -0.25440767 -0.483896   -0.25440767  0.16347479  0.30646072\n",
      " -0.08838673 -0.559163   -0.22413898  0.37299372  0.88215871  1.2596888\n",
      "  1.8990607   1.2596888   1.40131823  1.50499095  1.8990607   2.39611095]\n",
      " 6/20 [========>.....................] - ETA: 0s - loss: 0.7710 - value_loss: 0.1110 - policy_loss: 0.6600 - policy_acc: 0.6029"
     ]
    },
    {
     "name": "stderr",
     "output_type": "stream",
     "text": [
      "\n"
     ]
    },
    {
     "name": "stdout",
     "output_type": "stream",
     "text": [
      "20/20 [==============================] - 0s 11ms/step - loss: 0.7455 - value_loss: 0.1156 - policy_loss: 0.6299 - policy_acc: 0.6100\n",
      "30/30 [==============================] - 1s 20ms/step\n"
     ]
    },
    {
     "name": "stderr",
     "output_type": "stream",
     "text": [
      "2500it [00:00, 88367.37it/s]"
     ]
    },
    {
     "name": "stdout",
     "output_type": "stream",
     "text": [
      "[3, 8, 10, 3, 3, 9, 7, 9, 7, 10, 7, 7, 8, 11, 10, 4, 9, 9, 5, 4, 2, 5, 9, 7, 4, 9, 9, 4, 4, 8]\n",
      "[ 0.34420498  0.93262243  1.47675297  1.86187546  2.33682112 -1.02516377\n",
      " -0.75786257 -1.02516377 -0.59394193 -0.20422591 -0.59394193 -0.48920949\n",
      " -0.3747854  -0.2986933  -0.51374696 -0.2986933   0.12442705  0.387911\n",
      " -0.04135288 -0.5707361  -0.21831247  0.35194666  0.98646159  1.37428532\n",
      "  2.00652988  1.37428532  1.38319549  1.5924226   2.00652988  2.33682065]\n",
      " 1/20 [>.............................] - ETA: 0s - loss: 0.7827 - value_loss: 0.1333 - policy_loss: 0.6494 - policy_acc: 0.5703"
     ]
    },
    {
     "name": "stderr",
     "output_type": "stream",
     "text": [
      "\n"
     ]
    },
    {
     "name": "stdout",
     "output_type": "stream",
     "text": [
      "20/20 [==============================] - 0s 12ms/step - loss: 0.7474 - value_loss: 0.1202 - policy_loss: 0.6271 - policy_acc: 0.6140\n",
      "30/30 [==============================] - 1s 19ms/step\n"
     ]
    },
    {
     "name": "stderr",
     "output_type": "stream",
     "text": [
      "2500it [00:00, 104159.73it/s]"
     ]
    },
    {
     "name": "stdout",
     "output_type": "stream",
     "text": [
      "[3, 8, 10, 3, 3, 9, 7, 9, 7, 10, 7, 7, 6, 0, 4, 6, 9, 9, 5, 4, 2, 5, 9, 7, 4, 9, 9, 4, 4, 8]\n",
      "[ 0.31596512  0.88038887  1.45991313  1.90892923  2.23605998 -1.01927766\n",
      " -0.82639018 -1.01927766 -0.59055797 -0.18809271 -0.59055797 -0.46557875\n",
      " -0.37498832 -0.27093907 -0.50685854 -0.31619428  0.12613806  0.34780286\n",
      " -0.14782554 -0.57803358 -0.24805576  0.29321677  1.01754198  1.39415415\n",
      "  1.94062637  1.39415415  1.36829779  1.54185699  1.94062637  2.2360601 ]\n",
      " 1/20 [>.............................] - ETA: 0s - loss: 0.7240 - value_loss: 0.1109 - policy_loss: 0.6131 - policy_acc: 0.5781"
     ]
    },
    {
     "name": "stderr",
     "output_type": "stream",
     "text": [
      "\n"
     ]
    },
    {
     "name": "stdout",
     "output_type": "stream",
     "text": [
      "20/20 [==============================] - 0s 12ms/step - loss: 0.7164 - value_loss: 0.1130 - policy_loss: 0.6034 - policy_acc: 0.6284\n",
      "30/30 [==============================] - 1s 18ms/step\n"
     ]
    },
    {
     "name": "stderr",
     "output_type": "stream",
     "text": [
      "2500it [00:00, 72419.47it/s]"
     ]
    },
    {
     "name": "stdout",
     "output_type": "stream",
     "text": [
      "[3, 8, 10, 3, 3, 9, 7, 9, 7, 10, 7, 7, 5, 0, 4, 6, 9, 9, 5, 4, 2, 5, 9, 7, 4, 9, 9, 4, 4, 8]\n",
      "[ 0.43955904  1.1009852   1.50412437  1.79309702  2.27025331 -1.11276347\n",
      " -0.74970834 -1.11276347 -0.54288337 -0.22854242 -0.54288337 -0.51070573\n",
      " -0.32285361 -0.25150566 -0.53913551 -0.29582844  0.08886635  0.40571182\n",
      " -0.04943414 -0.59323993 -0.27557449  0.52138329  1.05334832  1.46841154\n",
      "  1.9537338   1.46841154  1.36270306  1.5675938   1.9537338   2.27025318]\n",
      " 5/20 [======>.......................] - ETA: 0s - loss: 0.7260 - value_loss: 0.1107 - policy_loss: 0.6154 - policy_acc: 0.6125"
     ]
    },
    {
     "name": "stderr",
     "output_type": "stream",
     "text": [
      "\n"
     ]
    },
    {
     "name": "stdout",
     "output_type": "stream",
     "text": [
      "20/20 [==============================] - 0s 11ms/step - loss: 0.7316 - value_loss: 0.1176 - policy_loss: 0.6141 - policy_acc: 0.6196\n",
      "30/30 [==============================] - 1s 17ms/step\n"
     ]
    },
    {
     "name": "stderr",
     "output_type": "stream",
     "text": [
      "2500it [00:00, 113631.05it/s]"
     ]
    },
    {
     "name": "stdout",
     "output_type": "stream",
     "text": [
      "[3, 8, 10, 3, 3, 9, 7, 9, 7, 10, 7, 7, 6, 0, 4, 6, 10, 9, 5, 5, 2, 5, 9, 7, 4, 9, 9, 4, 4, 8]\n",
      "[ 6.17160552e-01  1.29221170e+00  1.53851174e+00  1.85090311e+00\n",
      "  2.34359025e+00 -1.06358485e+00 -7.32666063e-01 -1.06358485e+00\n",
      " -6.09767929e-01 -3.28540478e-01 -6.09767929e-01 -5.45741143e-01\n",
      " -3.34079527e-01 -1.63634489e-01 -5.99855367e-01 -2.97263186e-01\n",
      "  7.49032881e-02  4.08374358e-01 -1.50149859e-03 -6.74743607e-01\n",
      " -2.29428960e-01  5.50596146e-01  1.06463378e+00  1.44344437e+00\n",
      "  1.86850282e+00  1.44344437e+00  1.33239084e+00  1.58079779e+00\n",
      "  1.86850282e+00  2.34359001e+00]\n",
      " 6/20 [========>.....................] - ETA: 0s - loss: 0.7686 - value_loss: 0.1462 - policy_loss: 0.6224 - policy_acc: 0.6146"
     ]
    },
    {
     "name": "stderr",
     "output_type": "stream",
     "text": [
      "\n"
     ]
    },
    {
     "name": "stdout",
     "output_type": "stream",
     "text": [
      "20/20 [==============================] - 0s 11ms/step - loss: 0.7258 - value_loss: 0.1293 - policy_loss: 0.5965 - policy_acc: 0.6364\n",
      "30/30 [==============================] - 1s 19ms/step\n"
     ]
    },
    {
     "name": "stderr",
     "output_type": "stream",
     "text": [
      "2500it [00:00, 66750.87it/s]"
     ]
    },
    {
     "name": "stdout",
     "output_type": "stream",
     "text": [
      "[3, 8, 10, 3, 3, 9, 7, 9, 7, 10, 7, 7, 5, 0, 4, 4, 9, 9, 5, 4, 2, 5, 9, 7, 4, 9, 9, 4, 4, 8]\n",
      "[ 0.57130904  1.09006275  1.37481865  1.8474652   2.42838581 -1.065408\n",
      " -0.66125332 -1.065408   -0.63916413 -0.32228959 -0.63916413 -0.46277125\n",
      " -0.26071845 -0.1508479  -0.51945943 -0.25348544  0.0156937   0.40965528\n",
      " -0.01086035 -0.61676328 -0.13774222  0.53789549  0.96484172  1.4763091\n",
      "  1.86540018  1.4763091   1.33801714  1.51243343  1.86540018  2.42838629]\n",
      " 1/20 [>.............................] - ETA: 0s - loss: 0.7207 - value_loss: 0.1351 - policy_loss: 0.5856 - policy_acc: 0.6719"
     ]
    },
    {
     "name": "stderr",
     "output_type": "stream",
     "text": [
      "\n"
     ]
    },
    {
     "name": "stdout",
     "output_type": "stream",
     "text": [
      "20/20 [==============================] - 0s 13ms/step - loss: 0.6899 - value_loss: 0.1079 - policy_loss: 0.5820 - policy_acc: 0.6480\n",
      "30/30 [==============================] - 1s 21ms/step\n"
     ]
    },
    {
     "name": "stderr",
     "output_type": "stream",
     "text": [
      "2500it [00:00, 108009.31it/s]"
     ]
    },
    {
     "name": "stdout",
     "output_type": "stream",
     "text": [
      "[3, 10, 10, 2, 3, 9, 7, 9, 7, 10, 7, 7, 5, 6, 10, 6, 9, 9, 5, 4, 2, 5, 9, 7, 4, 9, 9, 4, 4, 8]\n",
      "[ 0.51134043  0.98138904  1.48201497  2.00448567  2.45007531 -1.06635215\n",
      " -0.70596218 -1.06635215 -0.76385579 -0.36537362 -0.76385579 -0.55896379\n",
      " -0.3529004  -0.2507415  -0.59716083 -0.28380511  0.11406574  0.45609512\n",
      " -0.00511493 -0.5067456  -0.06944271  0.43010048  1.04839336  1.49220077\n",
      "  1.85512576  1.49220077  1.38554596  1.57296898  1.85512576  2.45007486]\n",
      " 6/20 [========>.....................] - ETA: 0s - loss: 0.7078 - value_loss: 0.1210 - policy_loss: 0.5868 - policy_acc: 0.6419"
     ]
    },
    {
     "name": "stderr",
     "output_type": "stream",
     "text": [
      "\n"
     ]
    },
    {
     "name": "stdout",
     "output_type": "stream",
     "text": [
      "20/20 [==============================] - 0s 11ms/step - loss: 0.7032 - value_loss: 0.1401 - policy_loss: 0.5631 - policy_acc: 0.6584\n",
      "30/30 [==============================] - 0s 14ms/step\n"
     ]
    },
    {
     "name": "stderr",
     "output_type": "stream",
     "text": [
      "2500it [00:00, 113637.21it/s]"
     ]
    },
    {
     "name": "stdout",
     "output_type": "stream",
     "text": [
      "[3, 8, 10, 2, 3, 9, 7, 9, 7, 10, 7, 7, 6, 0, 10, 6, 10, 9, 5, 4, 2, 5, 9, 7, 4, 9, 9, 2, 4, 8]\n",
      "[ 0.55582131  0.96220112  1.42711427  1.92548502  2.44774198 -1.08749628\n",
      " -0.80688508 -1.08749628 -0.7535815  -0.36265852 -0.7535815  -0.52994486\n",
      " -0.30406523 -0.25774871 -0.55934606 -0.21887688  0.16643637  0.46396169\n",
      "  0.07171392 -0.46143551 -0.03757749  0.60993886  1.12736501  1.62117651\n",
      "  2.16357288  1.62117651  1.31386504  1.62117651  2.16357288  2.44774198]\n",
      " 6/20 [========>.....................] - ETA: 0s - loss: 0.6748 - value_loss: 0.1402 - policy_loss: 0.5345 - policy_acc: 0.6549"
     ]
    },
    {
     "name": "stderr",
     "output_type": "stream",
     "text": [
      "\n"
     ]
    },
    {
     "name": "stdout",
     "output_type": "stream",
     "text": [
      "20/20 [==============================] - 0s 11ms/step - loss: 0.6552 - value_loss: 0.1225 - policy_loss: 0.5326 - policy_acc: 0.6776\n",
      "30/30 [==============================] - 1s 18ms/step\n"
     ]
    },
    {
     "name": "stderr",
     "output_type": "stream",
     "text": [
      "2500it [00:00, 104168.01it/s]"
     ]
    },
    {
     "name": "stdout",
     "output_type": "stream",
     "text": [
      "[3, 10, 10, 2, 3, 9, 7, 9, 7, 10, 7, 7, 6, 0, 4, 6, 2, 9, 5, 4, 2, 5, 9, 7, 4, 9, 9, 2, 4, 8]\n",
      "[ 0.63010955  0.97294904  1.4064079   2.00813004  2.43791837 -1.09735382\n",
      " -0.73683363 -1.09735382 -0.72177403 -0.31833453 -0.72177403 -0.46363809\n",
      " -0.31239441 -0.25732919 -0.56052391 -0.29780118  0.15680278  0.46666963\n",
      "  0.15680278 -0.60137709 -0.21147616  0.61340622  1.07775505  1.59528774\n",
      "  2.02584691  1.59528774  1.25341105  1.59528774  2.02584691  2.4379186 ]\n",
      " 6/20 [========>.....................] - ETA: 0s - loss: 0.6875 - value_loss: 0.1041 - policy_loss: 0.5834 - policy_acc: 0.6549"
     ]
    },
    {
     "name": "stderr",
     "output_type": "stream",
     "text": [
      "\n"
     ]
    },
    {
     "name": "stdout",
     "output_type": "stream",
     "text": [
      "20/20 [==============================] - 0s 11ms/step - loss: 0.6432 - value_loss: 0.1003 - policy_loss: 0.5429 - policy_acc: 0.6736\n",
      "30/30 [==============================] - 1s 17ms/step\n"
     ]
    },
    {
     "name": "stderr",
     "output_type": "stream",
     "text": [
      "2500it [00:00, 106336.74it/s]"
     ]
    },
    {
     "name": "stdout",
     "output_type": "stream",
     "text": [
      "[3, 10, 10, 3, 3, 9, 7, 9, 7, 10, 7, 7, 6, 0, 10, 6, 10, 9, 5, 4, 2, 5, 9, 7, 4, 9, 9, 2, 4, 8]\n",
      "[ 0.54137122  0.97319471  1.57554207  2.15821782  2.39135547 -1.11374705\n",
      " -0.69779473 -1.11374705 -0.80621664 -0.39151822 -0.80621664 -0.5577258\n",
      " -0.2799824  -0.26415893 -0.59965137 -0.2767102   0.16199996  0.51272031\n",
      "  0.15186792 -0.59559822 -0.17777175  0.62347798  1.15914872  1.67575697\n",
      "  1.84355045  1.67575697  1.36510021  1.67575697  1.84355045  2.39135524]\n",
      " 1/20 [>.............................] - ETA: 0s - loss: 0.6988 - value_loss: 0.1515 - policy_loss: 0.5472 - policy_acc: 0.6719"
     ]
    },
    {
     "name": "stderr",
     "output_type": "stream",
     "text": [
      "\n"
     ]
    },
    {
     "name": "stdout",
     "output_type": "stream",
     "text": [
      "20/20 [==============================] - 0s 11ms/step - loss: 0.6815 - value_loss: 0.1182 - policy_loss: 0.5632 - policy_acc: 0.6664\n",
      "30/30 [==============================] - 0s 15ms/step\n"
     ]
    },
    {
     "name": "stderr",
     "output_type": "stream",
     "text": [
      "2500it [00:00, 108694.52it/s]"
     ]
    },
    {
     "name": "stdout",
     "output_type": "stream",
     "text": [
      "[8, 8, 10, 2, 3, 7, 7, 7, 7, 10, 7, 7, 6, 0, 10, 6, 10, 4, 5, 10, 2, 5, 9, 7, 4, 9, 9, 4, 4, 8]\n",
      "[ 0.54815273  1.07662767  1.64994601  2.00034752  2.42649676 -1.1262405\n",
      " -0.59844323 -1.1262405  -0.74801128 -0.37276237 -0.74801128 -0.5169282\n",
      " -0.20027043 -0.22838671 -0.60958791 -0.26222678  0.25321177  0.42889221\n",
      "  0.11802283 -0.56787267 -0.12200948  0.64157188  1.09584405  1.43985888\n",
      "  1.9215981   1.43985888  1.14543138  1.5674981   1.9215981   2.42649722]\n",
      " 6/20 [========>.....................] - ETA: 0s - loss: 0.7330 - value_loss: 0.1010 - policy_loss: 0.6320 - policy_acc: 0.6471"
     ]
    },
    {
     "name": "stderr",
     "output_type": "stream",
     "text": [
      "\n"
     ]
    },
    {
     "name": "stdout",
     "output_type": "stream",
     "text": [
      "20/20 [==============================] - 0s 11ms/step - loss: 0.6784 - value_loss: 0.1039 - policy_loss: 0.5745 - policy_acc: 0.6736\n",
      "30/30 [==============================] - 1s 19ms/step\n"
     ]
    },
    {
     "name": "stderr",
     "output_type": "stream",
     "text": [
      "2500it [00:00, 111056.79it/s]"
     ]
    },
    {
     "name": "stdout",
     "output_type": "stream",
     "text": [
      "[3, 8, 10, 2, 3, 7, 7, 7, 7, 10, 7, 7, 5, 0, 10, 6, 10, 9, 5, 10, 2, 5, 9, 7, 4, 9, 9, 4, 4, 8]\n",
      "[ 0.62796975  1.22171233  1.62176263  2.0030854   2.40850597 -1.11624566\n",
      " -0.61414024 -1.11624566 -0.64280996 -0.28625914 -0.64280996 -0.42270382\n",
      " -0.20411688 -0.25131749 -0.51208264 -0.17713716  0.23521939  0.32900605\n",
      "  0.02832034 -0.52831912 -0.1024085   0.52741469  1.017521    1.40099268\n",
      "  1.92033017  1.40099268  1.27489246  1.56876695  1.92033017  2.40850619]\n",
      " 6/20 [========>.....................] - ETA: 0s - loss: 0.5946 - value_loss: 0.0909 - policy_loss: 0.5037 - policy_acc: 0.6875"
     ]
    },
    {
     "name": "stderr",
     "output_type": "stream",
     "text": [
      "\n"
     ]
    },
    {
     "name": "stdout",
     "output_type": "stream",
     "text": [
      "20/20 [==============================] - 0s 11ms/step - loss: 0.5990 - value_loss: 0.0989 - policy_loss: 0.5001 - policy_acc: 0.6968\n",
      "30/30 [==============================] - 1s 17ms/step\n"
     ]
    },
    {
     "name": "stderr",
     "output_type": "stream",
     "text": [
      "2500it [00:00, 100768.42it/s]"
     ]
    },
    {
     "name": "stdout",
     "output_type": "stream",
     "text": [
      "[3, 8, 10, 2, 3, 9, 7, 9, 7, 8, 7, 7, 5, 11, 10, 6, 2, 9, 5, 10, 2, 5, 9, 7, 4, 9, 9, 2, 4, 8]\n",
      "[ 0.69251751  1.2624526   1.39225193  1.90980604  2.30476121 -0.96709381\n",
      " -0.64380242 -0.96709381 -0.64152667 -0.29859926 -0.64152667 -0.46851991\n",
      " -0.23843106 -0.35236568 -0.62089962 -0.3089659   0.13609903  0.4323835\n",
      "  0.13609903 -0.53583735 -0.04391929  0.57864322  1.10328769  1.50415629\n",
      "  1.88449842  1.50415629  1.17959724  1.50415629  1.88449842  2.30476169]\n",
      " 6/20 [========>.....................] - ETA: 0s - loss: 0.6443 - value_loss: 0.1082 - policy_loss: 0.5361 - policy_acc: 0.6719"
     ]
    },
    {
     "name": "stderr",
     "output_type": "stream",
     "text": [
      "\n"
     ]
    },
    {
     "name": "stdout",
     "output_type": "stream",
     "text": [
      "20/20 [==============================] - 0s 11ms/step - loss: 0.6493 - value_loss: 0.1152 - policy_loss: 0.5340 - policy_acc: 0.6852\n",
      "30/30 [==============================] - 0s 16ms/step\n"
     ]
    },
    {
     "name": "stderr",
     "output_type": "stream",
     "text": [
      "2500it [00:00, 108695.64it/s]"
     ]
    },
    {
     "name": "stdout",
     "output_type": "stream",
     "text": [
      "[3, 8, 10, 3, 3, 9, 7, 9, 7, 8, 7, 4, 6, 6, 10, 6, 10, 9, 5, 10, 2, 5, 9, 7, 4, 9, 9, 2, 4, 8]\n",
      "[ 0.79098856  1.15177581  1.51717353  1.93563147  2.26773558 -0.97787\n",
      " -0.69070531 -0.97787    -0.66558813 -0.27066554 -0.66558813 -0.5274751\n",
      " -0.28023055 -0.36112892 -0.5680204  -0.19703193  0.1880501   0.43382593\n",
      "  0.14299116 -0.42216569  0.11175869  0.67306453  1.15948944  1.51154902\n",
      "  1.83098101  1.51154902  1.20616404  1.51154902  1.83098101  2.26773642]\n",
      " 6/20 [========>.....................] - ETA: 0s - loss: 0.6465 - value_loss: 0.1002 - policy_loss: 0.5463 - policy_acc: 0.6901"
     ]
    },
    {
     "name": "stderr",
     "output_type": "stream",
     "text": [
      "\n"
     ]
    },
    {
     "name": "stdout",
     "output_type": "stream",
     "text": [
      "20/20 [==============================] - 0s 11ms/step - loss: 0.6582 - value_loss: 0.1065 - policy_loss: 0.5516 - policy_acc: 0.6840\n"
     ]
    },
    {
     "name": "stderr",
     "output_type": "stream",
     "text": [
      "100%|██████████| 100/100 [00:06<00:00, 15.04it/s]\n",
      "100%|██████████| 2500/2500 [01:09<00:00, 36.09it/s]\n"
     ]
    },
    {
     "name": "stdout",
     "output_type": "stream",
     "text": [
      "30/30 [==============================] - 0s 13ms/step\n"
     ]
    },
    {
     "name": "stderr",
     "output_type": "stream",
     "text": [
      "2500it [00:00, 124980.75it/s]"
     ]
    },
    {
     "name": "stdout",
     "output_type": "stream",
     "text": [
      "[6, 10, 9, 9, 9, 7, 7, 8, 0, 7, 0, 9, 0, 11, 7, 0, 7, 4, 4, 4, 6, 2, 1, 10, 5, 5, 5, 5, 5, 3]\n",
      "[ 1.52742106  1.97903588  2.26123971  1.97903588  2.26123899 -0.6223454\n",
      " -0.47760413 -0.57779638 -1.10910215 -1.17768778 -0.55794081 -0.92528072\n",
      " -0.55794081 -1.21536076 -0.66534244 -0.22157911 -0.35657744 -0.38404423\n",
      " -0.09511969  0.03119154  0.27541378  0.68799301  1.07947122  1.13338245\n",
      "  1.07947122  0.71433416  1.07947122  1.6602406   1.96140118  2.26123899]\n",
      " 6/20 [========>.....................] - ETA: 0s - loss: 0.9043 - value_loss: 0.1434 - policy_loss: 0.7609 - policy_acc: 0.5469"
     ]
    },
    {
     "name": "stderr",
     "output_type": "stream",
     "text": [
      "\n"
     ]
    },
    {
     "name": "stdout",
     "output_type": "stream",
     "text": [
      "20/20 [==============================] - 0s 11ms/step - loss: 0.8783 - value_loss: 0.1502 - policy_loss: 0.7282 - policy_acc: 0.5440\n",
      "30/30 [==============================] - 0s 13ms/step\n"
     ]
    },
    {
     "name": "stderr",
     "output_type": "stream",
     "text": [
      "2500it [00:00, 130857.72it/s]"
     ]
    },
    {
     "name": "stdout",
     "output_type": "stream",
     "text": [
      "[6, 10, 9, 9, 9, 7, 7, 8, 7, 7, 0, 7, 0, 11, 11, 0, 7, 7, 4, 4, 4, 2, 1, 10, 5, 5, 5, 5, 5, 3]\n",
      "[ 1.53663805  1.89202054  2.28013752  1.89202054  2.28013752 -0.57163796\n",
      " -0.49925743 -0.56294004 -1.03624046 -1.00921368 -0.63475123 -0.88628019\n",
      " -0.63475123 -0.99044436 -0.60961125 -0.28789279 -0.37455201 -0.36482422\n",
      " -0.11033647 -0.06791907  0.18296654  0.50512001  0.97562145  1.0245182\n",
      "  0.97562145  0.55320604  0.97562145  1.64164966  1.88386965  2.28013752]\n",
      " 6/20 [========>.....................] - ETA: 0s - loss: 0.9498 - value_loss: 0.2032 - policy_loss: 0.7466 - policy_acc: 0.5508"
     ]
    },
    {
     "name": "stderr",
     "output_type": "stream",
     "text": [
      "\n"
     ]
    },
    {
     "name": "stdout",
     "output_type": "stream",
     "text": [
      "20/20 [==============================] - 0s 11ms/step - loss: 0.9256 - value_loss: 0.1856 - policy_loss: 0.7400 - policy_acc: 0.5612\n",
      "30/30 [==============================] - 0s 14ms/step\n"
     ]
    },
    {
     "name": "stderr",
     "output_type": "stream",
     "text": [
      "2500it [00:00, 75777.30it/s]"
     ]
    },
    {
     "name": "stdout",
     "output_type": "stream",
     "text": [
      "[6, 10, 9, 9, 9, 7, 7, 8, 0, 8, 0, 4, 0, 11, 7, 0, 7, 4, 4, 6, 4, 2, 1, 9, 5, 5, 5, 5, 5, 3]\n",
      "[ 1.58152154  1.94995322  2.37763087  1.94995322  2.37763029 -0.61794957\n",
      " -0.47558816 -0.56337557 -1.03689266 -1.0188272  -0.60742129 -0.93448954\n",
      " -0.60742129 -0.99528252 -0.58283474 -0.27456714 -0.46054138 -0.44198514\n",
      " -0.16797867 -0.09606598  0.15480992  0.60568754  1.01373251  1.0343947\n",
      "  1.01373251  0.66988778  1.01373251  1.63291907  1.80374284  2.37763029]\n",
      " 1/20 [>.............................] - ETA: 0s - loss: 0.7639 - value_loss: 0.2425 - policy_loss: 0.5215 - policy_acc: 0.6406"
     ]
    },
    {
     "name": "stderr",
     "output_type": "stream",
     "text": [
      "\n"
     ]
    },
    {
     "name": "stdout",
     "output_type": "stream",
     "text": [
      "20/20 [==============================] - 0s 12ms/step - loss: 0.8210 - value_loss: 0.1576 - policy_loss: 0.6634 - policy_acc: 0.5924\n",
      "30/30 [==============================] - 0s 14ms/step\n"
     ]
    },
    {
     "name": "stderr",
     "output_type": "stream",
     "text": [
      "2500it [00:00, 113645.83it/s]"
     ]
    },
    {
     "name": "stdout",
     "output_type": "stream",
     "text": [
      "[6, 10, 9, 9, 9, 7, 7, 7, 10, 7, 0, 7, 0, 11, 7, 0, 7, 7, 4, 4, 4, 2, 1, 10, 9, 5, 9, 5, 5, 3]\n",
      "[ 1.42948882  1.96263503  2.45356087  1.96263503  2.45356087 -0.60378647\n",
      " -0.39725154 -0.51301149 -0.93724875 -0.93058816 -0.58024331 -0.82554977\n",
      " -0.58024331 -0.89583614 -0.47307457 -0.29925499 -0.43992039 -0.50675672\n",
      " -0.26369039 -0.13079035  0.20023913  0.58662879  0.92079188  0.99398276\n",
      "  0.98859743  0.66148253  0.98859743  1.53865025  1.92194688  2.45356087]\n",
      " 6/20 [========>.....................] - ETA: 0s - loss: 0.7617 - value_loss: 0.1229 - policy_loss: 0.6389 - policy_acc: 0.6198"
     ]
    },
    {
     "name": "stderr",
     "output_type": "stream",
     "text": [
      "\n"
     ]
    },
    {
     "name": "stdout",
     "output_type": "stream",
     "text": [
      "20/20 [==============================] - 0s 10ms/step - loss: 0.7344 - value_loss: 0.1156 - policy_loss: 0.6188 - policy_acc: 0.6156\n",
      "30/30 [==============================] - 0s 15ms/step\n"
     ]
    },
    {
     "name": "stderr",
     "output_type": "stream",
     "text": [
      "2500it [00:00, 108692.26it/s]"
     ]
    },
    {
     "name": "stdout",
     "output_type": "stream",
     "text": [
      "[6, 10, 9, 3, 9, 7, 7, 7, 10, 8, 0, 4, 0, 11, 7, 0, 7, 4, 3, 6, 6, 2, 1, 10, 9, 5, 9, 5, 5, 3]\n",
      "[ 1.42388706  1.89914433  2.45434872  1.97910275  2.4543485  -0.62233697\n",
      " -0.40397942 -0.49084639 -0.91700777 -0.91330793 -0.59531432 -0.8028748\n",
      " -0.59531432 -0.89008442 -0.50407175 -0.32918475 -0.48201014 -0.49413054\n",
      " -0.2744082  -0.10849289  0.18865751  0.53627549  0.87054179  0.96157494\n",
      "  1.04619722  0.62891669  1.04619722  1.50335916  1.97910253  2.4543485 ]\n",
      " 6/20 [========>.....................] - ETA: 0s - loss: 0.7722 - value_loss: 0.1280 - policy_loss: 0.6442 - policy_acc: 0.6172"
     ]
    },
    {
     "name": "stderr",
     "output_type": "stream",
     "text": [
      "\n"
     ]
    },
    {
     "name": "stdout",
     "output_type": "stream",
     "text": [
      "20/20 [==============================] - 0s 11ms/step - loss: 0.7605 - value_loss: 0.1179 - policy_loss: 0.6427 - policy_acc: 0.6124\n",
      "30/30 [==============================] - 0s 14ms/step\n"
     ]
    },
    {
     "name": "stderr",
     "output_type": "stream",
     "text": [
      "2500it [00:00, 106332.43it/s]"
     ]
    },
    {
     "name": "stdout",
     "output_type": "stream",
     "text": [
      "[6, 10, 9, 3, 9, 7, 7, 7, 0, 8, 0, 4, 0, 11, 7, 0, 6, 4, 4, 6, 4, 2, 1, 10, 9, 5, 9, 10, 5, 3]\n",
      "[ 1.48191028  1.93080854  2.39577712  1.93977864  2.39577712 -0.7797942\n",
      " -0.50497451 -0.46149933 -0.83066623 -0.9889663  -0.62026603 -0.81657917\n",
      " -0.62026603 -0.9456676  -0.66395878 -0.26472934 -0.57135978 -0.40177483\n",
      " -0.2750842  -0.18226824  0.18825147  0.55381305  0.87445961  0.98043443\n",
      "  1.06157227  0.66133084  1.06157227  1.58336679  1.93977887  2.39577712]\n",
      " 6/20 [========>.....................] - ETA: 0s - loss: 0.7204 - value_loss: 0.1303 - policy_loss: 0.5901 - policy_acc: 0.6003"
     ]
    },
    {
     "name": "stderr",
     "output_type": "stream",
     "text": [
      "\n"
     ]
    },
    {
     "name": "stdout",
     "output_type": "stream",
     "text": [
      "20/20 [==============================] - 0s 10ms/step - loss: 0.7719 - value_loss: 0.1451 - policy_loss: 0.6268 - policy_acc: 0.6172\n",
      "30/30 [==============================] - 1s 19ms/step\n"
     ]
    },
    {
     "name": "stderr",
     "output_type": "stream",
     "text": [
      "2500it [00:00, 86119.68it/s]"
     ]
    },
    {
     "name": "stdout",
     "output_type": "stream",
     "text": [
      "[6, 10, 9, 9, 9, 7, 7, 7, 0, 5, 0, 4, 0, 2, 7, 0, 7, 4, 4, 4, 6, 2, 1, 10, 9, 11, 9, 10, 5, 3]\n",
      "[ 1.44101175  1.91607881  2.36860669  1.91607881  2.36860646 -0.79691451\n",
      " -0.4630406  -0.52906575 -0.87145761 -1.043418   -0.6716486  -0.82607587\n",
      " -0.6716486  -1.0446236  -0.70331794 -0.31867564 -0.72298352 -0.443227\n",
      " -0.27656985 -0.21742503  0.14849552  0.59905174  0.76053935  0.89369208\n",
      "  0.76664311  0.65332478  0.76664311  1.42747056  1.72965011  2.36860646]\n",
      " 6/20 [========>.....................] - ETA: 0s - loss: 0.7812 - value_loss: 0.1261 - policy_loss: 0.6551 - policy_acc: 0.6328"
     ]
    },
    {
     "name": "stderr",
     "output_type": "stream",
     "text": [
      "\n"
     ]
    },
    {
     "name": "stdout",
     "output_type": "stream",
     "text": [
      "20/20 [==============================] - 0s 11ms/step - loss: 0.7510 - value_loss: 0.1210 - policy_loss: 0.6301 - policy_acc: 0.6208\n",
      "30/30 [==============================] - 1s 18ms/step\n"
     ]
    },
    {
     "name": "stderr",
     "output_type": "stream",
     "text": [
      "2500it [00:00, 113637.21it/s]"
     ]
    },
    {
     "name": "stdout",
     "output_type": "stream",
     "text": [
      "[6, 10, 9, 9, 9, 7, 7, 7, 0, 10, 10, 4, 10, 10, 2, 0, 6, 4, 4, 6, 4, 2, 1, 10, 9, 10, 9, 10, 5, 3]\n",
      "[ 1.24948216  1.86186675  2.40040464  1.86186675  2.40040464 -0.92702952\n",
      " -0.58438774 -0.59175471 -0.83362805 -1.02364471 -0.66766286 -0.81021044\n",
      " -0.66766286 -1.04915346 -0.73715825 -0.31726027 -0.67018483 -0.4853357\n",
      " -0.35194513 -0.31747748  0.10353577  0.42503628  0.53370662  0.84982218\n",
      "  0.5932672   0.34225234  0.5932672   1.26778958  1.63981194  2.40040464]\n",
      " 6/20 [========>.....................] - ETA: 0s - loss: 0.7749 - value_loss: 0.1178 - policy_loss: 0.6571 - policy_acc: 0.6133"
     ]
    },
    {
     "name": "stderr",
     "output_type": "stream",
     "text": [
      "\n"
     ]
    },
    {
     "name": "stdout",
     "output_type": "stream",
     "text": [
      "20/20 [==============================] - 0s 11ms/step - loss: 0.7160 - value_loss: 0.1145 - policy_loss: 0.6015 - policy_acc: 0.6176\n",
      "30/30 [==============================] - 1s 17ms/step\n"
     ]
    },
    {
     "name": "stderr",
     "output_type": "stream",
     "text": [
      "2500it [00:00, 110893.54it/s]"
     ]
    },
    {
     "name": "stdout",
     "output_type": "stream",
     "text": [
      "[6, 10, 9, 3, 9, 7, 7, 7, 0, 5, 10, 4, 10, 2, 2, 0, 6, 4, 4, 6, 4, 2, 1, 10, 9, 10, 9, 5, 5, 3]\n",
      "[ 1.46966388  1.92104693  2.37489501  1.97825639  2.37489524 -0.92401088\n",
      " -0.55994925 -0.59689046 -0.95950545 -0.98995955 -0.75607504 -0.91941708\n",
      " -0.75607504 -1.05841352 -0.75991794 -0.41617628 -0.67246975 -0.44253835\n",
      " -0.26887372 -0.27859042  0.16355254  0.40865009  0.70077893  0.96315785\n",
      "  0.71967302  0.37229094  0.71967302  1.49624745  1.97825593  2.37489524]\n",
      " 6/20 [========>.....................] - ETA: 0s - loss: 0.7377 - value_loss: 0.0934 - policy_loss: 0.6443 - policy_acc: 0.6003"
     ]
    },
    {
     "name": "stderr",
     "output_type": "stream",
     "text": [
      "\n"
     ]
    },
    {
     "name": "stdout",
     "output_type": "stream",
     "text": [
      "20/20 [==============================] - 0s 11ms/step - loss: 0.7183 - value_loss: 0.0972 - policy_loss: 0.6211 - policy_acc: 0.6228\n",
      "30/30 [==============================] - 0s 15ms/step\n"
     ]
    },
    {
     "name": "stderr",
     "output_type": "stream",
     "text": [
      "2500it [00:00, 124998.63it/s]"
     ]
    },
    {
     "name": "stdout",
     "output_type": "stream",
     "text": [
      "[6, 10, 9, 3, 9, 7, 7, 8, 0, 5, 0, 4, 0, 2, 7, 0, 7, 4, 4, 4, 4, 2, 1, 10, 9, 5, 9, 5, 5, 3]\n",
      "[ 1.49931283  1.97689411  2.33697569  1.99774635  2.33697615 -0.97999911\n",
      " -0.55356656 -0.5249386  -0.98091671 -1.02628296 -0.75405798 -0.87612276\n",
      " -0.75405798 -1.08805982 -0.77403442 -0.41679875 -0.78275165 -0.43005568\n",
      " -0.25758152 -0.3260377   0.11755715  0.45083612  0.71127138  0.9259949\n",
      "  0.89896184  0.44717718  0.89896184  1.48855847  1.99774681  2.33697615]\n",
      " 6/20 [========>.....................] - ETA: 0s - loss: 0.7309 - value_loss: 0.1132 - policy_loss: 0.6178 - policy_acc: 0.6224"
     ]
    },
    {
     "name": "stderr",
     "output_type": "stream",
     "text": [
      "\n"
     ]
    },
    {
     "name": "stdout",
     "output_type": "stream",
     "text": [
      "20/20 [==============================] - 0s 11ms/step - loss: 0.6876 - value_loss: 0.1098 - policy_loss: 0.5777 - policy_acc: 0.6348\n",
      "30/30 [==============================] - 0s 13ms/step\n"
     ]
    },
    {
     "name": "stderr",
     "output_type": "stream",
     "text": [
      "2500it [00:00, 104161.80it/s]"
     ]
    },
    {
     "name": "stdout",
     "output_type": "stream",
     "text": [
      "[6, 10, 9, 3, 9, 7, 7, 7, 0, 5, 0, 4, 0, 10, 7, 0, 6, 4, 4, 4, 4, 2, 1, 10, 9, 10, 9, 10, 5, 3]\n",
      "[ 1.35180935  1.8944416   2.31544386  1.94911528  2.3154441  -1.08128086\n",
      " -0.55749804 -0.47361555 -0.9190914  -1.08956724 -0.80443709 -0.86535145\n",
      " -0.80443709 -1.131048   -0.69967266 -0.4387606  -0.71949942 -0.35371832\n",
      " -0.10483919 -0.31215719  0.17706946  0.35119826  0.59738782  0.98722757\n",
      "  0.81432752  0.51581058  0.81432752  1.53113959  1.94911505  2.3154441 ]\n",
      " 1/20 [>.............................] - ETA: 0s - loss: 0.7768 - value_loss: 0.1286 - policy_loss: 0.6482 - policy_acc: 0.6875"
     ]
    },
    {
     "name": "stderr",
     "output_type": "stream",
     "text": [
      "\n"
     ]
    },
    {
     "name": "stdout",
     "output_type": "stream",
     "text": [
      "20/20 [==============================] - 0s 11ms/step - loss: 0.7085 - value_loss: 0.1149 - policy_loss: 0.5935 - policy_acc: 0.6320\n",
      "30/30 [==============================] - 0s 14ms/step\n"
     ]
    },
    {
     "name": "stderr",
     "output_type": "stream",
     "text": [
      "2500it [00:00, 135073.55it/s]"
     ]
    },
    {
     "name": "stdout",
     "output_type": "stream",
     "text": [
      "[6, 10, 9, 9, 9, 7, 7, 8, 0, 7, 0, 4, 0, 11, 11, 0, 6, 4, 4, 6, 4, 2, 1, 10, 9, 10, 9, 10, 5, 3]\n",
      "[ 1.49300769  1.97221702  2.23467733  1.97221702  2.23467733 -1.03573331\n",
      " -0.45498366 -0.49114498 -0.97817893 -1.05281146 -0.81293302 -0.87446411\n",
      " -0.81293302 -1.10008336 -0.75569913 -0.42973876 -0.66396446 -0.51558864\n",
      " -0.2111354  -0.24603675  0.17081534  0.29937321  0.68933912  0.90970908\n",
      "  0.79447878  0.53747043  0.79447878  1.48622142  1.83038398  2.23467733]\n",
      " 6/20 [========>.....................] - ETA: 0s - loss: 0.7366 - value_loss: 0.1077 - policy_loss: 0.6289 - policy_acc: 0.6146"
     ]
    },
    {
     "name": "stderr",
     "output_type": "stream",
     "text": [
      "\n"
     ]
    },
    {
     "name": "stdout",
     "output_type": "stream",
     "text": [
      "20/20 [==============================] - 0s 11ms/step - loss: 0.7167 - value_loss: 0.1060 - policy_loss: 0.6107 - policy_acc: 0.6332\n",
      "30/30 [==============================] - 0s 15ms/step\n"
     ]
    },
    {
     "name": "stderr",
     "output_type": "stream",
     "text": [
      "2500it [00:00, 67853.63it/s]"
     ]
    },
    {
     "name": "stdout",
     "output_type": "stream",
     "text": [
      "[6, 10, 9, 9, 9, 7, 7, 7, 0, 5, 0, 4, 0, 10, 7, 0, 6, 4, 4, 4, 6, 2, 1, 10, 5, 5, 5, 5, 5, 3]\n",
      "[ 1.67298791  1.86486921  2.16959542  1.86486921  2.16959578 -1.0621681\n",
      " -0.49723988 -0.52206385 -0.99077645 -1.17854869 -0.80118991 -0.85580665\n",
      " -0.80118991 -1.17849155 -0.7678756  -0.36308329 -0.70016894 -0.49823384\n",
      " -0.16760561 -0.26543616  0.19132446  0.54912305  0.85030639  1.01853901\n",
      "  0.85030639  0.64199567  0.85030639  1.52947494  1.82951035  2.16959578]\n",
      " 1/20 [>.............................] - ETA: 0s - loss: 0.6971 - value_loss: 0.1289 - policy_loss: 0.5683 - policy_acc: 0.6328"
     ]
    },
    {
     "name": "stderr",
     "output_type": "stream",
     "text": [
      "\n"
     ]
    },
    {
     "name": "stdout",
     "output_type": "stream",
     "text": [
      "20/20 [==============================] - 0s 12ms/step - loss: 0.6952 - value_loss: 0.1026 - policy_loss: 0.5926 - policy_acc: 0.6492\n",
      "30/30 [==============================] - 0s 15ms/step\n"
     ]
    },
    {
     "name": "stderr",
     "output_type": "stream",
     "text": [
      "2500it [00:00, 104155.59it/s]"
     ]
    },
    {
     "name": "stdout",
     "output_type": "stream",
     "text": [
      "[6, 10, 9, 3, 9, 7, 7, 8, 0, 7, 0, 4, 0, 10, 7, 0, 7, 4, 4, 4, 6, 2, 1, 10, 9, 5, 9, 5, 5, 3]\n",
      "[ 1.53793898  1.71329254  2.20102445  1.8564589   2.20102445 -0.9743891\n",
      " -0.42286198 -0.48393433 -0.97519207 -1.13143225 -0.76238816 -0.92386735\n",
      " -0.76238816 -1.16654992 -0.71164013 -0.35013677 -0.65568929 -0.54228915\n",
      " -0.24648785 -0.35677225  0.24405136  0.52445377  0.7737223   0.93744819\n",
      "  1.03765145  0.57843731  1.03765145  1.45945498  1.85645866  2.20102445]\n",
      " 6/20 [========>.....................] - ETA: 0s - loss: 0.6577 - value_loss: 0.0984 - policy_loss: 0.5593 - policy_acc: 0.6680"
     ]
    },
    {
     "name": "stderr",
     "output_type": "stream",
     "text": [
      "\n"
     ]
    },
    {
     "name": "stdout",
     "output_type": "stream",
     "text": [
      "20/20 [==============================] - 0s 11ms/step - loss: 0.6327 - value_loss: 0.0961 - policy_loss: 0.5365 - policy_acc: 0.6724\n",
      "30/30 [==============================] - 0s 15ms/step\n"
     ]
    },
    {
     "name": "stderr",
     "output_type": "stream",
     "text": [
      "2500it [00:00, 69598.37it/s]"
     ]
    },
    {
     "name": "stdout",
     "output_type": "stream",
     "text": [
      "[6, 10, 9, 9, 9, 7, 7, 8, 0, 5, 0, 4, 0, 10, 7, 0, 7, 4, 4, 6, 4, 2, 1, 10, 9, 5, 9, 10, 5, 3]\n",
      "[ 1.38617786  1.88818979  2.32630913  1.88818979  2.32630937 -0.93479697\n",
      " -0.4733598  -0.44816364 -0.93048486 -1.13426019 -0.79269676 -0.90165468\n",
      " -0.79269676 -1.13254433 -0.69322162 -0.37934612 -0.64527014 -0.50583016\n",
      " -0.20417987 -0.3670699   0.16984076  0.37456808  0.71050152  0.95385182\n",
      "  0.95402862  0.53233929  0.95402862  1.54225246  1.82857035  2.32630937]\n",
      " 1/20 [>.............................] - ETA: 0s - loss: 0.8473 - value_loss: 0.0755 - policy_loss: 0.7718 - policy_acc: 0.6016"
     ]
    },
    {
     "name": "stderr",
     "output_type": "stream",
     "text": [
      "\n"
     ]
    },
    {
     "name": "stdout",
     "output_type": "stream",
     "text": [
      "20/20 [==============================] - 0s 11ms/step - loss: 0.6465 - value_loss: 0.0962 - policy_loss: 0.5503 - policy_acc: 0.6748\n",
      "30/30 [==============================] - 0s 12ms/step\n"
     ]
    },
    {
     "name": "stderr",
     "output_type": "stream",
     "text": [
      "2500it [00:00, 108620.20it/s]"
     ]
    },
    {
     "name": "stdout",
     "output_type": "stream",
     "text": [
      "[6, 10, 9, 3, 9, 7, 7, 8, 0, 5, 0, 4, 0, 10, 7, 0, 6, 4, 4, 4, 4, 2, 1, 10, 9, 5, 9, 10, 5, 3]\n",
      "[ 1.39128579  1.85329625  2.31564461  1.87101276  2.31564509 -0.99958647\n",
      " -0.46887861 -0.42004579 -0.85235398 -1.15310247 -0.78508511 -0.82279195\n",
      " -0.78508511 -1.18638246 -0.76065812 -0.36232518 -0.66154211 -0.40095984\n",
      " -0.18568422 -0.39974124  0.04596212  0.33707006  0.69257406  0.94161048\n",
      "  0.98015135  0.67065098  0.98015135  1.55087936  1.87101349  2.31564509]\n",
      " 6/20 [========>.....................] - ETA: 0s - loss: 0.7081 - value_loss: 0.1255 - policy_loss: 0.5826 - policy_acc: 0.6667"
     ]
    },
    {
     "name": "stderr",
     "output_type": "stream",
     "text": [
      "\n"
     ]
    },
    {
     "name": "stdout",
     "output_type": "stream",
     "text": [
      "20/20 [==============================] - 0s 10ms/step - loss: 0.6852 - value_loss: 0.1363 - policy_loss: 0.5489 - policy_acc: 0.6748\n",
      "30/30 [==============================] - 0s 14ms/step\n"
     ]
    },
    {
     "name": "stderr",
     "output_type": "stream",
     "text": [
      "2500it [00:00, 86038.42it/s]"
     ]
    },
    {
     "name": "stdout",
     "output_type": "stream",
     "text": [
      "[6, 10, 9, 9, 9, 0, 7, 8, 0, 10, 10, 4, 10, 10, 11, 0, 6, 4, 4, 4, 4, 2, 1, 10, 10, 5, 10, 10, 5, 3]\n",
      "[ 1.21520741  1.93306644  2.3690125   1.93306644  2.36901273 -1.03026341\n",
      " -0.57129396 -0.50913162 -0.87375998 -1.0857208  -0.7798079  -0.79057106\n",
      " -0.7798079  -0.99612876 -0.63876737 -0.33045748 -0.6810764  -0.40288413\n",
      " -0.2074825  -0.40525836  0.06804621  0.34497769  0.5828237   0.95270585\n",
      "  0.78978393  0.53498967  0.78978393  1.39406676  1.78114701  2.36901273]\n",
      " 6/20 [========>.....................] - ETA: 0s - loss: 0.6525 - value_loss: 0.1224 - policy_loss: 0.5301 - policy_acc: 0.6927"
     ]
    },
    {
     "name": "stderr",
     "output_type": "stream",
     "text": [
      "\n"
     ]
    },
    {
     "name": "stdout",
     "output_type": "stream",
     "text": [
      "20/20 [==============================] - 0s 11ms/step - loss: 0.6363 - value_loss: 0.1125 - policy_loss: 0.5239 - policy_acc: 0.6796\n",
      "30/30 [==============================] - 0s 14ms/step\n"
     ]
    },
    {
     "name": "stderr",
     "output_type": "stream",
     "text": [
      "2500it [00:00, 104062.56it/s]"
     ]
    },
    {
     "name": "stdout",
     "output_type": "stream",
     "text": [
      "[6, 10, 9, 9, 9, 7, 7, 7, 0, 5, 0, 4, 0, 11, 11, 0, 7, 4, 4, 1, 6, 2, 1, 10, 9, 5, 9, 5, 5, 3]\n",
      "[ 1.55883881  1.97847726  2.35821715  1.97847726  2.35821715 -1.06446363\n",
      " -0.47283977 -0.45615045 -0.90148817 -1.07959923 -0.77691305 -0.90626607\n",
      " -0.77691305 -0.94831372 -0.67019207 -0.44893852 -0.72431363 -0.44745288\n",
      " -0.25101643 -0.42544336  0.06583076  0.34753748  0.68637594  0.98893074\n",
      "  0.87844231  0.60945708  0.87844231  1.45101915  1.90416621  2.35821715]\n",
      " 6/20 [========>.....................] - ETA: 0s - loss: 0.6451 - value_loss: 0.1043 - policy_loss: 0.5408 - policy_acc: 0.6602"
     ]
    },
    {
     "name": "stderr",
     "output_type": "stream",
     "text": [
      "\n"
     ]
    },
    {
     "name": "stdout",
     "output_type": "stream",
     "text": [
      "20/20 [==============================] - 0s 11ms/step - loss: 0.6306 - value_loss: 0.1088 - policy_loss: 0.5218 - policy_acc: 0.6764\n",
      "30/30 [==============================] - 0s 14ms/step\n"
     ]
    },
    {
     "name": "stderr",
     "output_type": "stream",
     "text": [
      "2500it [00:00, 66595.28it/s]"
     ]
    },
    {
     "name": "stdout",
     "output_type": "stream",
     "text": [
      "[6, 10, 9, 3, 9, 7, 7, 7, 0, 5, 0, 4, 0, 10, 7, 7, 7, 4, 4, 0, 4, 2, 1, 10, 9, 5, 9, 5, 5, 3]\n",
      "[ 1.64688234  1.90664902  2.31646819  1.96673693  2.31646831 -0.98021846\n",
      " -0.42065776 -0.44014405 -0.95292954 -1.02404137 -0.85959639 -0.95895301\n",
      " -0.85959639 -1.03441978 -0.61499633 -0.44265812 -0.69414938 -0.45902403\n",
      " -0.31427779 -0.40529909  0.09974527  0.40954812  0.67356146  1.0229107\n",
      "  0.91928452  0.54306842  0.91928452  1.4980587   1.96673669  2.31646831]\n",
      " 1/20 [>.............................] - ETA: 0s - loss: 0.6432 - value_loss: 0.0893 - policy_loss: 0.5538 - policy_acc: 0.6719"
     ]
    },
    {
     "name": "stderr",
     "output_type": "stream",
     "text": [
      "\n"
     ]
    },
    {
     "name": "stdout",
     "output_type": "stream",
     "text": [
      "20/20 [==============================] - 0s 11ms/step - loss: 0.6320 - value_loss: 0.0932 - policy_loss: 0.5387 - policy_acc: 0.6856\n",
      "30/30 [==============================] - 0s 14ms/step\n"
     ]
    },
    {
     "name": "stderr",
     "output_type": "stream",
     "text": [
      "2500it [00:00, 118956.30it/s]"
     ]
    },
    {
     "name": "stdout",
     "output_type": "stream",
     "text": [
      "[6, 10, 9, 9, 9, 7, 7, 7, 0, 5, 0, 4, 0, 10, 7, 0, 2, 4, 4, 6, 4, 2, 1, 10, 9, 5, 9, 10, 5, 3]\n",
      "[ 1.39428155  1.92617532  2.29562795  1.92617532  2.2956283  -0.99205434\n",
      " -0.47180449 -0.44241718 -0.89305884 -1.08577712 -0.88171305 -0.96087493\n",
      " -0.88171305 -1.05345774 -0.6581409  -0.41679732 -0.70898252 -0.48813445\n",
      " -0.3801388  -0.39911012  0.25528259  0.35765492  0.61284199  1.0127772\n",
      "  1.00888823  0.55279392  1.00888823  1.44084101  1.9050481   2.2956283 ]\n",
      " 6/20 [========>.....................] - ETA: 0s - loss: 0.7186 - value_loss: 0.0942 - policy_loss: 0.6244 - policy_acc: 0.6576"
     ]
    },
    {
     "name": "stderr",
     "output_type": "stream",
     "text": [
      "\n"
     ]
    },
    {
     "name": "stdout",
     "output_type": "stream",
     "text": [
      "20/20 [==============================] - 0s 10ms/step - loss: 0.6390 - value_loss: 0.0955 - policy_loss: 0.5435 - policy_acc: 0.6812\n"
     ]
    },
    {
     "name": "stderr",
     "output_type": "stream",
     "text": [
      "100%|██████████| 100/100 [00:06<00:00, 15.54it/s]\n",
      "100%|██████████| 2500/2500 [01:09<00:00, 35.76it/s]\n"
     ]
    },
    {
     "name": "stdout",
     "output_type": "stream",
     "text": [
      "30/30 [==============================] - 0s 16ms/step\n"
     ]
    },
    {
     "name": "stderr",
     "output_type": "stream",
     "text": [
      "2500it [00:00, 99919.57it/s]"
     ]
    },
    {
     "name": "stdout",
     "output_type": "stream",
     "text": [
      "[6, 2, 2, 2, 10, 2, 2, 3, 3, 4, 0, 6, 6, 5, 10, 2, 2, 10, 9, 9, 10, 5, 9, 9, 6, 11, 11, 6, 6, 11]\n",
      "[ 1.33479819e+00  1.64479621e+00  1.33479819e+00  1.64479621e+00\n",
      "  2.36072836e+00 -1.26404326e+00 -1.10214038e+00 -1.07466320e+00\n",
      " -9.07037268e-01 -9.13436728e-01 -8.31073748e-01 -8.10901172e-01\n",
      " -7.20964141e-01 -8.81079427e-01 -5.55805631e-01 -3.91582824e-01\n",
      " -8.72507390e-01 -7.16643579e-01 -9.40312877e-01 -5.70235740e-01\n",
      " -6.11501112e-02  1.58329028e-03  4.63047423e-01  7.34517509e-01\n",
      "  8.02026081e-01  7.34517509e-01  1.12363881e+00  1.34090711e+00\n",
      "  1.68484888e+00  2.36072836e+00]\n",
      " 6/20 [========>.....................] - ETA: 0s - loss: 0.9385 - value_loss: 0.1599 - policy_loss: 0.7786 - policy_acc: 0.5260"
     ]
    },
    {
     "name": "stderr",
     "output_type": "stream",
     "text": [
      "\n"
     ]
    },
    {
     "name": "stdout",
     "output_type": "stream",
     "text": [
      "20/20 [==============================] - 0s 11ms/step - loss: 0.9235 - value_loss: 0.1599 - policy_loss: 0.7635 - policy_acc: 0.5412\n",
      "30/30 [==============================] - 0s 16ms/step\n"
     ]
    },
    {
     "name": "stderr",
     "output_type": "stream",
     "text": [
      "2500it [00:00, 128060.97it/s]"
     ]
    },
    {
     "name": "stdout",
     "output_type": "stream",
     "text": [
      "[6, 2, 2, 2, 10, 2, 2, 3, 3, 4, 3, 8, 6, 1, 10, 2, 2, 10, 9, 9, 10, 5, 8, 9, 1, 11, 11, 6, 6, 11]\n",
      "[ 1.23743451  1.78618481  1.23743451  1.78618481  2.40099358 -1.27326208\n",
      " -0.99372997 -1.04195542 -0.96101285 -0.92529595 -0.77418678 -0.76650145\n",
      " -0.76596475 -0.94001392 -0.6723187  -0.37075052 -0.80748705 -0.66541915\n",
      " -0.81408444 -0.38636939  0.04712673  0.00446254  0.40883523  0.5642938\n",
      "  0.74860878  0.5642938   0.7824009   1.15363486  1.82684609  2.40099358]\n",
      " 6/20 [========>.....................] - ETA: 0s - loss: 0.8887 - value_loss: 0.1443 - policy_loss: 0.7444 - policy_acc: 0.5534"
     ]
    },
    {
     "name": "stderr",
     "output_type": "stream",
     "text": [
      "\n"
     ]
    },
    {
     "name": "stdout",
     "output_type": "stream",
     "text": [
      "20/20 [==============================] - 0s 11ms/step - loss: 0.8502 - value_loss: 0.1441 - policy_loss: 0.7061 - policy_acc: 0.5596\n",
      "30/30 [==============================] - 1s 16ms/step\n"
     ]
    },
    {
     "name": "stderr",
     "output_type": "stream",
     "text": [
      "2500it [00:00, 113548.61it/s]"
     ]
    },
    {
     "name": "stdout",
     "output_type": "stream",
     "text": [
      "[6, 2, 2, 2, 10, 7, 2, 3, 8, 4, 0, 8, 6, 1, 10, 2, 8, 5, 9, 9, 10, 5, 9, 9, 1, 11, 11, 6, 6, 11]\n",
      "[ 1.22147463  1.80229894  1.22147463  1.80229894  2.42602108 -1.21869773\n",
      " -0.91111412 -0.99000701 -0.87641008 -0.80697167 -0.7474478  -0.6880592\n",
      " -0.80393166 -0.88667095 -0.69541719 -0.39110347 -0.80064843 -0.7123308\n",
      " -0.80064843 -0.57639643 -0.15223567  0.00512118  0.32054245  0.54322421\n",
      "  0.83463841  0.54322421  0.60611693  1.17333378  1.76546666  2.42602108]\n",
      " 6/20 [========>.....................] - ETA: 0s - loss: 0.7365 - value_loss: 0.1213 - policy_loss: 0.6152 - policy_acc: 0.5951"
     ]
    },
    {
     "name": "stderr",
     "output_type": "stream",
     "text": [
      "\n"
     ]
    },
    {
     "name": "stdout",
     "output_type": "stream",
     "text": [
      "20/20 [==============================] - 0s 11ms/step - loss: 0.7264 - value_loss: 0.1104 - policy_loss: 0.6160 - policy_acc: 0.5936\n",
      "30/30 [==============================] - 1s 17ms/step\n"
     ]
    },
    {
     "name": "stderr",
     "output_type": "stream",
     "text": [
      "2500it [00:00, 96486.44it/s]"
     ]
    },
    {
     "name": "stdout",
     "output_type": "stream",
     "text": [
      "[6, 2, 2, 2, 10, 7, 2, 3, 8, 4, 0, 6, 6, 7, 10, 2, 8, 5, 9, 9, 5, 5, 9, 9, 1, 11, 11, 6, 6, 11]\n",
      "[ 1.28609571  1.81905106  1.28609571  1.81905106  2.44862949 -1.14572539\n",
      " -0.91720423 -0.90680015 -0.86170653 -0.79407379 -0.73550215 -0.75206485\n",
      " -0.78257645 -0.81753124 -0.67024915 -0.36424271 -0.80292469 -0.68094661\n",
      " -0.80292469 -0.57555155 -0.26463798 -0.05963261  0.34237675  0.59864022\n",
      "  0.88502327  0.59864022  0.58598934  1.19341967  1.84800576  2.44862949]\n",
      " 6/20 [========>.....................] - ETA: 0s - loss: 0.7660 - value_loss: 0.1067 - policy_loss: 0.6593 - policy_acc: 0.6003"
     ]
    },
    {
     "name": "stderr",
     "output_type": "stream",
     "text": [
      "\n"
     ]
    },
    {
     "name": "stdout",
     "output_type": "stream",
     "text": [
      "20/20 [==============================] - 0s 12ms/step - loss: 0.7393 - value_loss: 0.1090 - policy_loss: 0.6303 - policy_acc: 0.6076\n",
      "30/30 [==============================] - 1s 17ms/step\n"
     ]
    },
    {
     "name": "stderr",
     "output_type": "stream",
     "text": [
      "2500it [00:00, 99941.48it/s]"
     ]
    },
    {
     "name": "stdout",
     "output_type": "stream",
     "text": [
      "[6, 2, 2, 2, 10, 7, 2, 3, 4, 4, 0, 6, 6, 7, 10, 2, 8, 5, 9, 9, 5, 5, 8, 9, 1, 11, 11, 6, 6, 11]\n",
      "[ 1.19623763  1.7505219   1.19623763  1.7505219   2.39990651 -1.14744478\n",
      " -0.88828069 -0.88151253 -0.8942317  -0.81764945 -0.791003   -0.71437247\n",
      " -0.83116417 -0.88051069 -0.72311724 -0.37811963 -0.71874742 -0.63480915\n",
      " -0.71874742 -0.60308521 -0.23263738 -0.12094821  0.26998468  0.64663844\n",
      "  0.92002011  0.64663844  0.74614398  1.27945553  1.84504309  2.39990651]\n",
      " 6/20 [========>.....................] - ETA: 0s - loss: 0.7485 - value_loss: 0.1165 - policy_loss: 0.6320 - policy_acc: 0.5951"
     ]
    },
    {
     "name": "stderr",
     "output_type": "stream",
     "text": [
      "\n"
     ]
    },
    {
     "name": "stdout",
     "output_type": "stream",
     "text": [
      "20/20 [==============================] - 0s 11ms/step - loss: 0.7252 - value_loss: 0.1123 - policy_loss: 0.6129 - policy_acc: 0.6120\n",
      "30/30 [==============================] - 0s 15ms/step\n"
     ]
    },
    {
     "name": "stderr",
     "output_type": "stream",
     "text": [
      "2500it [00:00, 84679.36it/s]"
     ]
    },
    {
     "name": "stdout",
     "output_type": "stream",
     "text": [
      "[6, 2, 2, 2, 10, 7, 2, 3, 8, 4, 3, 8, 5, 1, 10, 2, 11, 5, 9, 9, 5, 5, 8, 9, 1, 1, 11, 1, 6, 11]\n",
      "[ 1.22708244  1.87957332  1.22708244  1.87957332  2.33662171 -1.11500376\n",
      " -0.86671782 -0.92444216 -0.87201969 -0.83322578 -0.81986648 -0.77318165\n",
      " -0.78132109 -0.8343465  -0.50376673 -0.349846   -0.78294877 -0.73853387\n",
      " -0.80604059 -0.69804328 -0.19179078 -0.08176543  0.37663649  0.54233262\n",
      "  0.79027266  0.55214329  0.79053493  1.23885214  1.90019842  2.33662171]\n",
      " 6/20 [========>.....................] - ETA: 0s - loss: 0.6911 - value_loss: 0.1050 - policy_loss: 0.5861 - policy_acc: 0.6016"
     ]
    },
    {
     "name": "stderr",
     "output_type": "stream",
     "text": [
      "\n"
     ]
    },
    {
     "name": "stdout",
     "output_type": "stream",
     "text": [
      "20/20 [==============================] - 0s 11ms/step - loss: 0.6840 - value_loss: 0.1048 - policy_loss: 0.5792 - policy_acc: 0.6180\n",
      "30/30 [==============================] - 0s 16ms/step\n"
     ]
    },
    {
     "name": "stderr",
     "output_type": "stream",
     "text": [
      "2500it [00:00, 108619.08it/s]"
     ]
    },
    {
     "name": "stdout",
     "output_type": "stream",
     "text": [
      "[6, 2, 2, 2, 10, 8, 2, 3, 8, 4, 3, 6, 5, 7, 10, 2, 10, 5, 9, 5, 5, 5, 9, 9, 1, 11, 11, 1, 6, 11]\n",
      "[ 1.32515349  1.8588183   1.32515349  1.8588183   2.28964793 -1.12138219\n",
      " -0.85680438 -0.94050036 -0.80091021 -0.89537989 -0.81534274 -0.84201047\n",
      " -0.79226533 -0.81596251 -0.56701911 -0.45655961 -0.85621035 -0.67263532\n",
      " -0.92483615 -0.83429606 -0.1095294  -0.03403784  0.35632414  0.58179903\n",
      "  0.74630958  0.58179903  0.90814455  1.34787782  1.83714418  2.28964793]\n",
      " 6/20 [========>.....................] - ETA: 0s - loss: 0.7262 - value_loss: 0.1153 - policy_loss: 0.6108 - policy_acc: 0.6471"
     ]
    },
    {
     "name": "stderr",
     "output_type": "stream",
     "text": [
      "\n"
     ]
    },
    {
     "name": "stdout",
     "output_type": "stream",
     "text": [
      "20/20 [==============================] - 0s 11ms/step - loss: 0.7183 - value_loss: 0.1107 - policy_loss: 0.6076 - policy_acc: 0.6260\n",
      "30/30 [==============================] - 1s 17ms/step\n"
     ]
    },
    {
     "name": "stderr",
     "output_type": "stream",
     "text": [
      "2500it [00:00, 91030.91it/s]"
     ]
    },
    {
     "name": "stdout",
     "output_type": "stream",
     "text": [
      "[6, 2, 2, 2, 10, 2, 2, 3, 8, 4, 3, 8, 5, 1, 10, 2, 11, 5, 9, 5, 5, 5, 9, 9, 1, 1, 11, 1, 6, 11]\n",
      "[ 1.50518563  1.85473795  1.50518563  1.85473795  2.31266442 -1.12604978\n",
      " -0.85307348 -0.97222973 -0.81344181 -0.94737899 -0.77902528 -0.79966975\n",
      " -0.7739223  -0.78926604 -0.48533221 -0.42301074 -0.78798793 -0.67198622\n",
      " -0.91524844 -0.76645863 -0.00379715  0.07052523  0.37097718  0.56082092\n",
      "  0.78907902  0.56870946  0.81365467  1.3005801   1.77265936  2.31266442]\n",
      " 1/20 [>.............................] - ETA: 0s - loss: 0.5948 - value_loss: 0.0986 - policy_loss: 0.4963 - policy_acc: 0.6719"
     ]
    },
    {
     "name": "stderr",
     "output_type": "stream",
     "text": [
      "\n"
     ]
    },
    {
     "name": "stdout",
     "output_type": "stream",
     "text": [
      "20/20 [==============================] - 0s 12ms/step - loss: 0.6820 - value_loss: 0.1021 - policy_loss: 0.5799 - policy_acc: 0.6276\n",
      "30/30 [==============================] - 1s 16ms/step\n"
     ]
    },
    {
     "name": "stderr",
     "output_type": "stream",
     "text": [
      "2500it [00:00, 90825.12it/s]"
     ]
    },
    {
     "name": "stdout",
     "output_type": "stream",
     "text": [
      "[6, 2, 2, 2, 10, 2, 2, 3, 0, 4, 0, 8, 5, 1, 10, 2, 4, 5, 9, 9, 5, 5, 9, 9, 1, 1, 11, 1, 6, 11]\n",
      "[ 1.454679    1.85214286  1.454679    1.85214286  2.28334217 -1.16937554\n",
      " -0.79695568 -0.92104087 -0.79491013 -0.79442756 -0.8656671  -0.72056838\n",
      " -0.88367359 -0.87904847 -0.54050149 -0.28478885 -0.8396675  -0.64261937\n",
      " -0.86941846 -0.70330669  0.02205283  0.00917993  0.38086421  0.49371795\n",
      "  0.7792033   0.60707121  0.77908294  1.32652672  1.91730158  2.28334217]\n",
      " 6/20 [========>.....................] - ETA: 0s - loss: 0.7359 - value_loss: 0.0944 - policy_loss: 0.6414 - policy_acc: 0.6302"
     ]
    },
    {
     "name": "stderr",
     "output_type": "stream",
     "text": [
      "\n"
     ]
    },
    {
     "name": "stdout",
     "output_type": "stream",
     "text": [
      "20/20 [==============================] - 0s 11ms/step - loss: 0.6858 - value_loss: 0.0912 - policy_loss: 0.5947 - policy_acc: 0.6316\n",
      "30/30 [==============================] - 0s 14ms/step\n"
     ]
    },
    {
     "name": "stderr",
     "output_type": "stream",
     "text": [
      "2500it [00:00, 124900.36it/s]"
     ]
    },
    {
     "name": "stdout",
     "output_type": "stream",
     "text": [
      "[6, 2, 2, 2, 10, 3, 2, 3, 0, 4, 3, 8, 6, 8, 10, 2, 4, 5, 9, 9, 5, 5, 9, 9, 1, 1, 11, 1, 6, 11]\n",
      "[ 1.57863262  1.89139894  1.57863262  1.89139894  2.22694537 -1.20816784\n",
      " -0.77467269 -0.87382185 -0.78757543 -0.83867969 -0.80672745 -0.60570944\n",
      " -0.8106658  -0.86813906 -0.57098347 -0.32222416 -0.75741096 -0.67472546\n",
      " -0.87799976 -0.67010504  0.00734074 -0.01872391  0.42823451  0.49798799\n",
      "  0.74280484  0.65193844  0.75057078  1.34562082  1.84927775  2.22694537]\n",
      " 6/20 [========>.....................] - ETA: 0s - loss: 0.7151 - value_loss: 0.0967 - policy_loss: 0.6184 - policy_acc: 0.6146"
     ]
    },
    {
     "name": "stderr",
     "output_type": "stream",
     "text": [
      "\n"
     ]
    },
    {
     "name": "stdout",
     "output_type": "stream",
     "text": [
      "20/20 [==============================] - 0s 11ms/step - loss: 0.7066 - value_loss: 0.0977 - policy_loss: 0.6089 - policy_acc: 0.6328\n",
      "30/30 [==============================] - 0s 16ms/step\n"
     ]
    },
    {
     "name": "stderr",
     "output_type": "stream",
     "text": [
      "2500it [00:00, 131466.40it/s]"
     ]
    },
    {
     "name": "stdout",
     "output_type": "stream",
     "text": [
      "[6, 2, 2, 2, 10, 7, 2, 2, 8, 4, 8, 8, 1, 1, 10, 2, 0, 5, 9, 9, 5, 5, 9, 9, 1, 1, 11, 1, 6, 11]\n",
      "[ 1.52251353  1.75664198  1.52251353  1.75664198  2.22323552 -1.23163894\n",
      " -0.7871932  -0.93870806 -0.85835875 -0.8267555  -0.85165944 -0.5984407\n",
      " -0.92886118 -0.89338582 -0.54182523 -0.29467289 -0.76872044 -0.78108783\n",
      " -0.89117407 -0.65571684 -0.08643427 -0.05412721  0.32584562  0.52042155\n",
      "  0.76916938  0.54896695  0.82522394  1.51999961  1.71877255  2.22323552]\n",
      " 6/20 [========>.....................] - ETA: 0s - loss: 0.6737 - value_loss: 0.0886 - policy_loss: 0.5851 - policy_acc: 0.6315"
     ]
    },
    {
     "name": "stderr",
     "output_type": "stream",
     "text": [
      "\n"
     ]
    },
    {
     "name": "stdout",
     "output_type": "stream",
     "text": [
      "20/20 [==============================] - 0s 11ms/step - loss: 0.6643 - value_loss: 0.0948 - policy_loss: 0.5696 - policy_acc: 0.6432\n",
      "30/30 [==============================] - 0s 16ms/step\n"
     ]
    },
    {
     "name": "stderr",
     "output_type": "stream",
     "text": [
      "2500it [00:00, 104071.86it/s]"
     ]
    },
    {
     "name": "stdout",
     "output_type": "stream",
     "text": [
      "[6, 2, 2, 2, 10, 5, 2, 2, 4, 4, 3, 8, 8, 8, 10, 2, 10, 5, 9, 9, 5, 5, 9, 9, 1, 11, 11, 1, 6, 11]\n",
      "[ 1.3034152   1.75664396  1.3034152   1.75664396  2.29380979 -1.23265258\n",
      " -0.79796956 -0.92074699 -0.81269655 -0.78550397 -0.8855926  -0.61402474\n",
      " -0.87059025 -0.89998021 -0.50683017 -0.39266505 -0.79392389 -0.76092056\n",
      " -0.95911635 -0.6671678  -0.00857487 -0.03156827  0.45540384  0.56203622\n",
      "  0.74411399  0.56203622  0.95722013  1.39517     1.78166819  2.29380979]\n",
      " 6/20 [========>.....................] - ETA: 0s - loss: 0.6908 - value_loss: 0.0965 - policy_loss: 0.5943 - policy_acc: 0.6367"
     ]
    },
    {
     "name": "stderr",
     "output_type": "stream",
     "text": [
      "\n"
     ]
    },
    {
     "name": "stdout",
     "output_type": "stream",
     "text": [
      "20/20 [==============================] - 0s 11ms/step - loss: 0.6782 - value_loss: 0.1032 - policy_loss: 0.5750 - policy_acc: 0.6476\n",
      "30/30 [==============================] - 1s 18ms/step\n"
     ]
    },
    {
     "name": "stderr",
     "output_type": "stream",
     "text": [
      "2500it [00:00, 84667.73it/s]"
     ]
    },
    {
     "name": "stdout",
     "output_type": "stream",
     "text": [
      "[6, 2, 8, 2, 10, 2, 2, 2, 8, 2, 8, 8, 6, 8, 10, 2, 4, 5, 9, 9, 5, 5, 9, 9, 1, 11, 11, 6, 6, 11]\n",
      "[ 1.26156263  1.76595404  1.35768895  1.76595404  2.33881688 -1.18329402\n",
      " -0.77361934 -0.8699266  -0.77269702 -0.80071264 -0.76781982 -0.58410893\n",
      " -0.76842813 -0.85921918 -0.55092473 -0.46796313 -0.83781683 -0.78659156\n",
      " -1.00029326 -0.62991887 -0.08776481 -0.07680299  0.47865666  0.67822081\n",
      "  0.81621988  0.67822081  0.84312623  1.30271639  1.74378773  2.33881688]\n",
      " 1/20 [>.............................] - ETA: 0s - loss: 0.6570 - value_loss: 0.0749 - policy_loss: 0.5821 - policy_acc: 0.6328"
     ]
    },
    {
     "name": "stderr",
     "output_type": "stream",
     "text": [
      "\n"
     ]
    },
    {
     "name": "stdout",
     "output_type": "stream",
     "text": [
      "20/20 [==============================] - 0s 12ms/step - loss: 0.6626 - value_loss: 0.0929 - policy_loss: 0.5697 - policy_acc: 0.6548\n",
      "30/30 [==============================] - 0s 16ms/step\n"
     ]
    },
    {
     "name": "stderr",
     "output_type": "stream",
     "text": [
      "2500it [00:00, 94738.57it/s]"
     ]
    },
    {
     "name": "stdout",
     "output_type": "stream",
     "text": [
      "[6, 2, 8, 2, 10, 5, 2, 2, 4, 4, 8, 8, 6, 8, 10, 4, 11, 5, 9, 9, 5, 5, 9, 9, 1, 11, 11, 1, 6, 11]\n",
      "[ 1.30789115  1.76648056  1.31254707  1.76648056  2.35978883 -1.13699797\n",
      " -0.78017488 -0.83095373 -0.66691806 -0.6471391  -0.74864798 -0.65538568\n",
      " -0.69248023 -0.80688532 -0.5323884  -0.36882833 -0.76584229 -0.77914525\n",
      " -0.92577414 -0.5481504  -0.07835791 -0.13460453  0.42447604  0.55508188\n",
      "  0.81829957  0.55508188  0.65709972  1.14303474  1.71631208  2.35978883]\n",
      " 1/20 [>.............................] - ETA: 0s - loss: 0.7246 - value_loss: 0.0856 - policy_loss: 0.6390 - policy_acc: 0.5938"
     ]
    },
    {
     "name": "stderr",
     "output_type": "stream",
     "text": [
      "\n"
     ]
    },
    {
     "name": "stdout",
     "output_type": "stream",
     "text": [
      "20/20 [==============================] - 0s 11ms/step - loss: 0.6405 - value_loss: 0.0841 - policy_loss: 0.5564 - policy_acc: 0.6556\n",
      "30/30 [==============================] - 1s 16ms/step\n"
     ]
    },
    {
     "name": "stderr",
     "output_type": "stream",
     "text": [
      "2500it [00:00, 106678.60it/s]"
     ]
    },
    {
     "name": "stdout",
     "output_type": "stream",
     "text": [
      "[6, 2, 2, 2, 10, 5, 2, 2, 4, 4, 8, 8, 6, 8, 10, 2, 0, 10, 9, 9, 5, 5, 9, 9, 1, 11, 11, 1, 6, 11]\n",
      "[ 1.22771322  1.79693764  1.22771322  1.79693764  2.30712495 -1.15911626\n",
      " -0.77833126 -0.89391509 -0.69464223 -0.72102383 -0.78352735 -0.57976699\n",
      " -0.78702006 -0.96387382 -0.54936139 -0.3763314  -0.84493854 -0.78559878\n",
      " -0.96014398 -0.56851664 -0.107257   -0.06838238  0.3898579   0.48993258\n",
      "  0.79177952  0.48993258  0.72226537  1.26527545  1.84192689  2.30712495]\n",
      " 6/20 [========>.....................] - ETA: 0s - loss: 0.6647 - value_loss: 0.1018 - policy_loss: 0.5629 - policy_acc: 0.6745"
     ]
    },
    {
     "name": "stderr",
     "output_type": "stream",
     "text": [
      "\n"
     ]
    },
    {
     "name": "stdout",
     "output_type": "stream",
     "text": [
      "20/20 [==============================] - 0s 11ms/step - loss: 0.6698 - value_loss: 0.1079 - policy_loss: 0.5619 - policy_acc: 0.6632\n",
      "30/30 [==============================] - 1s 22ms/step\n"
     ]
    },
    {
     "name": "stderr",
     "output_type": "stream",
     "text": [
      "2500it [00:00, 90435.02it/s]"
     ]
    },
    {
     "name": "stdout",
     "output_type": "stream",
     "text": [
      "[6, 2, 2, 2, 10, 5, 2, 2, 8, 4, 11, 8, 6, 8, 10, 2, 10, 5, 0, 9, 5, 5, 9, 9, 1, 11, 11, 6, 6, 11]\n",
      "[ 1.20353215  1.75255544  1.20353215  1.75255544  2.22925911 -1.20803833\n",
      " -0.82028535 -0.91560736 -0.66598069 -0.78331275 -0.75927105 -0.6679855\n",
      " -0.77648834 -0.98624939 -0.58098149 -0.35557822 -0.86978522 -0.83864324\n",
      " -1.03301205 -0.65446389 -0.07619958 -0.00448394  0.4542474   0.60878863\n",
      "  0.82018964  0.60878863  0.92551408  1.45099591  2.01141322  2.22925911]\n",
      " 1/20 [>.............................] - ETA: 0s - loss: 0.7499 - value_loss: 0.1408 - policy_loss: 0.6090 - policy_acc: 0.6328"
     ]
    },
    {
     "name": "stderr",
     "output_type": "stream",
     "text": [
      "\n"
     ]
    },
    {
     "name": "stdout",
     "output_type": "stream",
     "text": [
      "20/20 [==============================] - 0s 11ms/step - loss: 0.6723 - value_loss: 0.1002 - policy_loss: 0.5721 - policy_acc: 0.6608\n",
      "30/30 [==============================] - 1s 19ms/step\n"
     ]
    },
    {
     "name": "stderr",
     "output_type": "stream",
     "text": [
      "2500it [00:00, 94268.43it/s]"
     ]
    },
    {
     "name": "stdout",
     "output_type": "stream",
     "text": [
      "[6, 2, 2, 2, 10, 5, 2, 2, 8, 2, 8, 8, 5, 8, 10, 2, 4, 5, 9, 9, 5, 5, 9, 9, 1, 0, 11, 6, 6, 11]\n",
      "[ 1.23155912  1.77441688  1.23155912  1.77441688  2.24616864 -1.16579707\n",
      " -0.68696022 -0.85635312 -0.69483466 -0.75666256 -0.78308046 -0.59957987\n",
      " -0.75402245 -0.92141238 -0.59039057 -0.4436236  -0.88518525 -0.7818729\n",
      " -1.03627595 -0.6886524  -0.10071219 -0.02285248  0.5324503   0.57299183\n",
      "  0.79868473  0.57942929  0.96209193  1.4261439   1.90257693  2.24616864]\n",
      " 6/20 [========>.....................] - ETA: 0s - loss: 0.5860 - value_loss: 0.0829 - policy_loss: 0.5031 - policy_acc: 0.6758"
     ]
    },
    {
     "name": "stderr",
     "output_type": "stream",
     "text": [
      "\n"
     ]
    },
    {
     "name": "stdout",
     "output_type": "stream",
     "text": [
      "20/20 [==============================] - 0s 11ms/step - loss: 0.6121 - value_loss: 0.0932 - policy_loss: 0.5189 - policy_acc: 0.6740\n",
      "30/30 [==============================] - 0s 14ms/step\n"
     ]
    },
    {
     "name": "stderr",
     "output_type": "stream",
     "text": [
      "2500it [00:00, 138759.26it/s]"
     ]
    },
    {
     "name": "stdout",
     "output_type": "stream",
     "text": [
      "[6, 2, 8, 2, 10, 3, 2, 2, 8, 2, 8, 8, 8, 8, 10, 2, 2, 10, 9, 9, 5, 5, 9, 9, 1, 0, 11, 1, 6, 11]\n",
      "[ 1.22628967  1.7833217   1.22726386  1.7833217   2.32973517 -1.15373966\n",
      " -0.65016346 -0.85249187 -0.73189957 -0.73402124 -0.74001366 -0.56319882\n",
      " -0.73304511 -0.85610927 -0.61441067 -0.41577662 -0.87196559 -0.79194497\n",
      " -0.95261854 -0.6613391  -0.12904447 -0.10196338  0.50877369  0.54833768\n",
      "  0.85554758  0.57450672  0.89013038  1.44055355  1.80442327  2.32973517]\n",
      " 6/20 [========>.....................] - ETA: 0s - loss: 0.6435 - value_loss: 0.1216 - policy_loss: 0.5219 - policy_acc: 0.6888"
     ]
    },
    {
     "name": "stderr",
     "output_type": "stream",
     "text": [
      "\n"
     ]
    },
    {
     "name": "stdout",
     "output_type": "stream",
     "text": [
      "20/20 [==============================] - 0s 11ms/step - loss: 0.6046 - value_loss: 0.1018 - policy_loss: 0.5028 - policy_acc: 0.6912\n",
      "30/30 [==============================] - 0s 14ms/step\n"
     ]
    },
    {
     "name": "stderr",
     "output_type": "stream",
     "text": [
      "2500it [00:00, 106267.77it/s]"
     ]
    },
    {
     "name": "stdout",
     "output_type": "stream",
     "text": [
      "[6, 2, 8, 2, 10, 3, 2, 2, 8, 2, 8, 8, 5, 8, 10, 2, 2, 10, 9, 9, 5, 5, 9, 9, 1, 0, 11, 1, 6, 11]\n",
      "[ 1.16200574  1.79553438  1.17096136  1.79553438  2.37786243 -1.08104119\n",
      " -0.59824781 -0.85638651 -0.70951928 -0.71105827 -0.70352152 -0.58435977\n",
      " -0.74203246 -0.87246861 -0.61084906 -0.42608269 -0.86171099 -0.82246136\n",
      " -0.94238746 -0.61699099 -0.13586965 -0.10060299  0.42785114  0.49451244\n",
      "  0.81275269  0.60409178  0.98467789  1.5346868   1.85139383  2.37786243]\n",
      " 6/20 [========>.....................] - ETA: 0s - loss: 0.5545 - value_loss: 0.0807 - policy_loss: 0.4738 - policy_acc: 0.7031"
     ]
    },
    {
     "name": "stderr",
     "output_type": "stream",
     "text": [
      "\n"
     ]
    },
    {
     "name": "stdout",
     "output_type": "stream",
     "text": [
      "20/20 [==============================] - 0s 11ms/step - loss: 0.5699 - value_loss: 0.0852 - policy_loss: 0.4847 - policy_acc: 0.6912\n",
      "30/30 [==============================] - 1s 19ms/step\n"
     ]
    },
    {
     "name": "stderr",
     "output_type": "stream",
     "text": [
      "2500it [00:00, 106266.70it/s]"
     ]
    },
    {
     "name": "stdout",
     "output_type": "stream",
     "text": [
      "[6, 2, 8, 2, 10, 2, 2, 2, 8, 2, 11, 8, 5, 8, 10, 2, 4, 4, 9, 9, 5, 5, 9, 9, 1, 11, 11, 1, 6, 11]\n",
      "[ 1.30435754  2.06842963  1.30552642  2.06842963  2.38681449 -1.11625344\n",
      " -0.68679831 -0.8386313  -0.65437366 -0.76469734 -0.62465438 -0.62163175\n",
      " -0.67514695 -0.83870691 -0.57429644 -0.39462985 -0.84471627 -0.80377564\n",
      " -0.89135888 -0.51244078 -0.06184284 -0.12888064  0.35058155  0.47127152\n",
      "  0.68869815  0.47127152  0.89251301  1.34844397  1.77370296  2.38681449]\n",
      " 6/20 [========>.....................] - ETA: 0s - loss: 0.6319 - value_loss: 0.1032 - policy_loss: 0.5286 - policy_acc: 0.7070"
     ]
    },
    {
     "name": "stderr",
     "output_type": "stream",
     "text": [
      "\n"
     ]
    },
    {
     "name": "stdout",
     "output_type": "stream",
     "text": [
      "20/20 [==============================] - 0s 11ms/step - loss: 0.6482 - value_loss: 0.0981 - policy_loss: 0.5501 - policy_acc: 0.6776\n"
     ]
    },
    {
     "name": "stderr",
     "output_type": "stream",
     "text": [
      "100%|██████████| 100/100 [00:06<00:00, 14.41it/s]\n",
      "100%|██████████| 2500/2500 [01:09<00:00, 35.79it/s]\n"
     ]
    },
    {
     "name": "stdout",
     "output_type": "stream",
     "text": [
      "30/30 [==============================] - 0s 16ms/step\n"
     ]
    },
    {
     "name": "stderr",
     "output_type": "stream",
     "text": [
      "2500it [00:00, 94249.79it/s]"
     ]
    },
    {
     "name": "stdout",
     "output_type": "stream",
     "text": [
      "[11, 2, 3, 5, 0, 1, 5, 5, 2, 5, 6, 10, 4, 6, 3, 1, 9, 9, 9, 9, 2, 2, 2, 2, 2, 9, 6, 9, 11, 0]\n",
      "[ 0.50957661  0.84819827  1.06734394  2.0188259   2.51075932 -1.00411511\n",
      " -0.92242273 -0.75782002 -0.26532638 -0.75782002 -0.72915997 -0.20235548\n",
      " -0.65128016 -0.74873992 -0.80060918 -0.78393213 -0.49934208 -0.11340609\n",
      " -0.49934208 -0.11340609 -0.50618095 -0.44049378 -0.50618095 -0.44049378\n",
      " -0.11212505  0.12507019  0.56641048  1.27737947  2.01882567  2.51075908]\n",
      " 1/20 [>.............................] - ETA: 0s - loss: 0.9473 - value_loss: 0.1509 - policy_loss: 0.7964 - policy_acc: 0.4297"
     ]
    },
    {
     "name": "stderr",
     "output_type": "stream",
     "text": [
      "\n"
     ]
    },
    {
     "name": "stdout",
     "output_type": "stream",
     "text": [
      "20/20 [==============================] - 0s 11ms/step - loss: 0.9494 - value_loss: 0.1282 - policy_loss: 0.8211 - policy_acc: 0.5036\n",
      "30/30 [==============================] - 0s 15ms/step\n"
     ]
    },
    {
     "name": "stderr",
     "output_type": "stream",
     "text": [
      "2500it [00:00, 124897.39it/s]"
     ]
    },
    {
     "name": "stdout",
     "output_type": "stream",
     "text": [
      "[11, 2, 3, 5, 0, 1, 5, 5, 2, 5, 6, 10, 4, 6, 3, 1, 8, 9, 8, 9, 2, 2, 2, 2, 2, 9, 6, 9, 11, 0]\n",
      "[ 0.59648568  0.85005429  1.22568966  1.99720398  2.41071566 -0.96492844\n",
      " -1.07004325 -0.82677179 -0.43827439 -0.82677179 -0.7372739  -0.10339609\n",
      " -0.65427658 -0.66540028 -0.73788947 -0.75631699 -0.51128898 -0.15359294\n",
      " -0.51128898 -0.15359294 -0.51128898 -0.43220077 -0.51128898 -0.43220077\n",
      " -0.07244659  0.15208308  0.64405277  1.37748785  1.99720375  2.41071566]\n",
      " 6/20 [========>.....................] - ETA: 0s - loss: 0.9227 - value_loss: 0.1177 - policy_loss: 0.8050 - policy_acc: 0.5312"
     ]
    },
    {
     "name": "stderr",
     "output_type": "stream",
     "text": [
      "\n"
     ]
    },
    {
     "name": "stdout",
     "output_type": "stream",
     "text": [
      "20/20 [==============================] - 0s 11ms/step - loss: 0.8576 - value_loss: 0.1217 - policy_loss: 0.7359 - policy_acc: 0.5532\n",
      "30/30 [==============================] - 1s 17ms/step\n"
     ]
    },
    {
     "name": "stderr",
     "output_type": "stream",
     "text": [
      "2500it [00:00, 104080.12it/s]"
     ]
    },
    {
     "name": "stdout",
     "output_type": "stream",
     "text": [
      "[11, 3, 3, 5, 0, 10, 5, 10, 10, 10, 6, 10, 10, 11, 3, 1, 8, 9, 8, 9, 2, 2, 2, 2, 2, 6, 6, 9, 11, 0]\n",
      "[ 0.79098759  0.90127923  1.29813088  1.96369919  2.31757021 -0.90330713\n",
      " -1.08448292 -0.83878445 -0.49625562 -0.83878445 -0.81747216 -0.05262291\n",
      " -0.70430394 -0.66876924 -0.70430394 -0.73280234 -0.56124614 -0.2420878\n",
      " -0.56124614 -0.2420878  -0.56124614 -0.47959109 -0.56124614 -0.47959109\n",
      " -0.08889966  0.27833739  0.77540862  1.40445059  1.96369942  2.31757021]\n",
      " 6/20 [========>.....................] - ETA: 0s - loss: 0.8669 - value_loss: 0.1328 - policy_loss: 0.7341 - policy_acc: 0.5547"
     ]
    },
    {
     "name": "stderr",
     "output_type": "stream",
     "text": [
      "\n"
     ]
    },
    {
     "name": "stdout",
     "output_type": "stream",
     "text": [
      "20/20 [==============================] - 0s 11ms/step - loss: 0.8635 - value_loss: 0.1310 - policy_loss: 0.7326 - policy_acc: 0.5684\n",
      "30/30 [==============================] - 1s 17ms/step\n"
     ]
    },
    {
     "name": "stderr",
     "output_type": "stream",
     "text": [
      "2500it [00:00, 116143.24it/s]"
     ]
    },
    {
     "name": "stdout",
     "output_type": "stream",
     "text": [
      "[11, 3, 3, 5, 0, 1, 5, 5, 2, 5, 6, 10, 7, 11, 7, 1, 8, 9, 8, 9, 2, 9, 2, 9, 2, 6, 6, 9, 11, 0]\n",
      "[ 0.4981198   0.91591751  1.40231303  1.90466482  2.291691   -0.85375858\n",
      " -1.06304912 -0.8548098  -0.52416385 -0.8548098  -0.68533005 -0.19791927\n",
      " -0.68533005 -0.74119148 -0.82715993 -0.88343877 -0.4961488  -0.18346287\n",
      " -0.4961488  -0.18346287 -0.4961488  -0.42601572 -0.4961488  -0.42601572\n",
      " -0.03930852  0.47007895  1.0146196   1.48991207  1.90466482  2.29169122]\n",
      " 6/20 [========>.....................] - ETA: 0s - loss: 0.9018 - value_loss: 0.1460 - policy_loss: 0.7558 - policy_acc: 0.6016"
     ]
    },
    {
     "name": "stderr",
     "output_type": "stream",
     "text": [
      "\n"
     ]
    },
    {
     "name": "stdout",
     "output_type": "stream",
     "text": [
      "20/20 [==============================] - 0s 11ms/step - loss: 0.8172 - value_loss: 0.1286 - policy_loss: 0.6886 - policy_acc: 0.5944\n",
      "30/30 [==============================] - 0s 16ms/step\n"
     ]
    },
    {
     "name": "stderr",
     "output_type": "stream",
     "text": [
      "2500it [00:00, 80561.78it/s]"
     ]
    },
    {
     "name": "stdout",
     "output_type": "stream",
     "text": [
      "[11, 3, 3, 5, 0, 1, 5, 5, 2, 5, 6, 10, 7, 11, 9, 9, 8, 9, 8, 9, 2, 2, 2, 2, 2, 6, 6, 9, 11, 0]\n",
      "[ 0.37999943  0.81145674  1.5279544   1.84452084  2.38570758 -0.82843828\n",
      " -1.08157883 -0.87882112 -0.53417946 -0.87882112 -0.69807152 -0.25495827\n",
      " -0.69807152 -0.69598972 -0.89914273 -0.90327989 -0.49021571 -0.11785529\n",
      " -0.49021571 -0.11785529 -0.49021571 -0.3884666  -0.49021571 -0.3884666\n",
      " -0.02414776  0.37679856  1.01286632  1.3944603   1.8445206   2.38570735]\n",
      " 1/20 [>.............................] - ETA: 0s - loss: 0.7929 - value_loss: 0.1379 - policy_loss: 0.6550 - policy_acc: 0.6328"
     ]
    },
    {
     "name": "stderr",
     "output_type": "stream",
     "text": [
      "\n"
     ]
    },
    {
     "name": "stdout",
     "output_type": "stream",
     "text": [
      "20/20 [==============================] - 0s 11ms/step - loss: 0.7615 - value_loss: 0.1227 - policy_loss: 0.6387 - policy_acc: 0.6140\n",
      "30/30 [==============================] - 0s 15ms/step\n"
     ]
    },
    {
     "name": "stderr",
     "output_type": "stream",
     "text": [
      "2500it [00:00, 108619.08it/s]"
     ]
    },
    {
     "name": "stdout",
     "output_type": "stream",
     "text": [
      "[11, 2, 3, 5, 0, 1, 5, 5, 2, 5, 6, 10, 7, 11, 7, 9, 8, 9, 8, 9, 2, 2, 2, 2, 2, 6, 6, 9, 11, 0]\n",
      "[ 0.35181504  0.84002745  1.40427794  1.90401305  2.39323361 -0.8866994\n",
      " -1.1331837  -0.89932285 -0.48679264 -0.89932285 -0.62435765 -0.27918141\n",
      " -0.62435765 -0.8017412  -0.86523061 -0.90103387 -0.40012401 -0.0035115\n",
      " -0.40012401 -0.0035115  -0.40012401 -0.36824664 -0.40012401 -0.36824664\n",
      "  0.08080913  0.50587613  1.07251176  1.44141423  1.90401305  2.39323408]\n",
      " 6/20 [========>.....................] - ETA: 0s - loss: 0.7852 - value_loss: 0.1098 - policy_loss: 0.6754 - policy_acc: 0.6185"
     ]
    },
    {
     "name": "stderr",
     "output_type": "stream",
     "text": [
      "\n"
     ]
    },
    {
     "name": "stdout",
     "output_type": "stream",
     "text": [
      "20/20 [==============================] - 0s 11ms/step - loss: 0.7489 - value_loss: 0.1087 - policy_loss: 0.6402 - policy_acc: 0.6172\n",
      "30/30 [==============================] - 0s 15ms/step\n"
     ]
    },
    {
     "name": "stderr",
     "output_type": "stream",
     "text": [
      "2500it [00:00, 106269.93it/s]"
     ]
    },
    {
     "name": "stdout",
     "output_type": "stream",
     "text": [
      "[11, 2, 3, 5, 0, 10, 5, 10, 2, 10, 6, 10, 7, 11, 9, 9, 8, 9, 8, 9, 2, 9, 2, 9, 2, 6, 6, 9, 11, 0]\n",
      "[ 0.34017538  0.88099052  1.41539225  1.79184214  2.37098308 -0.78372862\n",
      " -1.09753556 -0.94118532 -0.61951618 -0.94118532 -0.76778038 -0.29716001\n",
      " -0.76778038 -0.62246265 -0.8722711  -0.81983727 -0.45043197 -0.10411153\n",
      " -0.45043197 -0.10411153 -0.45043197 -0.34926521 -0.45043197 -0.34926521\n",
      "  0.05120751  0.5561816   1.06639269  1.45014483  1.79184167  2.37098308]\n",
      " 6/20 [========>.....................] - ETA: 0s - loss: 0.7584 - value_loss: 0.1033 - policy_loss: 0.6551 - policy_acc: 0.5938"
     ]
    },
    {
     "name": "stderr",
     "output_type": "stream",
     "text": [
      "\n"
     ]
    },
    {
     "name": "stdout",
     "output_type": "stream",
     "text": [
      "20/20 [==============================] - 0s 11ms/step - loss: 0.7153 - value_loss: 0.1063 - policy_loss: 0.6089 - policy_acc: 0.6224\n",
      "30/30 [==============================] - 0s 15ms/step\n"
     ]
    },
    {
     "name": "stderr",
     "output_type": "stream",
     "text": [
      "2500it [00:00, 118954.95it/s]"
     ]
    },
    {
     "name": "stdout",
     "output_type": "stream",
     "text": [
      "[11, 2, 3, 5, 0, 10, 5, 5, 2, 5, 6, 10, 7, 11, 9, 6, 8, 9, 8, 9, 9, 9, 9, 9, 6, 6, 6, 9, 11, 0]\n",
      "[ 0.32956504  0.85108663  1.35460762  1.74400924  2.4123253  -0.88630652\n",
      " -1.12807016 -0.98487324 -0.5496987  -0.98487324 -0.68654973 -0.30067878\n",
      " -0.68654973 -0.71827951 -0.85353302 -0.79116858 -0.39765413 -0.03767354\n",
      " -0.39765413 -0.03767354 -0.37826047 -0.3649786  -0.37826047 -0.3649786\n",
      "  0.07254949  0.51478645  0.98433671  1.27672527  1.74400948  2.41232553]\n",
      " 6/20 [========>.....................] - ETA: 0s - loss: 0.7270 - value_loss: 0.1076 - policy_loss: 0.6194 - policy_acc: 0.6198"
     ]
    },
    {
     "name": "stderr",
     "output_type": "stream",
     "text": [
      "\n"
     ]
    },
    {
     "name": "stdout",
     "output_type": "stream",
     "text": [
      "20/20 [==============================] - 0s 10ms/step - loss: 0.7135 - value_loss: 0.1064 - policy_loss: 0.6070 - policy_acc: 0.6284\n",
      "30/30 [==============================] - 0s 16ms/step\n"
     ]
    },
    {
     "name": "stderr",
     "output_type": "stream",
     "text": [
      "2500it [00:00, 99934.81it/s]"
     ]
    },
    {
     "name": "stdout",
     "output_type": "stream",
     "text": [
      "[11, 2, 3, 5, 0, 10, 5, 5, 2, 5, 6, 10, 7, 5, 1, 6, 8, 9, 8, 9, 2, 2, 2, 2, 2, 6, 6, 9, 11, 0]\n",
      "[ 0.22888948  0.7913736   1.1537702   1.87311526  2.4153302  -0.85805136\n",
      " -1.08677612 -0.95581355 -0.58291532 -0.95581355 -0.69825128 -0.37754605\n",
      " -0.69825128 -0.80507083 -0.90911309 -0.84687839 -0.32989066  0.02833102\n",
      " -0.32989066  0.02833102 -0.32989066 -0.38176923 -0.32989066 -0.38176923\n",
      "  0.01082842  0.4388335   0.85991325  1.19970681  1.87311573  2.41533067]\n",
      " 1/20 [>.............................] - ETA: 0s - loss: 0.5709 - value_loss: 0.1067 - policy_loss: 0.4642 - policy_acc: 0.7188"
     ]
    },
    {
     "name": "stderr",
     "output_type": "stream",
     "text": [
      "\n"
     ]
    },
    {
     "name": "stdout",
     "output_type": "stream",
     "text": [
      "20/20 [==============================] - 0s 11ms/step - loss: 0.7088 - value_loss: 0.1038 - policy_loss: 0.6050 - policy_acc: 0.6508\n",
      "30/30 [==============================] - 0s 15ms/step\n"
     ]
    },
    {
     "name": "stderr",
     "output_type": "stream",
     "text": [
      "2500it [00:00, 101933.14it/s]"
     ]
    },
    {
     "name": "stdout",
     "output_type": "stream",
     "text": [
      "[11, 3, 3, 5, 0, 1, 5, 5, 10, 5, 6, 10, 7, 5, 1, 6, 8, 9, 8, 9, 2, 2, 2, 2, 2, 6, 6, 9, 11, 0]\n",
      "[ 0.26715604  0.71687417  1.27389912  1.98134807  2.4187026  -0.88618129\n",
      " -1.0472919  -1.01883169 -0.70973529 -1.01883169 -0.84615003 -0.33608942\n",
      " -0.84615003 -0.74932533 -0.83227966 -0.77271469 -0.2830967  -0.00694975\n",
      " -0.2830967  -0.00694975 -0.2830967  -0.37681284 -0.2830967  -0.37681284\n",
      "  0.00955379  0.39583606  0.83531794  1.33724822  1.98134807  2.4187026 ]\n",
      " 6/20 [========>.....................] - ETA: 0s - loss: 0.7345 - value_loss: 0.0953 - policy_loss: 0.6391 - policy_acc: 0.6380"
     ]
    },
    {
     "name": "stderr",
     "output_type": "stream",
     "text": [
      "\n"
     ]
    },
    {
     "name": "stdout",
     "output_type": "stream",
     "text": [
      "20/20 [==============================] - 0s 11ms/step - loss: 0.7190 - value_loss: 0.0970 - policy_loss: 0.6220 - policy_acc: 0.6348\n",
      "30/30 [==============================] - 0s 16ms/step\n"
     ]
    },
    {
     "name": "stderr",
     "output_type": "stream",
     "text": [
      "2500it [00:00, 89608.09it/s]"
     ]
    },
    {
     "name": "stdout",
     "output_type": "stream",
     "text": [
      "[11, 2, 3, 5, 0, 10, 5, 5, 10, 5, 6, 10, 7, 5, 9, 6, 8, 9, 8, 9, 2, 9, 2, 9, 2, 6, 6, 9, 11, 0]\n",
      "[ 0.25867442  0.78628937  1.43288338  2.0391808   2.4476489  -0.89884446\n",
      " -1.1734216  -1.01883423 -0.74804125 -1.01883423 -0.8710338  -0.3387003\n",
      " -0.8710338  -0.69156693 -0.80141798 -0.67620055 -0.32220449  0.0042474\n",
      " -0.32220449  0.0042474  -0.32220449 -0.37114316 -0.32220449 -0.37114316\n",
      "  0.07093792  0.45131318  0.96163277  1.61346892  2.03918103  2.44764913]\n",
      " 1/20 [>.............................] - ETA: 0s - loss: 0.7281 - value_loss: 0.0960 - policy_loss: 0.6321 - policy_acc: 0.6328"
     ]
    },
    {
     "name": "stderr",
     "output_type": "stream",
     "text": [
      "\n"
     ]
    },
    {
     "name": "stdout",
     "output_type": "stream",
     "text": [
      "20/20 [==============================] - 0s 12ms/step - loss: 0.6699 - value_loss: 0.0894 - policy_loss: 0.5805 - policy_acc: 0.6472\n",
      "30/30 [==============================] - 0s 15ms/step\n"
     ]
    },
    {
     "name": "stderr",
     "output_type": "stream",
     "text": [
      "2500it [00:00, 108531.39it/s]"
     ]
    },
    {
     "name": "stdout",
     "output_type": "stream",
     "text": [
      "[11, 3, 3, 5, 0, 10, 8, 5, 10, 5, 3, 10, 4, 5, 9, 9, 9, 9, 9, 9, 9, 9, 9, 9, 2, 6, 6, 9, 11, 0]\n",
      "[ 0.34749798  0.86896895  1.55885669  1.96436585  2.39637436 -0.854162\n",
      " -1.21585951 -1.04744306 -0.71631919 -1.04744306 -0.88580014 -0.38942017\n",
      " -0.92053753 -0.70177116 -0.76332476 -0.64700451 -0.38954006 -0.00990739\n",
      " -0.38954006 -0.00990739 -0.31070534 -0.20474319 -0.31070534 -0.20474319\n",
      "  0.0840471   0.47892625  0.93496203  1.45681602  1.9643654   2.39637436]\n",
      " 6/20 [========>.....................] - ETA: 0s - loss: 0.6623 - value_loss: 0.0886 - policy_loss: 0.5737 - policy_acc: 0.6602"
     ]
    },
    {
     "name": "stderr",
     "output_type": "stream",
     "text": [
      "\n"
     ]
    },
    {
     "name": "stdout",
     "output_type": "stream",
     "text": [
      "20/20 [==============================] - 0s 11ms/step - loss: 0.6756 - value_loss: 0.0918 - policy_loss: 0.5838 - policy_acc: 0.6504\n",
      "30/30 [==============================] - 0s 15ms/step\n"
     ]
    },
    {
     "name": "stderr",
     "output_type": "stream",
     "text": [
      "2500it [00:00, 131464.75it/s]"
     ]
    },
    {
     "name": "stdout",
     "output_type": "stream",
     "text": [
      "[11, 3, 3, 5, 0, 1, 8, 11, 10, 11, 6, 10, 7, 5, 1, 9, 8, 9, 8, 9, 9, 9, 9, 9, 11, 6, 6, 9, 11, 0]\n",
      "[ 0.30001494  0.96480832  1.49797233  1.83689827  2.36002183 -0.81784603\n",
      " -1.11692819 -1.09570641 -0.82042906 -1.09570641 -0.90912758 -0.41157322\n",
      " -0.90912758 -0.68937892 -0.78543541 -0.74410196 -0.39913989 -0.01630287\n",
      " -0.39913989 -0.01630287 -0.36770615 -0.19680677 -0.36770615 -0.19680677\n",
      "  0.09495112  0.53093582  0.97820323  1.42287926  1.8368973   2.36002183]\n",
      " 6/20 [========>.....................] - ETA: 0s - loss: 0.7461 - value_loss: 0.1060 - policy_loss: 0.6401 - policy_acc: 0.6445"
     ]
    },
    {
     "name": "stderr",
     "output_type": "stream",
     "text": [
      "\n"
     ]
    },
    {
     "name": "stdout",
     "output_type": "stream",
     "text": [
      "20/20 [==============================] - 0s 11ms/step - loss: 0.7101 - value_loss: 0.1048 - policy_loss: 0.6053 - policy_acc: 0.6424\n",
      "30/30 [==============================] - 0s 15ms/step\n"
     ]
    },
    {
     "name": "stderr",
     "output_type": "stream",
     "text": [
      "2500it [00:00, 131441.68it/s]"
     ]
    },
    {
     "name": "stdout",
     "output_type": "stream",
     "text": [
      "[11, 3, 3, 5, 0, 1, 8, 10, 2, 10, 6, 10, 7, 5, 1, 9, 8, 9, 8, 9, 2, 9, 2, 9, 11, 6, 6, 9, 11, 0]\n",
      "[ 0.37663082  0.99544523  1.51266815  1.96105238  2.35470497 -0.83497564\n",
      " -1.1634693  -1.0974728  -0.78423754 -1.0974728  -0.91087002 -0.33502008\n",
      " -0.91087002 -0.68057837 -0.71351158 -0.75115239 -0.39043728 -0.09313489\n",
      " -0.39043728 -0.09313489 -0.39043728 -0.19230359 -0.39043728 -0.19230359\n",
      "  0.1614178   0.6235207   1.10226495  1.4018766   1.96105238  2.35470497]\n",
      " 6/20 [========>.....................] - ETA: 0s - loss: 0.6919 - value_loss: 0.0881 - policy_loss: 0.6039 - policy_acc: 0.6576"
     ]
    },
    {
     "name": "stderr",
     "output_type": "stream",
     "text": [
      "\n"
     ]
    },
    {
     "name": "stdout",
     "output_type": "stream",
     "text": [
      "20/20 [==============================] - 0s 11ms/step - loss: 0.6789 - value_loss: 0.0955 - policy_loss: 0.5834 - policy_acc: 0.6544\n",
      "30/30 [==============================] - 0s 16ms/step\n"
     ]
    },
    {
     "name": "stderr",
     "output_type": "stream",
     "text": [
      "2500it [00:00, 101044.19it/s]"
     ]
    },
    {
     "name": "stdout",
     "output_type": "stream",
     "text": [
      "[11, 2, 3, 5, 0, 10, 8, 10, 2, 10, 6, 10, 7, 5, 1, 9, 8, 9, 8, 9, 9, 9, 9, 9, 11, 6, 6, 9, 11, 0]\n",
      "[ 0.3684314   1.05433009  1.66318687  1.87070958  2.29953973 -0.81938696\n",
      " -1.21728171 -1.0561481  -0.82295876 -1.0561481  -0.94774523 -0.38346827\n",
      " -0.94774523 -0.74217606 -0.82771107 -0.70953977 -0.3830915   0.04075103\n",
      " -0.3830915   0.04075103 -0.36991727 -0.17648939 -0.36991727 -0.17648939\n",
      "  0.19162725  0.63515061  1.20272562  1.49630837  1.87070982  2.29954009]\n",
      " 6/20 [========>.....................] - ETA: 0s - loss: 0.6564 - value_loss: 0.0919 - policy_loss: 0.5645 - policy_acc: 0.6523"
     ]
    },
    {
     "name": "stderr",
     "output_type": "stream",
     "text": [
      "\n"
     ]
    },
    {
     "name": "stdout",
     "output_type": "stream",
     "text": [
      "20/20 [==============================] - 0s 11ms/step - loss: 0.6637 - value_loss: 0.1003 - policy_loss: 0.5634 - policy_acc: 0.6700\n",
      "30/30 [==============================] - 1s 20ms/step\n"
     ]
    },
    {
     "name": "stderr",
     "output_type": "stream",
     "text": [
      "2500it [00:00, 124895.90it/s]"
     ]
    },
    {
     "name": "stdout",
     "output_type": "stream",
     "text": [
      "[11, 3, 3, 5, 0, 10, 4, 10, 10, 10, 6, 10, 7, 5, 1, 9, 8, 9, 8, 9, 9, 9, 9, 9, 2, 6, 6, 9, 11, 0]\n",
      "[ 0.50088029  1.09430528  1.61647031  1.832542    2.35266639 -0.90024008\n",
      " -1.28850808 -1.08688278 -0.74929373 -1.08688278 -0.91328534 -0.33231957\n",
      " -0.91328534 -0.70655327 -0.78270041 -0.77191871 -0.39679787 -0.00956218\n",
      " -0.39679787 -0.00956218 -0.37829735 -0.15396712 -0.37829735 -0.15396712\n",
      "  0.16583002  0.59288845  1.0675144   1.48863606  1.83254177  2.35266616]\n",
      " 1/20 [>.............................] - ETA: 0s - loss: 0.6237 - value_loss: 0.1038 - policy_loss: 0.5198 - policy_acc: 0.6562"
     ]
    },
    {
     "name": "stderr",
     "output_type": "stream",
     "text": [
      "\n"
     ]
    },
    {
     "name": "stdout",
     "output_type": "stream",
     "text": [
      "20/20 [==============================] - 0s 11ms/step - loss: 0.6245 - value_loss: 0.0896 - policy_loss: 0.5348 - policy_acc: 0.6780\n",
      "30/30 [==============================] - 1s 17ms/step\n"
     ]
    },
    {
     "name": "stderr",
     "output_type": "stream",
     "text": [
      "2500it [00:00, 87600.33it/s]"
     ]
    },
    {
     "name": "stdout",
     "output_type": "stream",
     "text": [
      "[11, 3, 3, 5, 0, 1, 5, 10, 2, 10, 6, 10, 7, 5, 9, 9, 9, 9, 9, 9, 9, 9, 9, 9, 6, 6, 6, 9, 11, 0]\n",
      "[ 0.47196818  1.05936274  1.47523827  1.90428583  2.37012117 -0.87842608\n",
      " -1.27188605 -1.08677134 -0.76896022 -1.08677134 -0.99026945 -0.37149726\n",
      " -0.99026945 -0.59103479 -0.73434023 -0.71337035 -0.42142635  0.05652655\n",
      " -0.42142635  0.05652655 -0.25579655 -0.09606637 -0.25579655 -0.09606637\n",
      "  0.28319676  0.72394163  1.12397491  1.42576128  1.90428607  2.37012129]\n",
      " 6/20 [========>.....................] - ETA: 0s - loss: 0.6483 - value_loss: 0.0928 - policy_loss: 0.5555 - policy_acc: 0.6875"
     ]
    },
    {
     "name": "stderr",
     "output_type": "stream",
     "text": [
      "\n"
     ]
    },
    {
     "name": "stdout",
     "output_type": "stream",
     "text": [
      "20/20 [==============================] - 0s 12ms/step - loss: 0.6237 - value_loss: 0.0872 - policy_loss: 0.5366 - policy_acc: 0.6840\n",
      "30/30 [==============================] - 1s 19ms/step\n"
     ]
    },
    {
     "name": "stderr",
     "output_type": "stream",
     "text": [
      "2500it [00:00, 84673.89it/s]"
     ]
    },
    {
     "name": "stdout",
     "output_type": "stream",
     "text": [
      "[11, 2, 3, 5, 0, 1, 8, 5, 2, 5, 6, 10, 7, 5, 9, 9, 9, 9, 9, 9, 9, 9, 9, 9, 6, 6, 6, 9, 11, 0]\n",
      "[ 0.45124586  1.01232354  1.4859082   1.97717753  2.35978524 -0.86533677\n",
      " -1.27607179 -1.12617073 -0.70139222 -1.12617073 -0.91193244 -0.33311184\n",
      " -0.91193244 -0.68212425 -0.73529277 -0.67442852 -0.39146229  0.05549525\n",
      " -0.39146229  0.05549525 -0.34177359 -0.23494725 -0.34177359 -0.23494725\n",
      "  0.20229139  0.63601677  1.07714837  1.45745059  1.97717776  2.35978501]\n",
      " 6/20 [========>.....................] - ETA: 0s - loss: 0.5986 - value_loss: 0.0899 - policy_loss: 0.5087 - policy_acc: 0.6836"
     ]
    },
    {
     "name": "stderr",
     "output_type": "stream",
     "text": [
      "\n"
     ]
    },
    {
     "name": "stdout",
     "output_type": "stream",
     "text": [
      "20/20 [==============================] - 0s 12ms/step - loss: 0.6039 - value_loss: 0.0837 - policy_loss: 0.5202 - policy_acc: 0.6848\n",
      "30/30 [==============================] - 0s 16ms/step\n"
     ]
    },
    {
     "name": "stderr",
     "output_type": "stream",
     "text": [
      "2500it [00:00, 101944.04it/s]"
     ]
    },
    {
     "name": "stdout",
     "output_type": "stream",
     "text": [
      "[11, 2, 3, 5, 0, 10, 4, 5, 2, 5, 0, 10, 1, 5, 9, 9, 8, 9, 8, 9, 2, 9, 2, 9, 2, 6, 6, 9, 11, 0]\n",
      "[ 0.55274607  1.11058639  1.54289892  1.84524369  2.35644422 -0.83748922\n",
      " -1.26900545 -1.18096422 -0.7434714  -1.18096422 -0.95280802 -0.34401559\n",
      " -0.90838505 -0.67549314 -0.73296023 -0.67477466 -0.39839365  0.05870372\n",
      " -0.39839365  0.05870372 -0.39839365 -0.32442553 -0.39839365 -0.32442553\n",
      "  0.15311833  0.5980353   1.13782406  1.40524582  1.84524393  2.35644446]\n",
      " 6/20 [========>.....................] - ETA: 0s - loss: 0.7242 - value_loss: 0.0881 - policy_loss: 0.6361 - policy_acc: 0.6589"
     ]
    },
    {
     "name": "stderr",
     "output_type": "stream",
     "text": [
      "\n"
     ]
    },
    {
     "name": "stdout",
     "output_type": "stream",
     "text": [
      "20/20 [==============================] - 0s 11ms/step - loss: 0.6434 - value_loss: 0.0868 - policy_loss: 0.5566 - policy_acc: 0.6884\n",
      "30/30 [==============================] - 1s 17ms/step\n"
     ]
    },
    {
     "name": "stderr",
     "output_type": "stream",
     "text": [
      "2500it [00:00, 97942.84it/s]"
     ]
    },
    {
     "name": "stdout",
     "output_type": "stream",
     "text": [
      "[11, 2, 3, 5, 0, 10, 8, 5, 2, 5, 0, 10, 1, 5, 9, 9, 8, 9, 8, 9, 9, 9, 9, 9, 2, 6, 6, 9, 11, 0]\n",
      "[ 0.64524352  1.05831616  1.4293381   1.97205608  2.37428821 -0.82690416\n",
      " -1.24513799 -1.12838368 -0.68119621 -1.12838368 -0.9575019  -0.42840962\n",
      " -0.89541445 -0.74653826 -0.72144096 -0.66323514 -0.37376086  0.02684044\n",
      " -0.37376086  0.02684044 -0.24055594 -0.14631564 -0.24055594 -0.14631564\n",
      "  0.28185679  0.63784426  1.02192628  1.32124076  1.97205632  2.37428821]\n",
      " 6/20 [========>.....................] - ETA: 0s - loss: 0.6551 - value_loss: 0.0899 - policy_loss: 0.5653 - policy_acc: 0.6419"
     ]
    },
    {
     "name": "stderr",
     "output_type": "stream",
     "text": [
      "\n"
     ]
    },
    {
     "name": "stdout",
     "output_type": "stream",
     "text": [
      "20/20 [==============================] - 0s 11ms/step - loss: 0.6362 - value_loss: 0.0938 - policy_loss: 0.5424 - policy_acc: 0.6672\n"
     ]
    },
    {
     "name": "stderr",
     "output_type": "stream",
     "text": [
      "100%|██████████| 100/100 [00:06<00:00, 14.63it/s]\n",
      "100%|██████████| 2500/2500 [01:10<00:00, 35.60it/s]\n"
     ]
    },
    {
     "name": "stdout",
     "output_type": "stream",
     "text": [
      "30/30 [==============================] - 1s 17ms/step\n"
     ]
    },
    {
     "name": "stderr",
     "output_type": "stream",
     "text": [
      "2500it [00:00, 104165.94it/s]"
     ]
    },
    {
     "name": "stdout",
     "output_type": "stream",
     "text": [
      "[10, 8, 7, 6, 11, 0, 3, 6, 3, 2, 3, 3, 10, 11, 3, 2, 6, 7, 7, 10, 5, 9, 11, 8, 1, 0, 5, 0, 0, 9]\n",
      "[ 0.22957618  0.86578408  1.39002329  1.88240829  2.33962049 -0.87695352\n",
      " -1.16119661 -0.96644606 -0.43447156 -0.40435149 -0.54964311 -0.40435149\n",
      " -0.64770749 -0.2968954  -0.64770749 -0.29730358 -0.81766035 -0.37358551\n",
      " -0.38917254 -0.22887422 -0.38917254 -0.5001725  -0.32992893 -0.54126481\n",
      " -0.0686932   0.40319063  1.25708938  1.65302753  1.86560454  2.33962049]\n",
      " 6/20 [========>.....................] - ETA: 0s - loss: 0.9518 - value_loss: 0.1451 - policy_loss: 0.8067 - policy_acc: 0.5052"
     ]
    },
    {
     "name": "stderr",
     "output_type": "stream",
     "text": [
      "\n"
     ]
    },
    {
     "name": "stdout",
     "output_type": "stream",
     "text": [
      "20/20 [==============================] - 0s 13ms/step - loss: 0.9719 - value_loss: 0.1518 - policy_loss: 0.8201 - policy_acc: 0.5048\n",
      "30/30 [==============================] - 0s 16ms/step\n"
     ]
    },
    {
     "name": "stderr",
     "output_type": "stream",
     "text": [
      "2500it [00:00, 104149.38it/s]"
     ]
    },
    {
     "name": "stdout",
     "output_type": "stream",
     "text": [
      "[10, 8, 6, 6, 11, 0, 3, 5, 11, 2, 3, 3, 10, 11, 3, 2, 6, 7, 7, 8, 5, 9, 1, 10, 1, 0, 5, 0, 0, 9]\n",
      "[ 0.44801301  0.87802077  1.42469729  1.96060809  2.33179947 -1.03644311\n",
      " -1.07796315 -0.90593745 -0.58837727 -0.44465747 -0.58837727 -0.44465747\n",
      " -0.63377325 -0.26990635 -0.63377325 -0.4214711  -0.81880041 -0.30288256\n",
      " -0.34422462 -0.02991489 -0.34422462 -0.55850814 -0.28708684 -0.55086844\n",
      " -0.19663867  0.37784575  1.26796864  1.69903308  1.82373696  2.33179947]\n",
      " 6/20 [========>.....................] - ETA: 0s - loss: 0.9275 - value_loss: 0.1458 - policy_loss: 0.7817 - policy_acc: 0.5169"
     ]
    },
    {
     "name": "stderr",
     "output_type": "stream",
     "text": [
      "\n"
     ]
    },
    {
     "name": "stdout",
     "output_type": "stream",
     "text": [
      "20/20 [==============================] - 0s 12ms/step - loss: 0.8699 - value_loss: 0.1286 - policy_loss: 0.7413 - policy_acc: 0.5432\n",
      "30/30 [==============================] - 1s 18ms/step\n"
     ]
    },
    {
     "name": "stderr",
     "output_type": "stream",
     "text": [
      "2500it [00:00, 108696.77it/s]"
     ]
    },
    {
     "name": "stdout",
     "output_type": "stream",
     "text": [
      "[10, 8, 7, 6, 11, 5, 3, 5, 3, 2, 3, 3, 10, 11, 3, 2, 6, 7, 7, 8, 5, 9, 1, 10, 7, 1, 5, 0, 0, 9]\n",
      "[ 0.42471214  0.93079439  1.5348341   2.04480542  2.37916275 -1.04837807\n",
      " -1.06411066 -0.90530599 -0.55778379 -0.46009517 -0.61549431 -0.46009517\n",
      " -0.67068371 -0.22839257 -0.67068371 -0.39388598 -0.77275041 -0.27508158\n",
      " -0.25890867  0.06007402 -0.25890867 -0.58346779 -0.22834364 -0.5470437\n",
      " -0.09461897  0.46973266  1.39375948  1.73846505  1.83444821  2.37916275]\n",
      " 6/20 [========>.....................] - ETA: 0s - loss: 0.7751 - value_loss: 0.1205 - policy_loss: 0.6546 - policy_acc: 0.5742"
     ]
    },
    {
     "name": "stderr",
     "output_type": "stream",
     "text": [
      "\n"
     ]
    },
    {
     "name": "stdout",
     "output_type": "stream",
     "text": [
      "20/20 [==============================] - 0s 11ms/step - loss: 0.7833 - value_loss: 0.1192 - policy_loss: 0.6641 - policy_acc: 0.5784\n",
      "30/30 [==============================] - 1s 17ms/step\n"
     ]
    },
    {
     "name": "stderr",
     "output_type": "stream",
     "text": [
      "2500it [00:00, 133675.33it/s]"
     ]
    },
    {
     "name": "stdout",
     "output_type": "stream",
     "text": [
      "[10, 8, 7, 6, 11, 5, 3, 5, 3, 1, 3, 3, 11, 11, 3, 2, 7, 7, 7, 8, 5, 10, 1, 8, 1, 1, 5, 0, 0, 9]\n",
      "[ 0.33415003  0.9087182   1.61614533  1.94071498  2.39987242 -1.00144471\n",
      " -1.02492473 -0.81848981 -0.63699365 -0.58194061 -0.6809978  -0.62421651\n",
      " -0.74037093 -0.20263486 -0.746363   -0.40038853 -0.83381513 -0.26225125\n",
      " -0.20479021  0.03683033 -0.20479021 -0.53387332 -0.1715006  -0.42102374\n",
      " -0.00672742  0.42924198  1.37269514  1.64607815  1.79575573  2.39987242]\n",
      " 6/20 [========>.....................] - ETA: 0s - loss: 0.7568 - value_loss: 0.1201 - policy_loss: 0.6367 - policy_acc: 0.5781"
     ]
    },
    {
     "name": "stderr",
     "output_type": "stream",
     "text": [
      "\n"
     ]
    },
    {
     "name": "stdout",
     "output_type": "stream",
     "text": [
      "20/20 [==============================] - 0s 12ms/step - loss: 0.7675 - value_loss: 0.1188 - policy_loss: 0.6487 - policy_acc: 0.5844\n",
      "30/30 [==============================] - 1s 17ms/step\n"
     ]
    },
    {
     "name": "stderr",
     "output_type": "stream",
     "text": [
      "2500it [00:00, 66643.11it/s]"
     ]
    },
    {
     "name": "stdout",
     "output_type": "stream",
     "text": [
      "[10, 8, 6, 6, 11, 0, 3, 4, 3, 7, 3, 10, 11, 11, 1, 2, 7, 7, 7, 8, 5, 9, 1, 8, 1, 0, 5, 0, 0, 9]\n",
      "[ 0.38858106  0.98499764  1.49997768  1.74662016  2.33988837 -1.03625315\n",
      " -1.06155939 -0.89714346 -0.74000032 -0.54044307 -0.74149073 -0.57472422\n",
      " -0.65768479 -0.18824154 -0.64632592 -0.3612991  -0.84771269 -0.23519206\n",
      " -0.07424277  0.10191846 -0.07424277 -0.47295053 -0.28030259 -0.3727255\n",
      "  0.08315197  0.45366984  1.26493053  1.57030427  1.99710559  2.33988837]\n",
      " 6/20 [========>.....................] - ETA: 0s - loss: 0.7901 - value_loss: 0.1195 - policy_loss: 0.6706 - policy_acc: 0.5625"
     ]
    },
    {
     "name": "stderr",
     "output_type": "stream",
     "text": [
      "\n"
     ]
    },
    {
     "name": "stdout",
     "output_type": "stream",
     "text": [
      "20/20 [==============================] - 0s 12ms/step - loss: 0.7855 - value_loss: 0.1253 - policy_loss: 0.6602 - policy_acc: 0.5924\n",
      "30/30 [==============================] - 0s 15ms/step\n"
     ]
    },
    {
     "name": "stderr",
     "output_type": "stream",
     "text": [
      "2500it [00:00, 84619.22it/s]"
     ]
    },
    {
     "name": "stdout",
     "output_type": "stream",
     "text": [
      "[10, 8, 6, 6, 11, 0, 6, 4, 11, 1, 3, 3, 11, 11, 1, 2, 6, 7, 7, 8, 5, 9, 5, 8, 1, 0, 5, 0, 0, 9]\n",
      "[ 0.41527272  0.93273279  1.45299171  1.80990469  2.3580471  -1.00225821\n",
      " -1.15307344 -0.95098218 -0.71700046 -0.54288704 -0.71700046 -0.56254407\n",
      " -0.62611929 -0.26383432 -0.66120628 -0.32202274 -0.81248526 -0.30413777\n",
      " -0.0822603   0.07045491 -0.0822603  -0.44341851 -0.34613445 -0.28012625\n",
      "  0.06745673  0.33384952  1.19988628  1.4382336   1.95840986  2.3580471 ]\n",
      " 1/20 [>.............................] - ETA: 0s - loss: 0.7312 - value_loss: 0.1286 - policy_loss: 0.6026 - policy_acc: 0.6172"
     ]
    },
    {
     "name": "stderr",
     "output_type": "stream",
     "text": [
      "\n"
     ]
    },
    {
     "name": "stdout",
     "output_type": "stream",
     "text": [
      "20/20 [==============================] - 0s 11ms/step - loss: 0.7148 - value_loss: 0.1147 - policy_loss: 0.6001 - policy_acc: 0.6136\n",
      "30/30 [==============================] - 1s 19ms/step\n"
     ]
    },
    {
     "name": "stderr",
     "output_type": "stream",
     "text": [
      "2500it [00:00, 89286.10it/s]"
     ]
    },
    {
     "name": "stdout",
     "output_type": "stream",
     "text": [
      "[10, 8, 6, 6, 11, 0, 3, 4, 11, 2, 3, 3, 10, 11, 3, 2, 6, 7, 7, 8, 5, 9, 1, 8, 1, 1, 5, 6, 0, 9]\n",
      "[ 0.60892153  1.0012439   1.53104911  1.98524768  2.30850549 -1.01506833\n",
      " -1.15176402 -0.95883726 -0.61598105 -0.37592521 -0.61598105 -0.37592521\n",
      " -0.6500601  -0.28930272 -0.6500601  -0.2921576  -0.74505605 -0.35192726\n",
      " -0.06354713 -0.04576353 -0.06354713 -0.42087518 -0.36095157 -0.38365577\n",
      "  0.10374937  0.40960351  1.03244454  1.4288014   1.9086056   2.30850549]\n",
      " 1/20 [>.............................] - ETA: 0s - loss: 0.7726 - value_loss: 0.0869 - policy_loss: 0.6857 - policy_acc: 0.5781"
     ]
    },
    {
     "name": "stderr",
     "output_type": "stream",
     "text": [
      "\n"
     ]
    },
    {
     "name": "stdout",
     "output_type": "stream",
     "text": [
      "20/20 [==============================] - 0s 12ms/step - loss: 0.7484 - value_loss: 0.1068 - policy_loss: 0.6416 - policy_acc: 0.6064\n",
      "30/30 [==============================] - 0s 14ms/step\n"
     ]
    },
    {
     "name": "stderr",
     "output_type": "stream",
     "text": [
      "2500it [00:00, 104166.97it/s]"
     ]
    },
    {
     "name": "stdout",
     "output_type": "stream",
     "text": [
      "[10, 8, 6, 6, 11, 6, 3, 4, 11, 2, 3, 3, 10, 11, 3, 2, 6, 7, 7, 8, 5, 9, 5, 8, 1, 0, 5, 6, 0, 9]\n",
      "[ 0.62738562  1.0200643   1.60776124  1.81921175  2.32977022 -1.07594312\n",
      " -1.06270671 -0.90553264 -0.61070693 -0.38197749 -0.61070693 -0.38197749\n",
      " -0.5327182  -0.21416341 -0.5327182  -0.22253837 -0.69318533 -0.27403411\n",
      " -0.06075136 -0.01760092 -0.06075136 -0.54839509 -0.45039901 -0.3700485\n",
      "  0.11682761  0.48573796  1.01059103  1.50462985  1.94946636  2.32977022]\n",
      " 6/20 [========>.....................] - ETA: 0s - loss: 0.7409 - value_loss: 0.1033 - policy_loss: 0.6376 - policy_acc: 0.5964"
     ]
    },
    {
     "name": "stderr",
     "output_type": "stream",
     "text": [
      "\n"
     ]
    },
    {
     "name": "stdout",
     "output_type": "stream",
     "text": [
      "20/20 [==============================] - 0s 11ms/step - loss: 0.7382 - value_loss: 0.1008 - policy_loss: 0.6374 - policy_acc: 0.5980\n",
      "30/30 [==============================] - 0s 13ms/step\n"
     ]
    },
    {
     "name": "stderr",
     "output_type": "stream",
     "text": [
      "2500it [00:00, 125000.12it/s]"
     ]
    },
    {
     "name": "stdout",
     "output_type": "stream",
     "text": [
      "[10, 8, 6, 6, 11, 6, 3, 4, 11, 2, 3, 3, 10, 11, 3, 2, 6, 7, 7, 8, 5, 9, 5, 8, 1, 0, 5, 6, 0, 9]\n",
      "[ 0.643043    1.02781738  1.54545211  1.93261794  2.36838921 -1.09165574\n",
      " -1.05225412 -0.91649865 -0.60352442 -0.39243161 -0.60352442 -0.39243161\n",
      " -0.577182   -0.32138706 -0.577182   -0.29473535 -0.6228847  -0.28947658\n",
      " -0.14307271 -0.09405475 -0.14307271 -0.53169334 -0.48114321 -0.37586302\n",
      "  0.05965278  0.38091878  0.99852507  1.46932666  1.76933705  2.36838921]\n",
      " 6/20 [========>.....................] - ETA: 0s - loss: 0.6996 - value_loss: 0.0916 - policy_loss: 0.6080 - policy_acc: 0.6458"
     ]
    },
    {
     "name": "stderr",
     "output_type": "stream",
     "text": [
      "\n"
     ]
    },
    {
     "name": "stdout",
     "output_type": "stream",
     "text": [
      "20/20 [==============================] - 0s 11ms/step - loss: 0.6766 - value_loss: 0.0897 - policy_loss: 0.5870 - policy_acc: 0.6380\n",
      "30/30 [==============================] - 1s 22ms/step\n"
     ]
    },
    {
     "name": "stderr",
     "output_type": "stream",
     "text": [
      "2500it [00:00, 97982.19it/s]"
     ]
    },
    {
     "name": "stdout",
     "output_type": "stream",
     "text": [
      "[10, 8, 7, 6, 11, 5, 3, 4, 11, 2, 3, 3, 10, 6, 3, 2, 10, 7, 7, 8, 5, 9, 1, 8, 1, 1, 5, 6, 0, 9]\n",
      "[ 5.48988640e-01  1.03681374e+00  1.48804406e+00  1.86807435e+00\n",
      "  2.39573550e+00 -1.01124056e+00 -1.02327976e+00 -9.13039322e-01\n",
      " -5.28471524e-01 -3.60218227e-01 -5.28471524e-01 -3.60218227e-01\n",
      " -5.48171835e-01 -3.37348078e-01 -5.48171835e-01 -3.84077042e-01\n",
      " -6.49961970e-01 -2.62799751e-01 -1.58137681e-01 -7.58343406e-02\n",
      " -1.58137681e-01 -5.08777293e-01 -4.29152771e-01 -3.52031261e-01\n",
      " -4.79875408e-04  4.24633473e-01  9.69618987e-01  1.43957093e+00\n",
      "  1.87031135e+00  2.39573550e+00]\n",
      " 6/20 [========>.....................] - ETA: 0s - loss: 0.6704 - value_loss: 0.1003 - policy_loss: 0.5701 - policy_acc: 0.6576"
     ]
    },
    {
     "name": "stderr",
     "output_type": "stream",
     "text": [
      "\n"
     ]
    },
    {
     "name": "stdout",
     "output_type": "stream",
     "text": [
      "20/20 [==============================] - 0s 11ms/step - loss: 0.6786 - value_loss: 0.0904 - policy_loss: 0.5882 - policy_acc: 0.6288\n",
      "30/30 [==============================] - 1s 17ms/step\n"
     ]
    },
    {
     "name": "stderr",
     "output_type": "stream",
     "text": [
      "2500it [00:00, 116548.59it/s]"
     ]
    },
    {
     "name": "stdout",
     "output_type": "stream",
     "text": [
      "[10, 8, 6, 6, 11, 5, 3, 4, 11, 2, 3, 3, 10, 11, 3, 2, 7, 7, 7, 8, 5, 9, 5, 8, 1, 1, 5, 6, 0, 9]\n",
      "[ 0.47496748  0.93802324  1.46192753  2.03097124  2.3976953  -1.04216146\n",
      " -1.03217437 -0.92092198 -0.57196765 -0.42479783 -0.57196765 -0.42479783\n",
      " -0.53132079 -0.40206756 -0.53132079 -0.39142368 -0.64652105 -0.19448772\n",
      " -0.18622443 -0.06255808 -0.18622443 -0.65084921 -0.51788037 -0.48220864\n",
      " -0.08210223  0.31587122  1.04210303  1.4793808   1.90698729  2.3976953 ]\n",
      " 6/20 [========>.....................] - ETA: 0s - loss: 0.6881 - value_loss: 0.0936 - policy_loss: 0.5945 - policy_acc: 0.6302"
     ]
    },
    {
     "name": "stderr",
     "output_type": "stream",
     "text": [
      "\n"
     ]
    },
    {
     "name": "stdout",
     "output_type": "stream",
     "text": [
      "20/20 [==============================] - 0s 12ms/step - loss: 0.6857 - value_loss: 0.0886 - policy_loss: 0.5971 - policy_acc: 0.6240\n",
      "30/30 [==============================] - 0s 14ms/step\n"
     ]
    },
    {
     "name": "stderr",
     "output_type": "stream",
     "text": [
      "2500it [00:00, 131580.23it/s]"
     ]
    },
    {
     "name": "stdout",
     "output_type": "stream",
     "text": [
      "[10, 8, 7, 6, 11, 5, 3, 0, 11, 2, 3, 3, 10, 6, 3, 2, 10, 7, 7, 8, 5, 9, 5, 5, 1, 1, 5, 6, 0, 9]\n",
      "[ 0.55373987  1.03871238  1.5904675   1.89862614  2.35598996 -0.96304134\n",
      " -1.01302084 -0.92654369 -0.54448234 -0.4535836  -0.54448234 -0.4535836\n",
      " -0.56815879 -0.40774304 -0.56815879 -0.35089856 -0.61277219 -0.25569301\n",
      " -0.24672583 -0.02711035 -0.24672583 -0.59429375 -0.45819903 -0.43733959\n",
      " -0.07912989  0.2830834   1.02115522  1.43601945  1.81737903  2.35598996]\n",
      " 6/20 [========>.....................] - ETA: 0s - loss: 0.6989 - value_loss: 0.0900 - policy_loss: 0.6089 - policy_acc: 0.6302"
     ]
    },
    {
     "name": "stderr",
     "output_type": "stream",
     "text": [
      "\n"
     ]
    },
    {
     "name": "stdout",
     "output_type": "stream",
     "text": [
      "20/20 [==============================] - 0s 11ms/step - loss: 0.6471 - value_loss: 0.0852 - policy_loss: 0.5619 - policy_acc: 0.6396\n",
      "30/30 [==============================] - 0s 15ms/step\n"
     ]
    },
    {
     "name": "stderr",
     "output_type": "stream",
     "text": [
      "2500it [00:00, 119026.52it/s]"
     ]
    },
    {
     "name": "stdout",
     "output_type": "stream",
     "text": [
      "[10, 8, 6, 6, 11, 5, 5, 7, 11, 2, 3, 3, 10, 6, 3, 2, 10, 7, 7, 8, 5, 9, 5, 10, 7, 1, 5, 6, 0, 9]\n",
      "[ 0.57789146  1.20662781  1.59003537  1.84115558  2.31772289 -0.95065268\n",
      " -1.0369658  -0.92766116 -0.58843488 -0.47963265 -0.58843488 -0.47963265\n",
      " -0.58554283 -0.4404365  -0.58554283 -0.3884091  -0.58806097 -0.29546377\n",
      " -0.27062147 -0.052189   -0.27062147 -0.62048887 -0.46523241 -0.49083813\n",
      " -0.09184861  0.24732991  0.90169347  1.36974216  1.82266722  2.31772289]\n",
      " 6/20 [========>.....................] - ETA: 0s - loss: 0.6244 - value_loss: 0.0867 - policy_loss: 0.5377 - policy_acc: 0.6250"
     ]
    },
    {
     "name": "stderr",
     "output_type": "stream",
     "text": [
      "\n"
     ]
    },
    {
     "name": "stdout",
     "output_type": "stream",
     "text": [
      "20/20 [==============================] - 0s 10ms/step - loss: 0.6336 - value_loss: 0.0888 - policy_loss: 0.5448 - policy_acc: 0.6604\n",
      "30/30 [==============================] - 1s 18ms/step\n"
     ]
    },
    {
     "name": "stderr",
     "output_type": "stream",
     "text": [
      "2500it [00:00, 108678.74it/s]"
     ]
    },
    {
     "name": "stdout",
     "output_type": "stream",
     "text": [
      "[10, 8, 6, 6, 11, 5, 1, 7, 11, 2, 3, 3, 10, 6, 3, 2, 10, 7, 7, 8, 5, 9, 5, 5, 7, 1, 5, 6, 0, 9]\n",
      "[ 0.62278414  1.18100353  1.60187826  1.79754112  2.34981383 -0.96893615\n",
      " -1.06808233 -0.94318483 -0.64965349 -0.54653435 -0.64965349 -0.54653435\n",
      " -0.64285812 -0.48103902 -0.64285812 -0.35948755 -0.61651336 -0.25514589\n",
      " -0.21155642 -0.03132316 -0.21155642 -0.57122194 -0.41869714 -0.4670038\n",
      " -0.04653326  0.37368911  1.00738184  1.41495408  1.85245241  2.34981383]\n",
      " 6/20 [========>.....................] - ETA: 0s - loss: 0.6212 - value_loss: 0.0970 - policy_loss: 0.5242 - policy_acc: 0.6615"
     ]
    },
    {
     "name": "stderr",
     "output_type": "stream",
     "text": [
      "\n"
     ]
    },
    {
     "name": "stdout",
     "output_type": "stream",
     "text": [
      "20/20 [==============================] - 0s 11ms/step - loss: 0.6331 - value_loss: 0.1016 - policy_loss: 0.5316 - policy_acc: 0.6636\n",
      "30/30 [==============================] - 1s 18ms/step\n"
     ]
    },
    {
     "name": "stderr",
     "output_type": "stream",
     "text": [
      "2500it [00:00, 102001.56it/s]"
     ]
    },
    {
     "name": "stdout",
     "output_type": "stream",
     "text": [
      "[10, 8, 6, 6, 11, 0, 1, 7, 3, 2, 3, 3, 11, 11, 3, 2, 2, 7, 7, 8, 5, 9, 5, 5, 7, 1, 5, 6, 0, 9]\n",
      "[ 0.68903428  1.15733776  1.53715603  1.81902614  2.35423356 -0.97274936\n",
      " -1.08335788 -0.89970694 -0.63749875 -0.52256871 -0.64788511 -0.52256871\n",
      " -0.62608637 -0.58468888 -0.72691078 -0.33862673 -0.59686025 -0.23577427\n",
      " -0.17311559 -0.02942857 -0.17311559 -0.56958224 -0.37223658 -0.39008919\n",
      " -0.02489113  0.37338531  0.95820107  1.38737432  2.03309944  2.35423356]\n",
      " 6/20 [========>.....................] - ETA: 0s - loss: 0.6367 - value_loss: 0.1064 - policy_loss: 0.5302 - policy_acc: 0.6680"
     ]
    },
    {
     "name": "stderr",
     "output_type": "stream",
     "text": [
      "\n"
     ]
    },
    {
     "name": "stdout",
     "output_type": "stream",
     "text": [
      "20/20 [==============================] - 0s 11ms/step - loss: 0.6561 - value_loss: 0.1098 - policy_loss: 0.5463 - policy_acc: 0.6604\n",
      "30/30 [==============================] - 1s 19ms/step\n"
     ]
    },
    {
     "name": "stderr",
     "output_type": "stream",
     "text": [
      "2500it [00:00, 77825.64it/s]"
     ]
    },
    {
     "name": "stdout",
     "output_type": "stream",
     "text": [
      "[10, 8, 6, 6, 11, 0, 9, 7, 11, 2, 3, 3, 11, 11, 3, 7, 7, 7, 7, 4, 5, 9, 1, 5, 1, 1, 5, 0, 0, 9]\n",
      "[ 0.58875688  0.97645286  1.46307112  1.80609576  2.34872623 -0.99400026\n",
      " -1.12144962 -0.88333028 -0.59847539 -0.51985785 -0.59847539 -0.51985785\n",
      " -0.58774673 -0.53223854 -0.69669351 -0.47760171 -0.71950765 -0.28496396\n",
      " -0.21900379 -0.07049546 -0.21900379 -0.47702984 -0.39745022 -0.41324102\n",
      " -0.09590219  0.40665557  0.95679429  1.44937797  2.05789292  2.34872623]\n",
      " 6/20 [========>.....................] - ETA: 0s - loss: 0.6452 - value_loss: 0.0957 - policy_loss: 0.5494 - policy_acc: 0.6654"
     ]
    },
    {
     "name": "stderr",
     "output_type": "stream",
     "text": [
      "\n"
     ]
    },
    {
     "name": "stdout",
     "output_type": "stream",
     "text": [
      "20/20 [==============================] - 0s 11ms/step - loss: 0.5991 - value_loss: 0.0932 - policy_loss: 0.5058 - policy_acc: 0.6780\n",
      "30/30 [==============================] - 1s 16ms/step\n"
     ]
    },
    {
     "name": "stderr",
     "output_type": "stream",
     "text": [
      "2500it [00:00, 124998.63it/s]"
     ]
    },
    {
     "name": "stdout",
     "output_type": "stream",
     "text": [
      "[10, 8, 6, 6, 11, 6, 9, 7, 11, 2, 3, 3, 11, 11, 3, 2, 2, 7, 7, 8, 5, 9, 5, 8, 1, 1, 5, 0, 0, 9]\n",
      "[ 0.40855335  0.94037414  1.38831285  1.85380505  2.33647638 -1.01728441\n",
      " -1.12526601 -0.87713512 -0.6608665  -0.49532861 -0.6608665  -0.49532861\n",
      " -0.6444814  -0.49339548 -0.66099187 -0.37001072 -0.68065009 -0.29061299\n",
      " -0.16362644 -0.04702378 -0.16362644 -0.42014101 -0.40807476 -0.41103959\n",
      " -0.01035975  0.44426715  1.01410081  1.48052286  1.86716573  2.33647638]\n",
      " 6/20 [========>.....................] - ETA: 0s - loss: 0.6833 - value_loss: 0.0800 - policy_loss: 0.6033 - policy_acc: 0.6615"
     ]
    },
    {
     "name": "stderr",
     "output_type": "stream",
     "text": [
      "\n"
     ]
    },
    {
     "name": "stdout",
     "output_type": "stream",
     "text": [
      "20/20 [==============================] - 0s 11ms/step - loss: 0.6241 - value_loss: 0.0792 - policy_loss: 0.5449 - policy_acc: 0.6672\n",
      "30/30 [==============================] - 0s 15ms/step\n"
     ]
    },
    {
     "name": "stderr",
     "output_type": "stream",
     "text": [
      "2500it [00:00, 131578.58it/s]"
     ]
    },
    {
     "name": "stdout",
     "output_type": "stream",
     "text": [
      "[10, 8, 6, 6, 11, 0, 5, 7, 11, 2, 3, 3, 10, 6, 3, 2, 2, 7, 7, 8, 5, 9, 1, 8, 1, 1, 5, 0, 0, 9]\n",
      "[ 4.21101568e-01  9.13612939e-01  1.41195263e+00  1.81733409e+00\n",
      "  2.40017004e+00 -1.02112860e+00 -1.11646416e+00 -8.97352406e-01\n",
      " -6.42972729e-01 -5.38562770e-01 -6.42972729e-01 -5.38562770e-01\n",
      " -6.07192954e-01 -3.78623229e-01 -6.07192954e-01 -3.28647311e-01\n",
      " -5.83635437e-01 -1.97906669e-01 -2.05887620e-01 -1.33528019e-02\n",
      " -2.05887620e-01 -4.53018069e-01 -4.03820040e-01 -3.54927195e-01\n",
      " -1.54338751e-03  5.42067299e-01  1.11657242e+00  1.51477812e+00\n",
      "  1.95756678e+00  2.40017004e+00]\n",
      " 6/20 [========>.....................] - ETA: 0s - loss: 0.7029 - value_loss: 0.0829 - policy_loss: 0.6200 - policy_acc: 0.6237"
     ]
    },
    {
     "name": "stderr",
     "output_type": "stream",
     "text": [
      "\n"
     ]
    },
    {
     "name": "stdout",
     "output_type": "stream",
     "text": [
      "20/20 [==============================] - 0s 11ms/step - loss: 0.6204 - value_loss: 0.0816 - policy_loss: 0.5388 - policy_acc: 0.6588\n",
      "30/30 [==============================] - 1s 18ms/step\n"
     ]
    },
    {
     "name": "stderr",
     "output_type": "stream",
     "text": [
      "2500it [00:00, 104166.97it/s]"
     ]
    },
    {
     "name": "stdout",
     "output_type": "stream",
     "text": [
      "[10, 8, 6, 6, 11, 5, 5, 7, 3, 2, 3, 3, 10, 2, 3, 2, 2, 7, 7, 8, 5, 9, 5, 8, 1, 1, 5, 0, 0, 9]\n",
      "[ 0.52590967  0.91036001  1.4598997   1.93161445  2.40462127 -1.02135991\n",
      " -1.14434781 -0.9228146  -0.66355252 -0.52032545 -0.70685478 -0.52032545\n",
      " -0.62847863 -0.45792312 -0.62847863 -0.29398143 -0.53242999 -0.27596805\n",
      " -0.22214838 -0.05617972 -0.22214838 -0.46287377 -0.42299331 -0.41162523\n",
      " -0.02931032  0.43002141  0.9709465   1.50001724  1.8794522   2.40462127]\n",
      " 6/20 [========>.....................] - ETA: 0s - loss: 0.5554 - value_loss: 0.0704 - policy_loss: 0.4850 - policy_acc: 0.7174"
     ]
    },
    {
     "name": "stderr",
     "output_type": "stream",
     "text": [
      "\n"
     ]
    },
    {
     "name": "stdout",
     "output_type": "stream",
     "text": [
      "20/20 [==============================] - 0s 11ms/step - loss: 0.5838 - value_loss: 0.0810 - policy_loss: 0.5027 - policy_acc: 0.6912\n",
      "30/30 [==============================] - 1s 22ms/step\n"
     ]
    },
    {
     "name": "stderr",
     "output_type": "stream",
     "text": [
      "2500it [00:00, 74594.58it/s]"
     ]
    },
    {
     "name": "stdout",
     "output_type": "stream",
     "text": [
      "[10, 8, 6, 6, 11, 5, 3, 7, 3, 2, 3, 3, 10, 2, 3, 2, 2, 7, 7, 4, 5, 9, 5, 5, 7, 1, 5, 0, 0, 9]\n",
      "[ 0.54761018  0.95223231  1.55180533  1.93812724  2.3698396  -1.06593109\n",
      " -1.1136263  -0.90542682 -0.6579648  -0.55436067 -0.73731879 -0.55436067\n",
      " -0.70579505 -0.528587   -0.70579505 -0.35085975 -0.60116276 -0.26397446\n",
      " -0.18165951  0.0102049  -0.18165951 -0.5424368  -0.44209995 -0.46469346\n",
      " -0.1185749   0.37363498  1.042714    1.61984066  2.03132919  2.3698396 ]\n",
      " 1/20 [>.............................] - ETA: 0s - loss: 0.6344 - value_loss: 0.0845 - policy_loss: 0.5499 - policy_acc: 0.6641"
     ]
    },
    {
     "name": "stderr",
     "output_type": "stream",
     "text": [
      "\n"
     ]
    },
    {
     "name": "stdout",
     "output_type": "stream",
     "text": [
      "20/20 [==============================] - 0s 12ms/step - loss: 0.6222 - value_loss: 0.0839 - policy_loss: 0.5383 - policy_acc: 0.6732\n"
     ]
    },
    {
     "name": "stderr",
     "output_type": "stream",
     "text": [
      "100%|██████████| 100/100 [00:06<00:00, 16.62it/s]\n",
      "100%|██████████| 2500/2500 [01:07<00:00, 37.21it/s]\n"
     ]
    },
    {
     "name": "stdout",
     "output_type": "stream",
     "text": [
      "30/30 [==============================] - 1s 16ms/step\n"
     ]
    },
    {
     "name": "stderr",
     "output_type": "stream",
     "text": [
      "2500it [00:00, 98004.17it/s]"
     ]
    },
    {
     "name": "stdout",
     "output_type": "stream",
     "text": [
      "[3, 6, 3, 6, 5, 5, 8, 0, 0, 0, 9, 8, 8, 3, 8, 10, 2, 7, 2, 4, 11, 0, 11, 4, 1, 4, 4, 9, 1, 3]\n",
      "[ 1.44404488  0.74799397  1.44404488  1.96686384  2.34257241 -0.89956586\n",
      " -0.53078327 -0.95678446 -0.94164406 -0.80080325 -1.19410789 -0.81238319\n",
      " -0.58315683 -0.82118889 -0.58315683 -0.86990481 -0.58315683 -0.16285404\n",
      "  0.51007217  0.86675356  0.6508343   0.19803528  0.6508343   0.90304212\n",
      "  0.6508343   0.90304212  0.92191075  1.34735396  1.88408878  2.34257218]\n",
      " 6/20 [========>.....................] - ETA: 0s - loss: 1.0479 - value_loss: 0.1145 - policy_loss: 0.9334 - policy_acc: 0.4753"
     ]
    },
    {
     "name": "stderr",
     "output_type": "stream",
     "text": [
      "\n"
     ]
    },
    {
     "name": "stdout",
     "output_type": "stream",
     "text": [
      "20/20 [==============================] - 0s 12ms/step - loss: 0.9480 - value_loss: 0.1192 - policy_loss: 0.8288 - policy_acc: 0.5068\n",
      "30/30 [==============================] - 1s 17ms/step\n"
     ]
    },
    {
     "name": "stderr",
     "output_type": "stream",
     "text": [
      "2500it [00:00, 106342.14it/s]"
     ]
    },
    {
     "name": "stdout",
     "output_type": "stream",
     "text": [
      "[3, 6, 3, 6, 5, 10, 8, 0, 0, 9, 9, 4, 8, 3, 8, 10, 2, 7, 2, 4, 4, 0, 4, 4, 1, 4, 4, 9, 1, 3]\n",
      "[ 1.48074663  0.80499154  1.48074663  1.93151865  2.35921671 -0.89391277\n",
      " -0.54241621 -0.97994049 -0.95219958 -0.81487163 -1.11812107 -0.66639435\n",
      " -0.66911411 -0.97062951 -0.66911411 -0.91263992 -0.66911411 -0.17682101\n",
      "  0.47501535  0.92167679  0.68701454  0.15508959  0.68701454  0.92093177\n",
      "  0.55556667  0.92093177  0.91425449  1.45367572  1.92252554  2.35921719]\n",
      " 1/20 [>.............................] - ETA: 0s - loss: 0.9418 - value_loss: 0.1240 - policy_loss: 0.8178 - policy_acc: 0.5156"
     ]
    },
    {
     "name": "stderr",
     "output_type": "stream",
     "text": [
      "\n"
     ]
    },
    {
     "name": "stdout",
     "output_type": "stream",
     "text": [
      "20/20 [==============================] - 0s 12ms/step - loss: 0.8675 - value_loss: 0.1127 - policy_loss: 0.7548 - policy_acc: 0.5348\n",
      "30/30 [==============================] - 0s 15ms/step\n"
     ]
    },
    {
     "name": "stderr",
     "output_type": "stream",
     "text": [
      "2500it [00:00, 111535.21it/s]"
     ]
    },
    {
     "name": "stdout",
     "output_type": "stream",
     "text": [
      "[3, 0, 3, 6, 5, 11, 8, 0, 0, 9, 9, 4, 8, 3, 8, 10, 2, 7, 2, 4, 4, 0, 4, 4, 1, 4, 4, 9, 1, 3]\n",
      "[ 1.22630462  0.81273691  1.22630462  1.89852133  2.32849206 -0.81419973\n",
      " -0.36106508 -0.90933754 -0.94318234 -0.75426598 -1.111164   -0.60780272\n",
      " -0.6035677  -1.07840837 -0.6035677  -0.88613515 -0.6035677  -0.23762542\n",
      "  0.52979118  1.01908426  0.81907176  0.26006663  0.81907176  1.01578351\n",
      "  0.55755455  1.01578351  0.96006782  1.44337884  1.74420973  2.32849182]\n",
      " 6/20 [========>.....................] - ETA: 0s - loss: 0.8276 - value_loss: 0.1112 - policy_loss: 0.7163 - policy_acc: 0.5508"
     ]
    },
    {
     "name": "stderr",
     "output_type": "stream",
     "text": [
      "\n"
     ]
    },
    {
     "name": "stdout",
     "output_type": "stream",
     "text": [
      "20/20 [==============================] - 0s 11ms/step - loss: 0.8271 - value_loss: 0.1116 - policy_loss: 0.7155 - policy_acc: 0.5516\n",
      "30/30 [==============================] - 0s 14ms/step\n"
     ]
    },
    {
     "name": "stderr",
     "output_type": "stream",
     "text": [
      "2500it [00:00, 97236.22it/s]"
     ]
    },
    {
     "name": "stdout",
     "output_type": "stream",
     "text": [
      "[3, 0, 3, 6, 5, 10, 8, 0, 0, 9, 9, 4, 8, 3, 8, 10, 2, 2, 2, 4, 4, 0, 4, 4, 1, 4, 4, 9, 1, 3]\n",
      "[ 1.39016915  0.81801773  1.39016915  1.94271914  2.28905274 -0.78406612\n",
      " -0.23043121 -0.90374642 -0.95512869 -0.65227476 -1.03825546 -0.5674931\n",
      " -0.50234619 -0.94439837 -0.50234619 -0.84109155 -0.50234619 -0.23574977\n",
      "  0.58524742  1.05705091  0.89724857  0.30672099  0.89724857  1.00991193\n",
      "  0.58151069  1.00991193  1.0307289   1.42496068  2.0148503   2.28905286]\n",
      " 1/20 [>.............................] - ETA: 0s - loss: 0.8438 - value_loss: 0.1145 - policy_loss: 0.7293 - policy_acc: 0.5469"
     ]
    },
    {
     "name": "stderr",
     "output_type": "stream",
     "text": [
      "\n"
     ]
    },
    {
     "name": "stdout",
     "output_type": "stream",
     "text": [
      "20/20 [==============================] - 0s 12ms/step - loss: 0.7707 - value_loss: 0.1155 - policy_loss: 0.6552 - policy_acc: 0.5920\n",
      "30/30 [==============================] - 1s 20ms/step\n"
     ]
    },
    {
     "name": "stderr",
     "output_type": "stream",
     "text": [
      "2500it [00:00, 104165.94it/s]"
     ]
    },
    {
     "name": "stdout",
     "output_type": "stream",
     "text": [
      "[3, 0, 3, 6, 5, 8, 8, 0, 0, 9, 9, 8, 8, 3, 8, 10, 2, 7, 2, 4, 4, 0, 4, 11, 1, 11, 4, 9, 1, 3]\n",
      "[ 1.56635903  0.9746289   1.56635903  2.13509364  2.28958299 -0.71661716\n",
      " -0.17586187 -0.94167284 -0.91822218 -0.58997975 -1.0429349  -0.58997975\n",
      " -0.41170833 -0.96837853 -0.41170833 -0.9054434  -0.41170833 -0.09514697\n",
      "  0.90578358  1.16923703  0.96549919  0.58277667  0.96549919  0.91006664\n",
      "  0.73284659  0.91006664  0.94146774  1.41122759  1.7337952   2.28958311]\n",
      " 6/20 [========>.....................] - ETA: 0s - loss: 0.8261 - value_loss: 0.1255 - policy_loss: 0.7007 - policy_acc: 0.6042"
     ]
    },
    {
     "name": "stderr",
     "output_type": "stream",
     "text": [
      "\n"
     ]
    },
    {
     "name": "stdout",
     "output_type": "stream",
     "text": [
      "20/20 [==============================] - 0s 12ms/step - loss: 0.7867 - value_loss: 0.1164 - policy_loss: 0.6704 - policy_acc: 0.5984\n",
      "30/30 [==============================] - 1s 17ms/step\n"
     ]
    },
    {
     "name": "stderr",
     "output_type": "stream",
     "text": [
      "2500it [00:00, 104383.70it/s]"
     ]
    },
    {
     "name": "stdout",
     "output_type": "stream",
     "text": [
      "[3, 0, 3, 6, 5, 10, 8, 0, 0, 9, 1, 1, 8, 3, 8, 10, 2, 7, 2, 4, 4, 0, 4, 11, 1, 11, 4, 9, 1, 3]\n",
      "[ 1.52009426  0.97290418  1.52009426  1.73931698  2.40725164 -0.767597\n",
      " -0.33172896 -0.89717998 -0.94896435 -0.69871988 -0.98489055 -0.61704391\n",
      " -0.56838905 -0.89198607 -0.56838905 -0.93357313 -0.56838905  0.06443725\n",
      "  0.69347577  0.83060634  0.71625772  0.41026955  0.71625772  0.81569225\n",
      "  0.60231784  0.81569225  0.94570088  1.28035681  1.73749589  2.40725164]\n",
      " 6/20 [========>.....................] - ETA: 0s - loss: 0.8278 - value_loss: 0.1167 - policy_loss: 0.7111 - policy_acc: 0.5990"
     ]
    },
    {
     "name": "stderr",
     "output_type": "stream",
     "text": [
      "\n"
     ]
    },
    {
     "name": "stdout",
     "output_type": "stream",
     "text": [
      "20/20 [==============================] - 0s 11ms/step - loss: 0.7667 - value_loss: 0.1099 - policy_loss: 0.6568 - policy_acc: 0.6112\n",
      "30/30 [==============================] - 1s 16ms/step\n"
     ]
    },
    {
     "name": "stderr",
     "output_type": "stream",
     "text": [
      "2500it [00:00, 113638.44it/s]"
     ]
    },
    {
     "name": "stdout",
     "output_type": "stream",
     "text": [
      "[3, 6, 3, 6, 5, 10, 8, 0, 9, 9, 1, 1, 8, 0, 8, 10, 2, 7, 2, 4, 4, 0, 4, 4, 1, 4, 6, 9, 1, 3]\n",
      "[ 1.57511389  0.99756282  1.57511389  1.94037827  2.41065037 -0.73571527\n",
      " -0.43343573 -0.94041604 -1.00447071 -0.6176686  -0.93865836 -0.49840113\n",
      " -0.57981604 -0.95090421 -0.57981604 -0.85369109 -0.57981604  0.12834925\n",
      "  0.67312948  0.91687717  0.72679531  0.37427846  0.72679531  0.83875177\n",
      "  0.56922053  0.83875177  0.78358147  1.27131416  1.88624751  2.41065037]\n",
      " 6/20 [========>.....................] - ETA: 0s - loss: 0.7477 - value_loss: 0.1162 - policy_loss: 0.6315 - policy_acc: 0.6419"
     ]
    },
    {
     "name": "stderr",
     "output_type": "stream",
     "text": [
      "\n"
     ]
    },
    {
     "name": "stdout",
     "output_type": "stream",
     "text": [
      "20/20 [==============================] - 0s 11ms/step - loss: 0.7161 - value_loss: 0.1102 - policy_loss: 0.6059 - policy_acc: 0.6356\n",
      "30/30 [==============================] - 0s 12ms/step\n"
     ]
    },
    {
     "name": "stderr",
     "output_type": "stream",
     "text": [
      "2500it [00:00, 104165.94it/s]"
     ]
    },
    {
     "name": "stdout",
     "output_type": "stream",
     "text": [
      "[3, 6, 3, 6, 5, 10, 8, 0, 9, 9, 9, 1, 8, 10, 8, 10, 2, 7, 2, 4, 4, 0, 4, 4, 1, 4, 4, 9, 1, 3]\n",
      "[ 1.63943708  1.15254817  1.63943708  1.97990048  2.40882844 -0.70284039\n",
      " -0.3149795  -0.8777693  -0.96905357 -0.56065163 -0.93239348 -0.50893124\n",
      " -0.56114599 -0.94127576 -0.56114599 -0.90945599 -0.56114599 -0.04136877\n",
      "  0.52853362  0.7900088   0.64160381  0.35092118  0.64160381  0.78053808\n",
      "  0.50391536  0.78053808  0.66323833  1.29487333  1.92716345  2.40882796]\n",
      " 6/20 [========>.....................] - ETA: 0s - loss: 0.7431 - value_loss: 0.0931 - policy_loss: 0.6500 - policy_acc: 0.5781"
     ]
    },
    {
     "name": "stderr",
     "output_type": "stream",
     "text": [
      "\n"
     ]
    },
    {
     "name": "stdout",
     "output_type": "stream",
     "text": [
      "20/20 [==============================] - 0s 11ms/step - loss: 0.7298 - value_loss: 0.0922 - policy_loss: 0.6376 - policy_acc: 0.6124\n",
      "30/30 [==============================] - 1s 18ms/step\n"
     ]
    },
    {
     "name": "stderr",
     "output_type": "stream",
     "text": [
      "2500it [00:00, 92591.95it/s]"
     ]
    },
    {
     "name": "stdout",
     "output_type": "stream",
     "text": [
      "[3, 6, 3, 6, 5, 10, 8, 0, 0, 9, 9, 1, 8, 3, 8, 10, 7, 7, 2, 4, 4, 0, 4, 4, 1, 4, 4, 9, 1, 3]\n",
      "[ 1.72047369  1.11711005  1.72047369  2.03945535  2.38969477 -0.72827409\n",
      " -0.32180059 -0.88077967 -0.95394022 -0.5558305  -0.94175842 -0.50883361\n",
      " -0.61296174 -1.01074688 -0.61296174 -0.78862694 -0.60677133  0.1097831\n",
      "  0.54540776  0.81020602  0.73880496  0.34120538  0.73880496  0.78261299\n",
      "  0.41388631  0.78261299  0.70951201  1.14098086  1.73269134  2.38969477]\n",
      " 6/20 [========>.....................] - ETA: 0s - loss: 0.7075 - value_loss: 0.0916 - policy_loss: 0.6159 - policy_acc: 0.6198"
     ]
    },
    {
     "name": "stderr",
     "output_type": "stream",
     "text": [
      "\n"
     ]
    },
    {
     "name": "stdout",
     "output_type": "stream",
     "text": [
      "20/20 [==============================] - 0s 11ms/step - loss: 0.6846 - value_loss: 0.0916 - policy_loss: 0.5930 - policy_acc: 0.6412\n",
      "30/30 [==============================] - 0s 16ms/step\n"
     ]
    },
    {
     "name": "stderr",
     "output_type": "stream",
     "text": [
      "2500it [00:00, 110875.95it/s]"
     ]
    },
    {
     "name": "stdout",
     "output_type": "stream",
     "text": [
      "[3, 6, 3, 6, 5, 10, 8, 0, 0, 9, 9, 1, 8, 3, 8, 10, 7, 7, 2, 4, 4, 0, 4, 4, 1, 4, 4, 9, 1, 3]\n",
      "[ 1.65962677  1.22190053  1.65962677  1.98153108  2.36172334 -0.74696839\n",
      " -0.28781552 -0.88110344 -0.96269056 -0.62504492 -0.92506365 -0.51348014\n",
      " -0.6281486  -0.99432443 -0.6281486  -0.82599052 -0.56922552  0.13689323\n",
      "  0.4785773   0.72638189  0.6128632   0.22748132  0.6128632   0.61383416\n",
      "  0.31693411  0.61383416  0.71290677  1.17951636  1.89707762  2.36172334]\n",
      " 6/20 [========>.....................] - ETA: 0s - loss: 0.7573 - value_loss: 0.0922 - policy_loss: 0.6650 - policy_acc: 0.6107"
     ]
    },
    {
     "name": "stderr",
     "output_type": "stream",
     "text": [
      "\n"
     ]
    },
    {
     "name": "stdout",
     "output_type": "stream",
     "text": [
      "20/20 [==============================] - 0s 11ms/step - loss: 0.6807 - value_loss: 0.0915 - policy_loss: 0.5892 - policy_acc: 0.6388\n",
      "30/30 [==============================] - 1s 19ms/step\n"
     ]
    },
    {
     "name": "stderr",
     "output_type": "stream",
     "text": [
      "2500it [00:00, 111073.26it/s]"
     ]
    },
    {
     "name": "stdout",
     "output_type": "stream",
     "text": [
      "[3, 6, 3, 6, 5, 10, 8, 0, 4, 9, 9, 1, 8, 3, 8, 10, 7, 7, 2, 4, 4, 3, 4, 4, 1, 4, 4, 9, 1, 3]\n",
      "[ 1.46116975  1.11731862  1.46116975  1.9463129   2.3224838  -0.79401469\n",
      " -0.27237852 -0.91556885 -0.99326062 -0.60411372 -0.93601328 -0.59148673\n",
      " -0.68116811 -1.06099141 -0.68116811 -0.84691977 -0.45165466  0.23062578\n",
      "  0.4560374   0.70179339  0.67685225  0.25831012  0.67685225  0.85275913\n",
      "  0.39012142  0.85275913  0.77914636  1.32302401  1.93349161  2.3224838 ]\n",
      " 6/20 [========>.....................] - ETA: 0s - loss: 0.7731 - value_loss: 0.0905 - policy_loss: 0.6826 - policy_acc: 0.6354"
     ]
    },
    {
     "name": "stderr",
     "output_type": "stream",
     "text": [
      "\n"
     ]
    },
    {
     "name": "stdout",
     "output_type": "stream",
     "text": [
      "20/20 [==============================] - 0s 12ms/step - loss: 0.7312 - value_loss: 0.0898 - policy_loss: 0.6414 - policy_acc: 0.6300\n",
      "30/30 [==============================] - 1s 18ms/step\n"
     ]
    },
    {
     "name": "stderr",
     "output_type": "stream",
     "text": [
      "2500it [00:00, 100000.57it/s]"
     ]
    },
    {
     "name": "stdout",
     "output_type": "stream",
     "text": [
      "[3, 6, 3, 6, 5, 8, 8, 8, 4, 9, 1, 8, 8, 3, 8, 10, 10, 7, 2, 4, 4, 0, 4, 4, 1, 4, 4, 9, 1, 3]\n",
      "[ 1.55883697  1.06226653  1.55883697  1.96231816  2.3200311  -0.86482268\n",
      " -0.21603319 -0.92600465 -0.93934604 -0.56334293 -0.93747876 -0.56334293\n",
      " -0.60690628 -1.05199751 -0.60690628 -0.85472779 -0.60282305  0.16895897\n",
      "  0.54615662  0.74439731  0.70494204  0.28361737  0.70494204  0.87065772\n",
      "  0.40951058  0.87065772  0.79072505  1.5322541   1.95999437  2.32003134]\n",
      " 6/20 [========>.....................] - ETA: 0s - loss: 0.7141 - value_loss: 0.0921 - policy_loss: 0.6220 - policy_acc: 0.6289"
     ]
    },
    {
     "name": "stderr",
     "output_type": "stream",
     "text": [
      "\n"
     ]
    },
    {
     "name": "stdout",
     "output_type": "stream",
     "text": [
      "20/20 [==============================] - 0s 12ms/step - loss: 0.6556 - value_loss: 0.0936 - policy_loss: 0.5619 - policy_acc: 0.6588\n",
      "30/30 [==============================] - 1s 16ms/step\n"
     ]
    },
    {
     "name": "stderr",
     "output_type": "stream",
     "text": [
      "2500it [00:00, 116220.48it/s]"
     ]
    },
    {
     "name": "stdout",
     "output_type": "stream",
     "text": [
      "[3, 6, 3, 6, 5, 8, 8, 8, 9, 9, 1, 1, 8, 7, 8, 10, 7, 7, 2, 4, 4, 0, 4, 4, 1, 4, 4, 9, 1, 3]\n",
      "[ 1.6276451   1.16600934  1.6276451   2.00265665  2.3617408  -0.81185507\n",
      " -0.1464075  -0.88138168 -1.00049704 -0.57986678 -0.8628604  -0.53605413\n",
      " -0.59425181 -1.06172931 -0.59425181 -0.8077077  -0.55378974  0.10495451\n",
      "  0.50261025  0.78443264  0.76444115  0.32172825  0.76444115  0.86053126\n",
      "  0.37967948  0.86053126  0.828593    1.41723055  1.95155766  2.36174057]\n",
      " 6/20 [========>.....................] - ETA: 0s - loss: 0.6665 - value_loss: 0.0885 - policy_loss: 0.5780 - policy_acc: 0.6471"
     ]
    },
    {
     "name": "stderr",
     "output_type": "stream",
     "text": [
      "\n"
     ]
    },
    {
     "name": "stdout",
     "output_type": "stream",
     "text": [
      "20/20 [==============================] - 0s 11ms/step - loss: 0.6584 - value_loss: 0.0897 - policy_loss: 0.5687 - policy_acc: 0.6524\n",
      "30/30 [==============================] - 1s 16ms/step\n"
     ]
    },
    {
     "name": "stderr",
     "output_type": "stream",
     "text": [
      "2500it [00:00, 115866.03it/s]"
     ]
    },
    {
     "name": "stdout",
     "output_type": "stream",
     "text": [
      "[3, 6, 3, 6, 5, 8, 8, 0, 9, 9, 9, 8, 8, 3, 8, 10, 2, 7, 2, 4, 4, 0, 4, 4, 1, 4, 4, 9, 1, 3]\n",
      "[ 1.59139841  1.09940306  1.59139841  1.95523979  2.36881493 -0.75170792\n",
      " -0.07025191 -0.85025947 -0.9205598  -0.47444071 -0.89705695 -0.47444071\n",
      " -0.49468578 -1.05879089 -0.49468578 -0.85074796 -0.49468578  0.02783212\n",
      "  0.46322066  0.75338301  0.84652561  0.43366108  0.84652561  0.9323424\n",
      "  0.38313325  0.9323424   0.92363746  1.52446135  1.85471387  2.36881493]\n",
      " 6/20 [========>.....................] - ETA: 0s - loss: 0.7054 - value_loss: 0.0823 - policy_loss: 0.6230 - policy_acc: 0.6458"
     ]
    },
    {
     "name": "stderr",
     "output_type": "stream",
     "text": [
      "\n"
     ]
    },
    {
     "name": "stdout",
     "output_type": "stream",
     "text": [
      "20/20 [==============================] - 0s 11ms/step - loss: 0.6735 - value_loss: 0.0823 - policy_loss: 0.5912 - policy_acc: 0.6560\n",
      "30/30 [==============================] - 1s 22ms/step\n"
     ]
    },
    {
     "name": "stderr",
     "output_type": "stream",
     "text": [
      "2500it [00:00, 73529.07it/s]"
     ]
    },
    {
     "name": "stdout",
     "output_type": "stream",
     "text": [
      "[3, 6, 3, 6, 5, 10, 8, 0, 0, 9, 9, 8, 8, 3, 8, 10, 7, 7, 2, 4, 4, 0, 4, 4, 1, 4, 4, 9, 1, 3]\n",
      "[ 1.53349421  1.07359557  1.53349421  1.90263846  2.34926054 -0.7018024\n",
      " -0.04654041 -0.80136948 -0.90675824 -0.53123008 -0.93200127 -0.53123008\n",
      " -0.56234785 -1.00950066 -0.56234785 -0.83838803 -0.46629008  0.10064168\n",
      "  0.40257258  0.71484288  0.63291211  0.32080633  0.63291211  0.77671906\n",
      "  0.35770744  0.77671906  0.897756    1.47906763  1.91594664  2.34926031]\n",
      " 1/20 [>.............................] - ETA: 0s - loss: 0.6303 - value_loss: 0.0704 - policy_loss: 0.5599 - policy_acc: 0.6797"
     ]
    },
    {
     "name": "stderr",
     "output_type": "stream",
     "text": [
      "\n"
     ]
    },
    {
     "name": "stdout",
     "output_type": "stream",
     "text": [
      "20/20 [==============================] - 0s 12ms/step - loss: 0.6334 - value_loss: 0.0752 - policy_loss: 0.5582 - policy_acc: 0.6608\n",
      "30/30 [==============================] - 0s 12ms/step\n"
     ]
    },
    {
     "name": "stderr",
     "output_type": "stream",
     "text": [
      "2500it [00:00, 104163.87it/s]"
     ]
    },
    {
     "name": "stdout",
     "output_type": "stream",
     "text": [
      "[3, 6, 3, 6, 5, 10, 8, 0, 0, 9, 1, 8, 8, 3, 8, 10, 7, 7, 2, 4, 4, 0, 4, 4, 1, 4, 4, 9, 1, 3]\n",
      "[ 1.53573267  1.17110423  1.53573267  1.89722246  2.30396194 -0.6793435\n",
      " -0.02633725 -0.72032239 -0.90383506 -0.57789409 -0.98122308 -0.57789409\n",
      " -0.56776278 -0.95134161 -0.56776278 -0.85867726 -0.42013034  0.04959173\n",
      "  0.39308795  0.65807334  0.58300405  0.30765836  0.58300405  0.79183495\n",
      "  0.35870638  0.79183495  0.92242707  1.41330622  1.89885585  2.30396206]\n",
      " 6/20 [========>.....................] - ETA: 0s - loss: 0.6324 - value_loss: 0.0846 - policy_loss: 0.5478 - policy_acc: 0.6589"
     ]
    },
    {
     "name": "stderr",
     "output_type": "stream",
     "text": [
      "\n"
     ]
    },
    {
     "name": "stdout",
     "output_type": "stream",
     "text": [
      "20/20 [==============================] - 0s 11ms/step - loss: 0.6474 - value_loss: 0.1023 - policy_loss: 0.5451 - policy_acc: 0.6732\n",
      "30/30 [==============================] - 1s 18ms/step\n"
     ]
    },
    {
     "name": "stderr",
     "output_type": "stream",
     "text": [
      "2500it [00:00, 106343.21it/s]"
     ]
    },
    {
     "name": "stdout",
     "output_type": "stream",
     "text": [
      "[3, 6, 3, 6, 5, 1, 8, 0, 0, 9, 1, 8, 8, 3, 8, 10, 7, 7, 2, 4, 4, 0, 4, 4, 1, 4, 4, 9, 1, 3]\n",
      "[ 1.50024142  1.09810434  1.50024142  1.90606277  2.34067162 -0.66892114\n",
      " -0.09718396 -0.66892114 -0.85765893 -0.56475815 -0.98128934 -0.56475815\n",
      " -0.62669928 -1.08851485 -0.62669928 -0.85933057 -0.44670792  0.11369522\n",
      "  0.35398775  0.6132937   0.4412155   0.18505312  0.4412155   0.71365265\n",
      "  0.31142475  0.71365265  0.90054921  1.4837924   1.855074    2.34067162]\n",
      " 6/20 [========>.....................] - ETA: 0s - loss: 0.6831 - value_loss: 0.1326 - policy_loss: 0.5505 - policy_acc: 0.6667"
     ]
    },
    {
     "name": "stderr",
     "output_type": "stream",
     "text": [
      "\n"
     ]
    },
    {
     "name": "stdout",
     "output_type": "stream",
     "text": [
      "20/20 [==============================] - 0s 11ms/step - loss: 0.6661 - value_loss: 0.1136 - policy_loss: 0.5525 - policy_acc: 0.6616\n",
      "30/30 [==============================] - 0s 14ms/step\n"
     ]
    },
    {
     "name": "stderr",
     "output_type": "stream",
     "text": [
      "2500it [00:00, 121877.84it/s]"
     ]
    },
    {
     "name": "stdout",
     "output_type": "stream",
     "text": [
      "[3, 6, 3, 6, 5, 10, 8, 0, 4, 9, 1, 8, 8, 3, 8, 10, 7, 7, 2, 4, 4, 0, 4, 4, 1, 4, 4, 9, 1, 3]\n",
      "[ 1.30377602  0.91693278  1.30377602  1.88917514  2.3879986  -0.6588421\n",
      " -0.18990751 -0.78622705 -0.9141976  -0.60091288 -0.98385984 -0.60091288\n",
      " -0.67080411 -0.9961956  -0.67080411 -0.84281695 -0.45653069  0.0307797\n",
      "  0.22090163  0.62142988  0.44396364  0.04434533  0.44396364  0.88103882\n",
      "  0.28491769  0.88103882  0.95344187  1.61071572  1.849418    2.3879986 ]\n",
      "11/20 [===============>..............] - ETA: 0s - loss: 0.6186 - value_loss: 0.0971 - policy_loss: 0.5215 - policy_acc: 0.6726"
     ]
    },
    {
     "name": "stderr",
     "output_type": "stream",
     "text": [
      "\n"
     ]
    },
    {
     "name": "stdout",
     "output_type": "stream",
     "text": [
      "20/20 [==============================] - 0s 11ms/step - loss: 0.6008 - value_loss: 0.0915 - policy_loss: 0.5093 - policy_acc: 0.6820\n",
      "30/30 [==============================] - 0s 14ms/step\n"
     ]
    },
    {
     "name": "stderr",
     "output_type": "stream",
     "text": [
      "2500it [00:00, 125000.12it/s]"
     ]
    },
    {
     "name": "stdout",
     "output_type": "stream",
     "text": [
      "[3, 6, 3, 6, 5, 1, 8, 0, 4, 9, 1, 8, 8, 3, 8, 10, 7, 7, 2, 4, 4, 0, 4, 4, 1, 4, 4, 9, 1, 3]\n",
      "[ 1.444703    0.93122731  1.444703    1.92924226  2.42675563 -0.61424661\n",
      " -0.11752496 -0.61424661 -0.87836126 -0.60854156 -0.97685187 -0.60854156\n",
      " -0.61864464 -1.0486024  -0.61864464 -0.80360617 -0.49253302 -0.14155904\n",
      "  0.2711056   0.64409523  0.45344356  0.08488565  0.45344356  0.84506644\n",
      "  0.3398159   0.84506644  0.98679715  1.57889403  1.93132133  2.4267554 ]\n",
      " 6/20 [========>.....................] - ETA: 0s - loss: 0.6708 - value_loss: 0.0752 - policy_loss: 0.5956 - policy_acc: 0.6745"
     ]
    },
    {
     "name": "stderr",
     "output_type": "stream",
     "text": [
      "\n"
     ]
    },
    {
     "name": "stdout",
     "output_type": "stream",
     "text": [
      "20/20 [==============================] - 0s 10ms/step - loss: 0.6305 - value_loss: 0.0780 - policy_loss: 0.5525 - policy_acc: 0.6796\n",
      "30/30 [==============================] - 1s 17ms/step\n"
     ]
    },
    {
     "name": "stderr",
     "output_type": "stream",
     "text": [
      "2500it [00:00, 104147.32it/s]"
     ]
    },
    {
     "name": "stdout",
     "output_type": "stream",
     "text": [
      "[3, 6, 3, 6, 5, 1, 8, 0, 4, 9, 8, 8, 8, 3, 8, 10, 2, 7, 2, 4, 4, 0, 4, 4, 1, 4, 4, 9, 1, 3]\n",
      "[ 1.40295133  0.91321045  1.40295133  2.05808605  2.33377101 -0.55917248\n",
      " -0.05329877 -0.55917248 -0.83734325 -0.57615373 -0.96834623 -0.57615373\n",
      " -0.51920234 -1.03935216 -0.51920234 -0.8026346  -0.51920234 -0.06991058\n",
      "  0.41248858  0.84499021  0.62277826  0.19367155  0.62277826  0.98748585\n",
      "  0.49384514  0.98748585  1.01650362  1.54955711  1.96481211  2.33377124]\n",
      " 6/20 [========>.....................] - ETA: 0s - loss: 0.6455 - value_loss: 0.0914 - policy_loss: 0.5541 - policy_acc: 0.6680"
     ]
    },
    {
     "name": "stderr",
     "output_type": "stream",
     "text": [
      "\n"
     ]
    },
    {
     "name": "stdout",
     "output_type": "stream",
     "text": [
      "20/20 [==============================] - 0s 11ms/step - loss: 0.6278 - value_loss: 0.0958 - policy_loss: 0.5321 - policy_acc: 0.6816\n"
     ]
    },
    {
     "name": "stderr",
     "output_type": "stream",
     "text": [
      "100%|██████████| 100/100 [00:06<00:00, 14.86it/s]\n",
      "100%|██████████| 2500/2500 [01:08<00:00, 36.36it/s]\n"
     ]
    },
    {
     "name": "stdout",
     "output_type": "stream",
     "text": [
      "30/30 [==============================] - 0s 16ms/step\n"
     ]
    },
    {
     "name": "stderr",
     "output_type": "stream",
     "text": [
      "2500it [00:00, 138762.94it/s]"
     ]
    },
    {
     "name": "stdout",
     "output_type": "stream",
     "text": [
      "[10, 9, 11, 10, 9, 1, 1, 1, 1, 7, 4, 5, 4, 4, 10, 2, 10, 4, 10, 0, 0, 8, 1, 1, 8, 9, 9, 11, 10, 9]\n",
      "[ 0.52785926  1.18084006  1.51044889  1.62175115  2.26035887 -1.00852668\n",
      " -0.97818205 -0.5882905  -0.71044495 -0.75209704 -0.91333543 -0.96340473\n",
      " -0.91333543 -0.81314027 -0.98722145 -1.23702297 -0.98722145 -0.67429598\n",
      " -1.05877819 -1.16441959 -1.14331063 -1.27244655 -1.34245855 -1.0428934\n",
      " -0.20448384  0.57556108  1.18083936  1.51044877  1.62175139  2.26035887]\n",
      " 6/20 [========>.....................] - ETA: 0s - loss: 1.0703 - value_loss: 0.1439 - policy_loss: 0.9264 - policy_acc: 0.4714"
     ]
    },
    {
     "name": "stderr",
     "output_type": "stream",
     "text": [
      "\n"
     ]
    },
    {
     "name": "stdout",
     "output_type": "stream",
     "text": [
      "20/20 [==============================] - 0s 11ms/step - loss: 0.9888 - value_loss: 0.1420 - policy_loss: 0.8468 - policy_acc: 0.5008\n",
      "30/30 [==============================] - 1s 18ms/step\n"
     ]
    },
    {
     "name": "stderr",
     "output_type": "stream",
     "text": [
      "2500it [00:00, 108353.07it/s]"
     ]
    },
    {
     "name": "stdout",
     "output_type": "stream",
     "text": [
      "[10, 9, 10, 10, 9, 1, 1, 1, 1, 1, 4, 5, 4, 4, 10, 9, 10, 4, 8, 9, 0, 8, 8, 1, 1, 9, 9, 10, 10, 9]\n",
      "[ 0.5827443   1.1372496   1.51135457  1.86941675  2.2546979  -1.07544687\n",
      " -0.96311293 -0.55281652 -0.73495821 -0.75620961 -0.90929534 -0.99340782\n",
      " -0.90929534 -0.76138445 -0.88045541 -1.16135463 -0.88045541 -0.67387459\n",
      " -1.01170584 -1.27009252 -1.26082404 -1.27370248 -1.28053881 -1.01144468\n",
      " -0.24825506  0.57922742  1.13724936  1.51135492  1.86941652  2.2546979 ]\n",
      " 6/20 [========>.....................] - ETA: 0s - loss: 0.9187 - value_loss: 0.1114 - policy_loss: 0.8074 - policy_acc: 0.5299"
     ]
    },
    {
     "name": "stderr",
     "output_type": "stream",
     "text": [
      "\n"
     ]
    },
    {
     "name": "stdout",
     "output_type": "stream",
     "text": [
      "20/20 [==============================] - 0s 11ms/step - loss: 0.8799 - value_loss: 0.1071 - policy_loss: 0.7728 - policy_acc: 0.5296\n",
      "30/30 [==============================] - 1s 17ms/step\n"
     ]
    },
    {
     "name": "stderr",
     "output_type": "stream",
     "text": [
      "2500it [00:00, 87642.07it/s]"
     ]
    },
    {
     "name": "stdout",
     "output_type": "stream",
     "text": [
      "[3, 9, 11, 10, 9, 1, 1, 1, 1, 1, 4, 5, 4, 4, 10, 6, 10, 4, 10, 7, 0, 8, 8, 1, 1, 8, 9, 11, 10, 9]\n",
      "[ 0.59985588  1.09584946  1.53581514  1.85863846  2.27049989 -1.11129005\n",
      " -0.92831455 -0.64378013 -0.73635629 -0.78661476 -0.98391659 -0.99539068\n",
      " -0.98391659 -0.80111139 -0.85835418 -1.2273015  -0.85835418 -0.706743\n",
      " -1.05388349 -1.17088149 -1.21511739 -1.25944136 -1.30912039 -0.96697954\n",
      " -0.04805321  0.55775206  1.0958491   1.53581586  1.8586387   2.27049989]\n",
      " 1/20 [>.............................] - ETA: 0s - loss: 0.8144 - value_loss: 0.1349 - policy_loss: 0.6795 - policy_acc: 0.5781"
     ]
    },
    {
     "name": "stderr",
     "output_type": "stream",
     "text": [
      "\n"
     ]
    },
    {
     "name": "stdout",
     "output_type": "stream",
     "text": [
      "20/20 [==============================] - 0s 12ms/step - loss: 0.8172 - value_loss: 0.1058 - policy_loss: 0.7114 - policy_acc: 0.5528\n",
      "30/30 [==============================] - 0s 15ms/step\n"
     ]
    },
    {
     "name": "stderr",
     "output_type": "stream",
     "text": [
      "2500it [00:00, 99918.62it/s]"
     ]
    },
    {
     "name": "stdout",
     "output_type": "stream",
     "text": [
      "[9, 9, 11, 10, 9, 1, 1, 1, 8, 1, 4, 5, 4, 4, 10, 6, 10, 4, 7, 7, 0, 8, 1, 1, 1, 8, 9, 11, 10, 9]\n",
      "[ 0.71837356  1.05794816  1.52611675  1.94771727  2.28804401 -1.0911951\n",
      " -0.91459211 -0.66787503 -0.83980339 -0.76407841 -1.02673155 -1.00959358\n",
      " -1.02673155 -0.86550186 -0.91440596 -1.06411394 -0.91440596 -0.75633429\n",
      " -1.0692906  -1.16633244 -1.19561188 -1.30306479 -1.27759993 -0.91665304\n",
      "  0.10153968  0.71837344  1.05794768  1.52611675  1.94771751  2.28804401]\n",
      " 1/20 [>.............................] - ETA: 0s - loss: 0.6324 - value_loss: 0.0967 - policy_loss: 0.5356 - policy_acc: 0.6094"
     ]
    },
    {
     "name": "stderr",
     "output_type": "stream",
     "text": [
      "\n"
     ]
    },
    {
     "name": "stdout",
     "output_type": "stream",
     "text": [
      "20/20 [==============================] - 0s 12ms/step - loss: 0.7740 - value_loss: 0.1064 - policy_loss: 0.6675 - policy_acc: 0.5804\n",
      "30/30 [==============================] - 0s 15ms/step\n"
     ]
    },
    {
     "name": "stderr",
     "output_type": "stream",
     "text": [
      "2500it [00:00, 96097.36it/s]"
     ]
    },
    {
     "name": "stdout",
     "output_type": "stream",
     "text": [
      "[10, 9, 11, 10, 9, 0, 11, 1, 8, 5, 4, 5, 4, 4, 10, 6, 10, 8, 7, 7, 0, 8, 1, 10, 1, 8, 9, 11, 10, 9]\n",
      "[ 0.65756878  1.10994734  1.59991673  1.67402985  2.34071118 -1.14979083\n",
      " -0.96753219 -0.64693425 -0.7073224  -0.81097164 -0.9924043  -0.95926955\n",
      " -0.9924043  -0.86431121 -0.84210047 -1.12555131 -0.84210047 -0.75588118\n",
      " -1.0740205  -1.26516046 -1.24554481 -1.31220487 -1.31108568 -0.87982733\n",
      " -0.0198896   0.55942689  1.10994723  1.59991673  1.67403055  2.34071118]\n",
      " 6/20 [========>.....................] - ETA: 0s - loss: 0.7932 - value_loss: 0.1081 - policy_loss: 0.6851 - policy_acc: 0.6133"
     ]
    },
    {
     "name": "stderr",
     "output_type": "stream",
     "text": [
      "\n"
     ]
    },
    {
     "name": "stdout",
     "output_type": "stream",
     "text": [
      "20/20 [==============================] - 0s 12ms/step - loss: 0.7589 - value_loss: 0.1026 - policy_loss: 0.6562 - policy_acc: 0.6072\n",
      "30/30 [==============================] - 0s 16ms/step\n"
     ]
    },
    {
     "name": "stderr",
     "output_type": "stream",
     "text": [
      "2500it [00:00, 78037.05it/s]"
     ]
    },
    {
     "name": "stdout",
     "output_type": "stream",
     "text": [
      "[10, 9, 11, 10, 9, 1, 1, 1, 1, 5, 4, 5, 4, 4, 10, 6, 10, 4, 7, 7, 0, 8, 1, 10, 1, 9, 9, 11, 10, 9]\n",
      "[ 0.52767795  1.04980159  1.49269872  1.93588619  2.35301895 -1.10463169\n",
      " -0.96023918 -0.71916696 -0.77378621 -0.76145077 -0.99238952 -0.88247969\n",
      " -0.99238952 -0.95878332 -0.86679802 -1.0956196  -0.86679802 -0.7541571\n",
      " -0.98161044 -1.14104576 -1.16704068 -1.21188986 -1.17661299 -0.81091261\n",
      "  0.07688144  0.5270494   1.04980171  1.49269825  1.93588572  2.35301895]\n",
      " 6/20 [========>.....................] - ETA: 0s - loss: 0.7087 - value_loss: 0.0920 - policy_loss: 0.6166 - policy_acc: 0.5964"
     ]
    },
    {
     "name": "stderr",
     "output_type": "stream",
     "text": [
      "\n"
     ]
    },
    {
     "name": "stdout",
     "output_type": "stream",
     "text": [
      "20/20 [==============================] - 0s 12ms/step - loss: 0.7133 - value_loss: 0.0934 - policy_loss: 0.6198 - policy_acc: 0.6076\n",
      "30/30 [==============================] - 0s 15ms/step\n"
     ]
    },
    {
     "name": "stderr",
     "output_type": "stream",
     "text": [
      "2500it [00:00, 99919.57it/s]"
     ]
    },
    {
     "name": "stdout",
     "output_type": "stream",
     "text": [
      "[9, 9, 11, 10, 9, 1, 1, 1, 1, 5, 4, 5, 4, 4, 10, 6, 10, 4, 7, 7, 0, 8, 6, 10, 1, 8, 9, 11, 10, 9]\n",
      "[ 0.59489921  0.99545771  1.53603864  1.93785244  2.31228218 -1.22711731\n",
      " -1.0002521  -0.80193752 -0.82519011 -0.79396653 -0.9992956  -0.93793302\n",
      " -0.9992956  -0.89179659 -0.81896988 -1.08788436 -0.81896988 -0.70556045\n",
      " -1.01013138 -1.13723409 -1.17902133 -1.26739608 -1.14257494 -0.65438623\n",
      "  0.1485746   0.59489892  0.99545748  1.53603852  1.9378529   2.31228218]\n",
      " 6/20 [========>.....................] - ETA: 0s - loss: 0.7271 - value_loss: 0.1040 - policy_loss: 0.6231 - policy_acc: 0.6276"
     ]
    },
    {
     "name": "stderr",
     "output_type": "stream",
     "text": [
      "\n"
     ]
    },
    {
     "name": "stdout",
     "output_type": "stream",
     "text": [
      "20/20 [==============================] - 0s 11ms/step - loss: 0.6904 - value_loss: 0.0902 - policy_loss: 0.6002 - policy_acc: 0.6296\n",
      "30/30 [==============================] - 0s 16ms/step\n"
     ]
    },
    {
     "name": "stderr",
     "output_type": "stream",
     "text": [
      "2500it [00:00, 118954.95it/s]"
     ]
    },
    {
     "name": "stdout",
     "output_type": "stream",
     "text": [
      "[10, 9, 10, 10, 9, 0, 7, 2, 8, 5, 5, 5, 5, 4, 10, 6, 10, 8, 7, 6, 0, 8, 6, 10, 1, 9, 9, 10, 10, 9]\n",
      "[ 0.71354278  1.20852276  1.52935647  1.76583565  2.30837238 -1.31725578\n",
      " -1.05925883 -0.80193093 -0.77669591 -0.81631548 -1.05358758 -0.98911842\n",
      " -1.05358758 -0.95703987 -0.81645593 -1.10566699 -0.81645593 -0.73683173\n",
      " -1.023177   -1.23801574 -1.16752303 -1.2159024  -1.13391091 -0.61311225\n",
      "  0.12048328  0.62426294  1.20852288  1.52935683  1.76583542  2.30837238]\n",
      " 6/20 [========>.....................] - ETA: 0s - loss: 0.7036 - value_loss: 0.1026 - policy_loss: 0.6010 - policy_acc: 0.6250"
     ]
    },
    {
     "name": "stderr",
     "output_type": "stream",
     "text": [
      "\n"
     ]
    },
    {
     "name": "stdout",
     "output_type": "stream",
     "text": [
      "20/20 [==============================] - 0s 12ms/step - loss: 0.6739 - value_loss: 0.0986 - policy_loss: 0.5753 - policy_acc: 0.6384\n",
      "30/30 [==============================] - 0s 14ms/step\n"
     ]
    },
    {
     "name": "stderr",
     "output_type": "stream",
     "text": [
      "2500it [00:00, 96068.31it/s]"
     ]
    },
    {
     "name": "stdout",
     "output_type": "stream",
     "text": [
      "[10, 9, 10, 10, 9, 0, 0, 2, 8, 9, 4, 5, 4, 4, 10, 6, 10, 8, 10, 7, 0, 8, 6, 10, 1, 8, 9, 10, 10, 9]\n",
      "[ 0.64662268  1.08286407  1.48874749  1.79787837  2.34646376 -1.28262923\n",
      " -1.15061175 -0.84260336 -0.73188076 -0.75527483 -0.95992676 -0.99808016\n",
      " -0.95992676 -0.90146147 -0.83487481 -1.11125664 -0.83487481 -0.71568668\n",
      " -1.0592079  -1.30698886 -1.1673343  -1.16765921 -1.11280993 -0.52801845\n",
      "  0.12478674  0.62736067  1.08286429  1.48874692  1.79787791  2.34646376]\n",
      " 5/20 [======>.......................] - ETA: 0s - loss: 0.7596 - value_loss: 0.1075 - policy_loss: 0.6521 - policy_acc: 0.6422"
     ]
    },
    {
     "name": "stderr",
     "output_type": "stream",
     "text": [
      "\n"
     ]
    },
    {
     "name": "stdout",
     "output_type": "stream",
     "text": [
      "20/20 [==============================] - 0s 12ms/step - loss: 0.7083 - value_loss: 0.0967 - policy_loss: 0.6116 - policy_acc: 0.6280\n",
      "30/30 [==============================] - 0s 14ms/step\n"
     ]
    },
    {
     "name": "stderr",
     "output_type": "stream",
     "text": [
      "2500it [00:00, 131459.81it/s]"
     ]
    },
    {
     "name": "stdout",
     "output_type": "stream",
     "text": [
      "[10, 9, 10, 10, 9, 10, 11, 2, 8, 9, 5, 5, 5, 4, 10, 9, 10, 8, 10, 9, 0, 8, 6, 10, 1, 9, 9, 10, 10, 9]\n",
      "[ 0.54628454  1.0822676   1.42781841  1.74952991  2.39999517 -1.23420397\n",
      " -0.99921523 -0.7698522  -0.75602608 -0.76079152 -1.02396105 -0.98626512\n",
      " -1.02396105 -0.9991727  -0.81225953 -1.11006487 -0.81225953 -0.72520243\n",
      " -1.06885866 -1.30344865 -1.15095856 -1.18916919 -1.01299296 -0.35944958\n",
      "  0.18548696  0.56165307  1.08226713  1.42781888  1.74952991  2.39999517]\n",
      " 6/20 [========>.....................] - ETA: 0s - loss: 0.6868 - value_loss: 0.0887 - policy_loss: 0.5981 - policy_acc: 0.6159"
     ]
    },
    {
     "name": "stderr",
     "output_type": "stream",
     "text": [
      "\n"
     ]
    },
    {
     "name": "stdout",
     "output_type": "stream",
     "text": [
      "20/20 [==============================] - 0s 11ms/step - loss: 0.6686 - value_loss: 0.0836 - policy_loss: 0.5850 - policy_acc: 0.6288\n",
      "30/30 [==============================] - 0s 12ms/step\n"
     ]
    },
    {
     "name": "stderr",
     "output_type": "stream",
     "text": [
      "2500it [00:00, 113527.71it/s]"
     ]
    },
    {
     "name": "stdout",
     "output_type": "stream",
     "text": [
      "[9, 9, 10, 10, 9, 10, 11, 2, 8, 9, 10, 0, 10, 6, 10, 6, 10, 8, 10, 6, 0, 8, 1, 10, 1, 8, 9, 10, 10, 9]\n",
      "[ 0.58104189  0.97277369  1.33798324  1.93673739  2.44286043 -1.18361424\n",
      " -0.95021509 -0.79186708 -0.8295033  -0.73236482 -1.06479895 -0.9884272\n",
      " -1.06479895 -1.04230008 -0.8394108  -1.07725293 -0.8394108  -0.68166609\n",
      " -1.06653152 -1.25421219 -1.15145815 -1.09512383 -0.99727505 -0.4304945\n",
      "  0.12692118  0.58104177  0.97277357  1.33798301  1.93673785  2.44286043]\n",
      " 6/20 [========>.....................] - ETA: 0s - loss: 0.7178 - value_loss: 0.0774 - policy_loss: 0.6404 - policy_acc: 0.6250"
     ]
    },
    {
     "name": "stderr",
     "output_type": "stream",
     "text": [
      "\n"
     ]
    },
    {
     "name": "stdout",
     "output_type": "stream",
     "text": [
      "20/20 [==============================] - 0s 11ms/step - loss: 0.6854 - value_loss: 0.0924 - policy_loss: 0.5931 - policy_acc: 0.6364\n",
      "30/30 [==============================] - 0s 15ms/step\n"
     ]
    },
    {
     "name": "stderr",
     "output_type": "stream",
     "text": [
      "2500it [00:00, 80561.16it/s]"
     ]
    },
    {
     "name": "stdout",
     "output_type": "stream",
     "text": [
      "[10, 9, 11, 10, 9, 10, 11, 2, 8, 9, 10, 0, 10, 4, 10, 6, 10, 8, 7, 10, 0, 8, 6, 10, 1, 8, 9, 11, 10, 9]\n",
      "[ 0.57207723  0.88072881  1.41887646  1.91289965  2.41890168 -1.18781726\n",
      " -1.00844176 -0.88895026 -0.83705216 -0.74131408 -1.08049675 -0.96379183\n",
      " -1.08049675 -1.05247318 -0.83484984 -1.04773269 -0.83484984 -0.68385891\n",
      " -1.06277343 -1.19178561 -1.06895943 -1.02837644 -0.99425945 -0.43684889\n",
      "  0.1420641   0.53953502  0.88072812  1.41887623  1.91290011  2.41890168]\n",
      " 6/20 [========>.....................] - ETA: 0s - loss: 0.6785 - value_loss: 0.0964 - policy_loss: 0.5821 - policy_acc: 0.6523"
     ]
    },
    {
     "name": "stderr",
     "output_type": "stream",
     "text": [
      "\n"
     ]
    },
    {
     "name": "stdout",
     "output_type": "stream",
     "text": [
      "20/20 [==============================] - 0s 11ms/step - loss: 0.6900 - value_loss: 0.0918 - policy_loss: 0.5982 - policy_acc: 0.6424\n",
      "30/30 [==============================] - 1s 17ms/step\n"
     ]
    },
    {
     "name": "stderr",
     "output_type": "stream",
     "text": [
      "2500it [00:00, 101943.05it/s]"
     ]
    },
    {
     "name": "stdout",
     "output_type": "stream",
     "text": [
      "[10, 9, 11, 10, 9, 10, 7, 7, 8, 9, 10, 0, 10, 4, 10, 6, 10, 8, 7, 10, 0, 8, 1, 10, 1, 8, 9, 11, 10, 9]\n",
      "[ 0.64132634  0.94767618  1.39587291  1.91589306  2.38782446 -1.24326569\n",
      " -1.01714534 -0.85333722 -0.89520181 -0.7322464  -1.07594501 -0.95123145\n",
      " -1.07594501 -1.048342   -0.86282563 -1.11324546 -0.86282563 -0.64397512\n",
      " -0.97221529 -1.20267941 -1.06741621 -1.09985584 -1.03220131 -0.52457533\n",
      "  0.09089717  0.52333949  0.94767618  1.39587291  1.91589306  2.38782446]\n",
      " 5/20 [======>.......................] - ETA: 0s - loss: 0.6985 - value_loss: 0.0758 - policy_loss: 0.6227 - policy_acc: 0.6187"
     ]
    },
    {
     "name": "stderr",
     "output_type": "stream",
     "text": [
      "\n"
     ]
    },
    {
     "name": "stdout",
     "output_type": "stream",
     "text": [
      "20/20 [==============================] - 0s 13ms/step - loss: 0.6475 - value_loss: 0.0818 - policy_loss: 0.5658 - policy_acc: 0.6556\n",
      "30/30 [==============================] - 0s 14ms/step\n"
     ]
    },
    {
     "name": "stderr",
     "output_type": "stream",
     "text": [
      "2500it [00:00, 124900.36it/s]"
     ]
    },
    {
     "name": "stdout",
     "output_type": "stream",
     "text": [
      "[10, 9, 10, 10, 9, 10, 7, 7, 8, 9, 10, 5, 10, 4, 10, 6, 10, 4, 7, 6, 10, 8, 6, 10, 1, 8, 9, 10, 10, 9]\n",
      "[ 0.56760817  0.97304787  1.48783847  1.99683602  2.31734537 -1.23620168\n",
      " -1.09016489 -0.80997275 -0.84784981 -0.78600442 -1.1005948  -1.05571165\n",
      " -1.1005948  -0.97382744 -0.80611864 -1.02492643 -0.80611864 -0.66471162\n",
      " -1.00584537 -1.2078999  -1.13924193 -1.15501116 -0.91763895 -0.31043907\n",
      "  0.20706641  0.53116002  0.97304844  1.48783836  1.99683625  2.31734537]\n",
      " 6/20 [========>.....................] - ETA: 0s - loss: 0.6254 - value_loss: 0.0851 - policy_loss: 0.5403 - policy_acc: 0.6602"
     ]
    },
    {
     "name": "stderr",
     "output_type": "stream",
     "text": [
      "\n"
     ]
    },
    {
     "name": "stdout",
     "output_type": "stream",
     "text": [
      "20/20 [==============================] - 0s 10ms/step - loss: 0.6287 - value_loss: 0.0881 - policy_loss: 0.5406 - policy_acc: 0.6704\n",
      "30/30 [==============================] - 0s 14ms/step\n"
     ]
    },
    {
     "name": "stderr",
     "output_type": "stream",
     "text": [
      "2500it [00:00, 104097.69it/s]"
     ]
    },
    {
     "name": "stdout",
     "output_type": "stream",
     "text": [
      "[9, 9, 10, 10, 9, 10, 7, 2, 8, 9, 10, 5, 10, 4, 10, 6, 10, 8, 7, 9, 10, 8, 6, 10, 1, 8, 9, 10, 10, 9]\n",
      "[ 0.63728446  1.05953948  1.52611279  1.91615237  2.27030233 -1.28262743\n",
      " -1.0503113  -0.87724608 -0.84834305 -0.81462045 -1.08663752 -1.09310355\n",
      " -1.08663752 -0.9259972  -0.83506867 -1.18073735 -0.83506867 -0.59667159\n",
      " -1.03453575 -1.33049001 -1.23118474 -1.17927244 -0.89952804 -0.24336858\n",
      "  0.19935053  0.63728446  1.0595396   1.52611302  1.91615214  2.27030233]\n",
      " 7/20 [=========>....................] - ETA: 0s - loss: 0.6631 - value_loss: 0.0874 - policy_loss: 0.5757 - policy_acc: 0.6652"
     ]
    },
    {
     "name": "stderr",
     "output_type": "stream",
     "text": [
      "\n"
     ]
    },
    {
     "name": "stdout",
     "output_type": "stream",
     "text": [
      "20/20 [==============================] - 0s 10ms/step - loss: 0.6021 - value_loss: 0.0834 - policy_loss: 0.5187 - policy_acc: 0.6860\n",
      "30/30 [==============================] - 0s 15ms/step\n"
     ]
    },
    {
     "name": "stderr",
     "output_type": "stream",
     "text": [
      "2500it [00:00, 124906.31it/s]"
     ]
    },
    {
     "name": "stdout",
     "output_type": "stream",
     "text": [
      "[10, 9, 10, 10, 9, 10, 11, 8, 8, 9, 10, 5, 10, 4, 10, 9, 10, 8, 7, 10, 10, 10, 6, 10, 1, 9, 9, 10, 10, 9]\n",
      "[ 0.5565778   1.06239446  1.50384984  1.80279421  2.26561247 -1.31272761\n",
      " -1.08939592 -0.92748409 -0.80606174 -0.78851109 -1.07106573 -1.09969801\n",
      " -1.07106573 -0.94196896 -0.76236061 -1.1814241  -0.76236061 -0.61117581\n",
      " -1.0265359  -1.25124162 -1.14573501 -1.14417437 -0.89744431 -0.25234654\n",
      "  0.12360071  0.45222861  1.06239422  1.50384984  1.80279421  2.26561247]\n",
      " 6/20 [========>.....................] - ETA: 0s - loss: 0.6703 - value_loss: 0.0856 - policy_loss: 0.5847 - policy_acc: 0.6810"
     ]
    },
    {
     "name": "stderr",
     "output_type": "stream",
     "text": [
      "\n"
     ]
    },
    {
     "name": "stdout",
     "output_type": "stream",
     "text": [
      "20/20 [==============================] - 0s 11ms/step - loss: 0.6287 - value_loss: 0.0971 - policy_loss: 0.5316 - policy_acc: 0.6860\n",
      "30/30 [==============================] - 0s 16ms/step\n"
     ]
    },
    {
     "name": "stderr",
     "output_type": "stream",
     "text": [
      "2500it [00:00, 110929.90it/s]"
     ]
    },
    {
     "name": "stdout",
     "output_type": "stream",
     "text": [
      "[10, 9, 10, 10, 9, 10, 7, 7, 8, 9, 4, 0, 4, 4, 10, 6, 10, 8, 10, 10, 0, 8, 6, 10, 1, 8, 9, 10, 10, 9]\n",
      "[ 0.60924473  0.99579568  1.53562851  1.87932732  2.22896763 -1.33536888\n",
      " -1.17645574 -1.00546057 -0.90348892 -0.74085025 -1.12888251 -1.02418544\n",
      " -1.12888251 -0.99623141 -0.86264789 -1.14004318 -0.86264789 -0.67473457\n",
      " -1.0772565  -1.24742915 -1.12770765 -1.21286458 -0.99711464 -0.31283377\n",
      "  0.20805044  0.57839948  0.99579568  1.53562851  1.87932757  2.22896763]\n",
      " 6/20 [========>.....................] - ETA: 0s - loss: 0.6064 - value_loss: 0.1004 - policy_loss: 0.5060 - policy_acc: 0.7174"
     ]
    },
    {
     "name": "stderr",
     "output_type": "stream",
     "text": [
      "\n"
     ]
    },
    {
     "name": "stdout",
     "output_type": "stream",
     "text": [
      "20/20 [==============================] - 0s 11ms/step - loss: 0.6149 - value_loss: 0.0954 - policy_loss: 0.5195 - policy_acc: 0.6920\n",
      "30/30 [==============================] - 1s 17ms/step\n"
     ]
    },
    {
     "name": "stderr",
     "output_type": "stream",
     "text": [
      "2500it [00:00, 110993.31it/s]"
     ]
    },
    {
     "name": "stdout",
     "output_type": "stream",
     "text": [
      "[10, 9, 10, 10, 9, 10, 7, 7, 8, 9, 4, 0, 4, 4, 8, 6, 8, 8, 8, 10, 10, 10, 1, 10, 1, 8, 9, 10, 10, 9]\n",
      "[ 0.61567176  1.01485651  1.51720339  1.81317985  2.26349265 -1.36879741\n",
      " -1.17948548 -0.98630709 -0.93963181 -0.68043826 -1.07831978 -1.00332715\n",
      " -1.07831978 -0.97153347 -0.96150916 -1.16186231 -0.96150916 -0.6768197\n",
      " -1.14134902 -1.31646705 -1.24419302 -1.21320015 -1.02038321 -0.33559828\n",
      "  0.11761824  0.44376126  1.01485616  1.51720292  1.81318009  2.26349265]\n",
      " 6/20 [========>.....................] - ETA: 0s - loss: 0.5831 - value_loss: 0.0966 - policy_loss: 0.4865 - policy_acc: 0.7188"
     ]
    },
    {
     "name": "stderr",
     "output_type": "stream",
     "text": [
      "\n"
     ]
    },
    {
     "name": "stdout",
     "output_type": "stream",
     "text": [
      "20/20 [==============================] - 0s 12ms/step - loss: 0.5981 - value_loss: 0.0951 - policy_loss: 0.5030 - policy_acc: 0.7120\n",
      "30/30 [==============================] - 0s 14ms/step\n"
     ]
    },
    {
     "name": "stderr",
     "output_type": "stream",
     "text": [
      "2500it [00:00, 108617.95it/s]"
     ]
    },
    {
     "name": "stdout",
     "output_type": "stream",
     "text": [
      "[10, 9, 10, 10, 9, 10, 7, 2, 8, 9, 4, 0, 4, 4, 10, 6, 10, 8, 5, 10, 10, 10, 6, 10, 1, 8, 9, 10, 10, 9]\n",
      "[ 0.61665568  1.01178946  1.54327021  1.92449426  2.33036145 -1.31968108\n",
      " -1.02695465 -0.96000305 -0.98406187 -0.69903348 -1.06230346 -1.08624933\n",
      " -1.06230346 -0.94077922 -0.89951409 -1.17362588 -0.89951409 -0.826926\n",
      " -1.16751846 -1.3215659  -1.23880501 -1.12795625 -0.92354583 -0.24924521\n",
      "  0.19551359  0.51323051  1.01179041  1.54327069  1.92449426  2.33036145]\n",
      " 6/20 [========>.....................] - ETA: 0s - loss: 0.5991 - value_loss: 0.0885 - policy_loss: 0.5106 - policy_acc: 0.6927"
     ]
    },
    {
     "name": "stderr",
     "output_type": "stream",
     "text": [
      "\n"
     ]
    },
    {
     "name": "stdout",
     "output_type": "stream",
     "text": [
      "20/20 [==============================] - 0s 12ms/step - loss: 0.5835 - value_loss: 0.0821 - policy_loss: 0.5013 - policy_acc: 0.6944\n",
      "30/30 [==============================] - 0s 15ms/step\n"
     ]
    },
    {
     "name": "stderr",
     "output_type": "stream",
     "text": [
      "2500it [00:00, 89177.52it/s]"
     ]
    },
    {
     "name": "stdout",
     "output_type": "stream",
     "text": [
      "[10, 9, 10, 10, 9, 10, 7, 10, 10, 9, 4, 5, 4, 4, 10, 6, 10, 8, 10, 10, 10, 8, 6, 10, 1, 8, 9, 10, 10, 9]\n",
      "[ 0.52953615  0.99610106  1.44478283  1.82057459  2.39169116 -1.2372189\n",
      " -1.05574704 -0.96073239 -1.03763142 -0.62181775 -1.03763142 -1.13217843\n",
      " -1.03763142 -1.03125539 -0.97688337 -1.11675794 -0.97688337 -0.84666596\n",
      " -1.18473839 -1.2855392  -1.27600559 -1.09968648 -0.88959541 -0.27163684\n",
      "  0.1420122   0.51550905  0.99610094  1.44478329  1.82057459  2.39169116]\n",
      " 1/20 [>.............................] - ETA: 0s - loss: 0.5260 - value_loss: 0.0703 - policy_loss: 0.4557 - policy_acc: 0.6797"
     ]
    },
    {
     "name": "stderr",
     "output_type": "stream",
     "text": [
      "\n"
     ]
    },
    {
     "name": "stdout",
     "output_type": "stream",
     "text": [
      "20/20 [==============================] - 0s 12ms/step - loss: 0.5789 - value_loss: 0.0817 - policy_loss: 0.4972 - policy_acc: 0.6904\n"
     ]
    },
    {
     "name": "stderr",
     "output_type": "stream",
     "text": [
      "100%|██████████| 100/100 [00:06<00:00, 15.09it/s]\n",
      "100%|██████████| 2500/2500 [01:07<00:00, 37.06it/s]\n"
     ]
    },
    {
     "name": "stdout",
     "output_type": "stream",
     "text": [
      "30/30 [==============================] - 1s 17ms/step\n"
     ]
    },
    {
     "name": "stderr",
     "output_type": "stream",
     "text": [
      "2500it [00:00, 86111.19it/s]"
     ]
    },
    {
     "name": "stdout",
     "output_type": "stream",
     "text": [
      "[6, 7, 5, 7, 7, 1, 5, 3, 7, 5, 4, 4, 0, 7, 7, 4, 0, 0, 0, 9, 8, 6, 1, 1, 8, 9, 11, 3, 11, 8]\n",
      "[ 2.35600704  2.03698048  1.23420696  2.03698048  2.35600704 -0.65963179\n",
      " -0.8096554  -0.49776552 -0.88238721 -1.29508054 -1.28763343 -1.16511934\n",
      " -0.71507446 -0.3878255  -0.30594451 -0.05914581  0.07913498  0.36488966\n",
      "  0.5713344   0.89595071  1.06178094  0.89595071  0.59837841  0.89595071\n",
      "  1.06178094  1.21268755  1.96618536  1.21268755  1.96618536  2.35600704]\n",
      " 1/20 [>.............................] - ETA: 0s - loss: 0.9301 - value_loss: 0.1160 - policy_loss: 0.8141 - policy_acc: 0.4766"
     ]
    },
    {
     "name": "stderr",
     "output_type": "stream",
     "text": [
      "\n"
     ]
    },
    {
     "name": "stdout",
     "output_type": "stream",
     "text": [
      "20/20 [==============================] - 0s 12ms/step - loss: 0.9242 - value_loss: 0.1188 - policy_loss: 0.8055 - policy_acc: 0.4952\n",
      "30/30 [==============================] - 0s 16ms/step\n"
     ]
    },
    {
     "name": "stderr",
     "output_type": "stream",
     "text": [
      "2500it [00:00, 87638.41it/s]"
     ]
    },
    {
     "name": "stdout",
     "output_type": "stream",
     "text": [
      "[6, 6, 5, 6, 7, 1, 5, 3, 7, 11, 4, 4, 4, 7, 7, 4, 7, 0, 0, 9, 8, 6, 1, 1, 8, 9, 11, 3, 11, 8]\n",
      "[ 2.3593593   1.90809697  1.39283036  1.90809697  2.3593593  -0.65949345\n",
      " -0.77527559 -0.52058919 -0.86531806 -1.2038114  -1.24716213 -1.16603301\n",
      " -0.83959295 -0.47134152 -0.33472515 -0.10708353  0.03127879  0.29167193\n",
      "  0.51046466  0.83338151  1.06943235  0.83338151  0.59821884  0.83338151\n",
      "  1.06943235  1.41507722  1.86771793  1.41507722  1.86771793  2.35935882]\n",
      " 1/20 [>.............................] - ETA: 0s - loss: 1.0364 - value_loss: 0.1206 - policy_loss: 0.9159 - policy_acc: 0.4688"
     ]
    },
    {
     "name": "stderr",
     "output_type": "stream",
     "text": [
      "\n"
     ]
    },
    {
     "name": "stdout",
     "output_type": "stream",
     "text": [
      "20/20 [==============================] - 0s 13ms/step - loss: 0.8708 - value_loss: 0.1091 - policy_loss: 0.7617 - policy_acc: 0.5360\n",
      "30/30 [==============================] - 1s 18ms/step\n"
     ]
    },
    {
     "name": "stderr",
     "output_type": "stream",
     "text": [
      "2500it [00:00, 113532.63it/s]"
     ]
    },
    {
     "name": "stdout",
     "output_type": "stream",
     "text": [
      "[6, 7, 5, 7, 7, 1, 5, 3, 7, 8, 4, 4, 4, 7, 7, 4, 7, 0, 0, 8, 8, 6, 6, 1, 8, 9, 11, 3, 11, 8]\n",
      "[ 2.30728292  1.98729758  1.39775053  1.98729758  2.30728292 -0.70891104\n",
      " -0.88074915 -0.64008117 -0.95544629 -1.25544367 -1.18694379 -1.13013137\n",
      " -0.75552112 -0.51114515 -0.34812018 -0.00414213  0.10680396  0.32837475\n",
      "  0.46127442  0.86120659  1.1411702   0.80092803  0.52190823  0.80092803\n",
      "  1.1411702   1.34966919  1.85659753  1.34966919  1.85659753  2.30728315]\n",
      " 6/20 [========>.....................] - ETA: 0s - loss: 0.7956 - value_loss: 0.1224 - policy_loss: 0.6732 - policy_acc: 0.5716"
     ]
    },
    {
     "name": "stderr",
     "output_type": "stream",
     "text": [
      "\n"
     ]
    },
    {
     "name": "stdout",
     "output_type": "stream",
     "text": [
      "20/20 [==============================] - 0s 13ms/step - loss: 0.7522 - value_loss: 0.1144 - policy_loss: 0.6378 - policy_acc: 0.5864\n",
      "30/30 [==============================] - 1s 16ms/step\n"
     ]
    },
    {
     "name": "stderr",
     "output_type": "stream",
     "text": [
      "2500it [00:00, 86112.61it/s]"
     ]
    },
    {
     "name": "stdout",
     "output_type": "stream",
     "text": [
      "[6, 7, 5, 7, 7, 1, 5, 3, 7, 4, 4, 4, 4, 7, 7, 4, 7, 0, 0, 8, 8, 6, 1, 1, 8, 9, 11, 3, 11, 8]\n",
      "[ 2.26574686  1.8638878   1.41557434  1.8638878   2.26574686 -0.58246182\n",
      " -0.89905205 -0.57988251 -0.89923548 -1.21398493 -1.20574242 -1.09979883\n",
      " -0.82154036 -0.51804135 -0.34893377 -0.01799728  0.17665408  0.3640186\n",
      "  0.51395083  0.86645675  1.1488836   0.80969772  0.47906382  0.80969772\n",
      "  1.1488836   1.5053498   1.69770955  1.5053498   1.69770955  2.26574686]\n",
      " 1/20 [>.............................] - ETA: 0s - loss: 0.6945 - value_loss: 0.1065 - policy_loss: 0.5880 - policy_acc: 0.5938"
     ]
    },
    {
     "name": "stderr",
     "output_type": "stream",
     "text": [
      "\n"
     ]
    },
    {
     "name": "stdout",
     "output_type": "stream",
     "text": [
      "20/20 [==============================] - 0s 12ms/step - loss: 0.7565 - value_loss: 0.1102 - policy_loss: 0.6464 - policy_acc: 0.6124\n",
      "30/30 [==============================] - 0s 13ms/step\n"
     ]
    },
    {
     "name": "stderr",
     "output_type": "stream",
     "text": [
      "2500it [00:00, 129471.41it/s]"
     ]
    },
    {
     "name": "stdout",
     "output_type": "stream",
     "text": [
      "[6, 7, 5, 7, 7, 1, 5, 3, 5, 4, 4, 4, 4, 7, 7, 4, 0, 0, 0, 3, 8, 6, 1, 1, 8, 9, 11, 3, 11, 8]\n",
      "[ 2.31990063  1.93592445  1.46651823  1.93592445  2.31990063 -0.54478677\n",
      " -0.89204017 -0.56673727 -0.89668965 -1.13650898 -1.18198624 -1.09089985\n",
      " -0.83377091 -0.50841311 -0.41360902 -0.03869647  0.1190723   0.31296798\n",
      "  0.47291083  0.76096043  0.98544978  0.72296036  0.5120123   0.72296036\n",
      "  0.98544978  1.40824416  1.63882876  1.40824416  1.63882876  2.31990051]\n",
      " 6/20 [========>.....................] - ETA: 0s - loss: 0.7499 - value_loss: 0.0990 - policy_loss: 0.6509 - policy_acc: 0.5885"
     ]
    },
    {
     "name": "stderr",
     "output_type": "stream",
     "text": [
      "\n"
     ]
    },
    {
     "name": "stdout",
     "output_type": "stream",
     "text": [
      "20/20 [==============================] - 0s 13ms/step - loss: 0.6975 - value_loss: 0.1035 - policy_loss: 0.5941 - policy_acc: 0.6252\n",
      "30/30 [==============================] - 0s 15ms/step\n"
     ]
    },
    {
     "name": "stderr",
     "output_type": "stream",
     "text": [
      "2500it [00:00, 94248.94it/s]"
     ]
    },
    {
     "name": "stdout",
     "output_type": "stream",
     "text": [
      "[6, 7, 5, 7, 7, 1, 1, 3, 7, 4, 4, 4, 6, 6, 0, 4, 0, 0, 0, 3, 8, 6, 6, 1, 8, 9, 11, 3, 11, 8]\n",
      "[ 2.32325494  1.82351884  1.31039187  1.82351884  2.32325494 -0.60292356\n",
      " -0.93213757 -0.62522875 -0.93213757 -1.16575844 -1.16100533 -1.12273939\n",
      " -0.86020121 -0.55197119 -0.43716409 -0.11287     0.14762139  0.24748702\n",
      "  0.35913865  0.72643513  0.96852136  0.64398683  0.51935079  0.64398683\n",
      "  0.96852136  1.34098525  1.74328516  1.34098525  1.74328516  2.32325482]\n"
     ]
    },
    {
     "name": "stderr",
     "output_type": "stream",
     "text": [
      "\n"
     ]
    },
    {
     "name": "stdout",
     "output_type": "stream",
     "text": [
      "20/20 [==============================] - 0s 17ms/step - loss: 0.7238 - value_loss: 0.0882 - policy_loss: 0.6356 - policy_acc: 0.6204\n",
      "30/30 [==============================] - 0s 13ms/step\n"
     ]
    },
    {
     "name": "stderr",
     "output_type": "stream",
     "text": [
      "2500it [00:00, 108695.64it/s]"
     ]
    },
    {
     "name": "stdout",
     "output_type": "stream",
     "text": [
      "[6, 6, 5, 6, 7, 1, 5, 3, 7, 8, 4, 8, 6, 6, 0, 4, 0, 0, 0, 3, 8, 6, 6, 1, 8, 9, 11, 3, 11, 8]\n",
      "[ 2.3018017   1.82298299  1.37926946  1.82298299  2.3018017  -0.73590628\n",
      " -1.02405946 -0.74686004 -1.05443881 -1.18543986 -1.15625417 -1.15398643\n",
      " -0.88598256 -0.63198835 -0.39294603 -0.1733169   0.12076348  0.17787803\n",
      "  0.35529618  0.77628662  0.99504104  0.68674977  0.60561774  0.68674977\n",
      "  0.99504104  1.36919358  1.93834766  1.36919358  1.93834766  2.3018017 ]\n",
      " 6/20 [========>.....................] - ETA: 0s - loss: 0.7258 - value_loss: 0.0991 - policy_loss: 0.6267 - policy_acc: 0.6185"
     ]
    },
    {
     "name": "stderr",
     "output_type": "stream",
     "text": [
      "\n"
     ]
    },
    {
     "name": "stdout",
     "output_type": "stream",
     "text": [
      "20/20 [==============================] - 0s 11ms/step - loss: 0.7014 - value_loss: 0.0940 - policy_loss: 0.6074 - policy_acc: 0.6300\n",
      "30/30 [==============================] - 0s 12ms/step\n"
     ]
    },
    {
     "name": "stderr",
     "output_type": "stream",
     "text": [
      "2500it [00:00, 108873.96it/s]"
     ]
    },
    {
     "name": "stdout",
     "output_type": "stream",
     "text": [
      "[6, 7, 5, 7, 7, 1, 5, 3, 7, 8, 4, 8, 8, 7, 8, 4, 0, 0, 0, 3, 8, 6, 6, 1, 8, 9, 11, 3, 11, 8]\n",
      "[ 2.35574344  1.97763817  1.42592716  1.97763817  2.35574344 -0.64893469\n",
      " -0.96749815 -0.72333091 -1.05086259 -1.140918   -1.16235472 -1.12721669\n",
      " -0.9318896  -0.66906235 -0.4708839  -0.28489699 -0.09359143  0.15348747\n",
      "  0.34208716  0.81521364  1.03280098  0.7309837   0.49098967  0.7309837\n",
      "  1.03280098  1.43462216  1.93034127  1.43462216  1.93034127  2.35574344]\n",
      " 6/20 [========>.....................] - ETA: 0s - loss: 0.7177 - value_loss: 0.0981 - policy_loss: 0.6196 - policy_acc: 0.6250"
     ]
    },
    {
     "name": "stderr",
     "output_type": "stream",
     "text": [
      "\n"
     ]
    },
    {
     "name": "stdout",
     "output_type": "stream",
     "text": [
      "20/20 [==============================] - 0s 11ms/step - loss: 0.6868 - value_loss: 0.0944 - policy_loss: 0.5925 - policy_acc: 0.6316\n",
      "30/30 [==============================] - 1s 19ms/step\n"
     ]
    },
    {
     "name": "stderr",
     "output_type": "stream",
     "text": [
      "2500it [00:00, 113635.98it/s]"
     ]
    },
    {
     "name": "stdout",
     "output_type": "stream",
     "text": [
      "[6, 7, 5, 7, 7, 1, 5, 10, 6, 5, 4, 8, 6, 7, 8, 4, 0, 0, 0, 3, 8, 6, 1, 1, 8, 9, 11, 3, 11, 8]\n",
      "[ 2.35906844  1.9629516   1.44455231  1.9629516   2.35906844 -0.7082336\n",
      " -0.92571567 -0.72720018 -1.02802933 -1.09043246 -1.20421498 -1.04628396\n",
      " -0.97684898 -0.64737115 -0.46724366 -0.40213315 -0.14635552  0.21220939\n",
      "  0.30245222  0.83362473  1.03564782  0.77429345  0.49181479  0.77429345\n",
      "  1.03564782  1.47582429  1.90084533  1.47582429  1.90084533  2.3590689 ]\n",
      " 6/20 [========>.....................] - ETA: 0s - loss: 0.6313 - value_loss: 0.0908 - policy_loss: 0.5405 - policy_acc: 0.6419"
     ]
    },
    {
     "name": "stderr",
     "output_type": "stream",
     "text": [
      "\n"
     ]
    },
    {
     "name": "stdout",
     "output_type": "stream",
     "text": [
      "20/20 [==============================] - 0s 11ms/step - loss: 0.6220 - value_loss: 0.0864 - policy_loss: 0.5356 - policy_acc: 0.6576\n",
      "30/30 [==============================] - 1s 22ms/step\n"
     ]
    },
    {
     "name": "stderr",
     "output_type": "stream",
     "text": [
      "2500it [00:00, 108695.64it/s]"
     ]
    },
    {
     "name": "stdout",
     "output_type": "stream",
     "text": [
      "[6, 6, 5, 6, 7, 1, 5, 10, 7, 5, 4, 8, 4, 7, 0, 4, 0, 0, 0, 3, 8, 6, 1, 1, 8, 9, 11, 3, 11, 8]\n",
      "[ 2.30421786  1.92801545  1.50748889  1.92801545  2.30421786 -0.59855344\n",
      " -0.93648942 -0.71141004 -1.03458792 -1.09823891 -1.26683852 -0.99427803\n",
      " -0.94436416 -0.64592047 -0.4154418  -0.33934871  0.00744518  0.23882198\n",
      "  0.39014244  0.86707532  1.02007325  0.79458277  0.51359517  0.79458277\n",
      "  1.02007325  1.39990097  1.92030533  1.39990097  1.92030533  2.30421798]\n",
      " 6/20 [========>.....................] - ETA: 0s - loss: 0.7028 - value_loss: 0.0814 - policy_loss: 0.6215 - policy_acc: 0.6667"
     ]
    },
    {
     "name": "stderr",
     "output_type": "stream",
     "text": [
      "\n"
     ]
    },
    {
     "name": "stdout",
     "output_type": "stream",
     "text": [
      "20/20 [==============================] - 0s 12ms/step - loss: 0.6402 - value_loss: 0.0850 - policy_loss: 0.5552 - policy_acc: 0.6744\n",
      "30/30 [==============================] - 0s 14ms/step\n"
     ]
    },
    {
     "name": "stderr",
     "output_type": "stream",
     "text": [
      "2500it [00:00, 108695.64it/s]"
     ]
    },
    {
     "name": "stdout",
     "output_type": "stream",
     "text": [
      "[6, 6, 5, 6, 7, 1, 5, 3, 5, 10, 4, 8, 8, 7, 0, 4, 0, 0, 0, 3, 9, 6, 1, 1, 9, 9, 11, 3, 11, 8]\n",
      "[ 2.29230716  1.92163378  1.56691555  1.92163378  2.29230716 -0.58936715\n",
      " -0.94497259 -0.78646566 -1.01554509 -1.12942716 -1.23639428 -1.02444025\n",
      " -0.89101675 -0.64630242 -0.36852906 -0.32827068  0.04080449  0.11981039\n",
      "  0.36263192  0.88886915  1.04861787  0.70520992  0.54032843  0.70520992\n",
      "  1.04861787  1.53145416  1.90900337  1.53145416  1.90900337  2.29230728]\n",
      "11/20 [===============>..............] - ETA: 0s - loss: 0.7143 - value_loss: 0.0921 - policy_loss: 0.6223 - policy_acc: 0.6591"
     ]
    },
    {
     "name": "stderr",
     "output_type": "stream",
     "text": [
      "\n"
     ]
    },
    {
     "name": "stdout",
     "output_type": "stream",
     "text": [
      "20/20 [==============================] - 0s 10ms/step - loss: 0.6827 - value_loss: 0.0895 - policy_loss: 0.5931 - policy_acc: 0.6652\n",
      "30/30 [==============================] - 1s 17ms/step\n"
     ]
    },
    {
     "name": "stderr",
     "output_type": "stream",
     "text": [
      "2500it [00:00, 108695.64it/s]"
     ]
    },
    {
     "name": "stdout",
     "output_type": "stream",
     "text": [
      "[6, 6, 5, 6, 7, 1, 5, 3, 5, 8, 8, 8, 8, 7, 0, 4, 0, 0, 0, 3, 9, 6, 6, 1, 9, 9, 11, 3, 11, 8]\n",
      "[ 2.27618583  1.88225289  1.48471139  1.88225289  2.27618583 -0.58780335\n",
      " -0.87545815 -0.7839312  -1.03227311 -1.10656498 -1.20600794 -0.96845564\n",
      " -0.8556994  -0.67127724 -0.45311661 -0.37062631  0.01015967  0.15663455\n",
      "  0.38455968  0.88827481  1.03766553  0.75120977  0.64577848  0.75120977\n",
      "  1.03766553  1.52258235  1.91638153  1.52258235  1.91638153  2.27618583]\n",
      " 6/20 [========>.....................] - ETA: 0s - loss: 0.6009 - value_loss: 0.0724 - policy_loss: 0.5285 - policy_acc: 0.6680"
     ]
    },
    {
     "name": "stderr",
     "output_type": "stream",
     "text": [
      "\n"
     ]
    },
    {
     "name": "stdout",
     "output_type": "stream",
     "text": [
      "20/20 [==============================] - 0s 11ms/step - loss: 0.6128 - value_loss: 0.0758 - policy_loss: 0.5370 - policy_acc: 0.6676\n",
      "30/30 [==============================] - 1s 21ms/step\n"
     ]
    },
    {
     "name": "stderr",
     "output_type": "stream",
     "text": [
      "2500it [00:00, 106342.14it/s]"
     ]
    },
    {
     "name": "stdout",
     "output_type": "stream",
     "text": [
      "[6, 7, 5, 7, 7, 1, 5, 3, 5, 10, 8, 8, 8, 7, 0, 4, 0, 0, 0, 3, 5, 6, 6, 1, 5, 9, 11, 3, 11, 8]\n",
      "[ 2.25602403  1.7961666   1.33186706  1.7961666   2.25602403 -0.5911525\n",
      " -0.86752391 -0.78985842 -1.07283732 -1.08418457 -1.25224066 -0.99907057\n",
      " -0.94964191 -0.77078988 -0.4660666  -0.37312694  0.00959381  0.24814975\n",
      "  0.41324185  0.89777531  1.09174226  0.68364705  0.60239441  0.68364705\n",
      "  1.09174226  1.46693143  1.8234357   1.46693143  1.8234357   2.25602403]\n",
      " 6/20 [========>.....................] - ETA: 0s - loss: 0.6058 - value_loss: 0.0968 - policy_loss: 0.5090 - policy_acc: 0.6875"
     ]
    },
    {
     "name": "stderr",
     "output_type": "stream",
     "text": [
      "\n"
     ]
    },
    {
     "name": "stdout",
     "output_type": "stream",
     "text": [
      "20/20 [==============================] - 0s 11ms/step - loss: 0.5973 - value_loss: 0.0861 - policy_loss: 0.5111 - policy_acc: 0.6780\n",
      "30/30 [==============================] - 1s 16ms/step\n"
     ]
    },
    {
     "name": "stderr",
     "output_type": "stream",
     "text": [
      "2500it [00:00, 101307.78it/s]"
     ]
    },
    {
     "name": "stdout",
     "output_type": "stream",
     "text": [
      "[6, 7, 5, 7, 7, 5, 5, 3, 5, 8, 8, 8, 8, 7, 0, 4, 0, 0, 0, 3, 5, 6, 1, 1, 5, 9, 11, 3, 11, 8]\n",
      "[ 2.31666002  1.93602396  1.38240027  1.93602396  2.31666002 -0.60929148\n",
      " -0.83716246 -0.76032249 -1.13835779 -1.19600532 -1.29176632 -1.0675707\n",
      " -1.00881029 -0.7489096  -0.56152962 -0.42183232 -0.09206239  0.26898717\n",
      "  0.52108276  0.75094867  1.00183904  0.68057152  0.61957137  0.68057152\n",
      "  1.00183904  1.41037877  1.88505448  1.41037877  1.88505448  2.31666013]\n",
      " 6/20 [========>.....................] - ETA: 0s - loss: 0.7004 - value_loss: 0.1030 - policy_loss: 0.5974 - policy_acc: 0.6823"
     ]
    },
    {
     "name": "stderr",
     "output_type": "stream",
     "text": [
      "\n"
     ]
    },
    {
     "name": "stdout",
     "output_type": "stream",
     "text": [
      "20/20 [==============================] - 0s 11ms/step - loss: 0.6220 - value_loss: 0.0956 - policy_loss: 0.5264 - policy_acc: 0.6972\n",
      "30/30 [==============================] - 0s 13ms/step\n"
     ]
    },
    {
     "name": "stderr",
     "output_type": "stream",
     "text": [
      "2500it [00:00, 96152.88it/s]"
     ]
    },
    {
     "name": "stdout",
     "output_type": "stream",
     "text": [
      "[6, 7, 5, 7, 7, 1, 4, 3, 7, 8, 8, 8, 8, 7, 0, 4, 0, 0, 0, 3, 8, 6, 1, 1, 8, 9, 11, 3, 11, 8]\n",
      "[ 2.33280877  1.87857783  1.49321598  1.87857783  2.33280877 -0.55660573\n",
      " -0.85763072 -0.75145667 -1.08264675 -1.09562278 -1.24564346 -1.05278357\n",
      " -1.10230945 -0.7964264  -0.61617708 -0.50553281 -0.17111814  0.18199664\n",
      "  0.34782899  0.70377677  1.03788321  0.61822018  0.57118495  0.61822018\n",
      "  1.03788321  1.44430012  1.88779613  1.44430012  1.88779613  2.33280877]\n",
      " 6/20 [========>.....................] - ETA: 0s - loss: 0.6125 - value_loss: 0.0744 - policy_loss: 0.5381 - policy_acc: 0.6914"
     ]
    },
    {
     "name": "stderr",
     "output_type": "stream",
     "text": [
      "\n"
     ]
    },
    {
     "name": "stdout",
     "output_type": "stream",
     "text": [
      "20/20 [==============================] - 0s 12ms/step - loss: 0.6298 - value_loss: 0.0807 - policy_loss: 0.5491 - policy_acc: 0.6812\n",
      "30/30 [==============================] - 0s 15ms/step\n"
     ]
    },
    {
     "name": "stderr",
     "output_type": "stream",
     "text": [
      "2500it [00:00, 113637.21it/s]"
     ]
    },
    {
     "name": "stdout",
     "output_type": "stream",
     "text": [
      "[6, 6, 5, 6, 7, 1, 5, 9, 7, 8, 8, 8, 8, 7, 0, 4, 0, 0, 0, 3, 8, 6, 1, 1, 8, 9, 11, 3, 11, 8]\n",
      "[ 2.30460032  1.90835452  1.43252901  1.90835452  2.30460032 -0.65495336\n",
      " -0.98594804 -0.87102424 -1.15413542 -1.09648363 -1.20689908 -1.06889845\n",
      " -0.99806375 -0.75531246 -0.54306567 -0.45475392 -0.14075947  0.1301411\n",
      "  0.25317101  0.70069668  1.05300425  0.54287032  0.41649826  0.54287032\n",
      "  1.05300425  1.420101    1.90304649  1.420101    1.90304649  2.30460032]\n",
      " 6/20 [========>.....................] - ETA: 0s - loss: 0.6052 - value_loss: 0.0786 - policy_loss: 0.5266 - policy_acc: 0.7214"
     ]
    },
    {
     "name": "stderr",
     "output_type": "stream",
     "text": [
      "\n"
     ]
    },
    {
     "name": "stdout",
     "output_type": "stream",
     "text": [
      "20/20 [==============================] - 0s 12ms/step - loss: 0.6041 - value_loss: 0.0811 - policy_loss: 0.5230 - policy_acc: 0.7024\n",
      "30/30 [==============================] - 0s 14ms/step\n"
     ]
    },
    {
     "name": "stderr",
     "output_type": "stream",
     "text": [
      "2500it [00:00, 113635.98it/s]"
     ]
    },
    {
     "name": "stdout",
     "output_type": "stream",
     "text": [
      "[6, 6, 5, 6, 7, 1, 5, 9, 7, 8, 8, 8, 8, 7, 0, 4, 0, 0, 0, 9, 5, 6, 6, 1, 5, 9, 11, 3, 11, 8]\n",
      "[ 2.32076357  1.89976381  1.36837261  1.89976381  2.32076357 -0.55624729\n",
      " -1.0637592  -0.84164703 -1.09322169 -1.14367088 -1.26020221 -1.07248281\n",
      " -1.08726522 -0.79354892 -0.4727394  -0.42182974 -0.03298796  0.14765527\n",
      "  0.43585972  0.7264095   1.15703795  0.7264095   0.52433798  0.7264095\n",
      "  1.15703795  1.4040608   1.85192136  1.4040608   1.85192136  2.32076381]\n",
      " 6/20 [========>.....................] - ETA: 0s - loss: 0.6148 - value_loss: 0.0821 - policy_loss: 0.5327 - policy_acc: 0.6615"
     ]
    },
    {
     "name": "stderr",
     "output_type": "stream",
     "text": [
      "\n"
     ]
    },
    {
     "name": "stdout",
     "output_type": "stream",
     "text": [
      "20/20 [==============================] - 0s 11ms/step - loss: 0.6023 - value_loss: 0.0813 - policy_loss: 0.5210 - policy_acc: 0.6776\n",
      "30/30 [==============================] - 0s 15ms/step\n"
     ]
    },
    {
     "name": "stderr",
     "output_type": "stream",
     "text": [
      "2500it [00:00, 108138.52it/s]"
     ]
    },
    {
     "name": "stdout",
     "output_type": "stream",
     "text": [
      "[6, 6, 5, 6, 7, 1, 5, 9, 5, 8, 0, 8, 8, 7, 0, 4, 0, 0, 0, 9, 8, 6, 6, 1, 8, 9, 11, 3, 11, 8]\n",
      "[ 2.32847791  1.93179944  1.43005949  1.93179944  2.32847791 -0.59602037\n",
      " -1.02163226 -0.8586488  -1.11983349 -1.10798661 -1.19144714 -1.0740308\n",
      " -1.06676154 -0.73389721 -0.43725965 -0.29773877  0.03814712  0.13083459\n",
      "  0.40438979  0.73147341  0.99832189  0.73147341  0.60975663  0.73147341\n",
      "  0.99832189  1.44193427  1.92706859  1.44193427  1.92706859  2.32847814]\n",
      " 6/20 [========>.....................] - ETA: 0s - loss: 0.6950 - value_loss: 0.0792 - policy_loss: 0.6158 - policy_acc: 0.6628"
     ]
    },
    {
     "name": "stderr",
     "output_type": "stream",
     "text": [
      "\n"
     ]
    },
    {
     "name": "stdout",
     "output_type": "stream",
     "text": [
      "20/20 [==============================] - 0s 11ms/step - loss: 0.6119 - value_loss: 0.0807 - policy_loss: 0.5312 - policy_acc: 0.6936\n",
      "30/30 [==============================] - 1s 18ms/step\n"
     ]
    },
    {
     "name": "stderr",
     "output_type": "stream",
     "text": [
      "2500it [00:00, 76917.37it/s]"
     ]
    },
    {
     "name": "stdout",
     "output_type": "stream",
     "text": [
      "[6, 7, 5, 7, 7, 1, 5, 9, 8, 8, 8, 8, 8, 8, 8, 4, 0, 0, 0, 9, 5, 6, 1, 1, 5, 9, 11, 3, 11, 8]\n",
      "[ 2.31158722  1.9858749   1.58037402  1.9858749   2.31158722 -0.5659372\n",
      " -1.00828251 -0.87201877 -1.09890992 -1.03727787 -1.16797919 -1.0456298\n",
      " -1.01330565 -0.79540664 -0.44221485 -0.34520531 -0.1193109   0.1147279\n",
      "  0.27031184  0.62957865  0.99827753  0.62957865  0.61707654  0.62957865\n",
      "  0.99827753  1.46480953  1.80571609  1.46480953  1.80571609  2.31158769]\n",
      " 1/20 [>.............................] - ETA: 0s - loss: 0.4175 - value_loss: 0.0740 - policy_loss: 0.3434 - policy_acc: 0.7812"
     ]
    },
    {
     "name": "stderr",
     "output_type": "stream",
     "text": [
      "\n"
     ]
    },
    {
     "name": "stdout",
     "output_type": "stream",
     "text": [
      "20/20 [==============================] - 0s 12ms/step - loss: 0.5570 - value_loss: 0.0797 - policy_loss: 0.4773 - policy_acc: 0.7084\n",
      "30/30 [==============================] - 0s 13ms/step\n"
     ]
    },
    {
     "name": "stderr",
     "output_type": "stream",
     "text": [
      "2500it [00:00, 101951.97it/s]"
     ]
    },
    {
     "name": "stdout",
     "output_type": "stream",
     "text": [
      "[6, 7, 5, 7, 7, 1, 5, 9, 5, 8, 8, 8, 8, 7, 7, 4, 7, 0, 0, 3, 8, 6, 1, 1, 8, 9, 11, 3, 11, 8]\n",
      "[ 2.34968535  1.85013242  1.46791575  1.85013242  2.34968535 -0.52408433\n",
      " -0.90186174 -0.79355447 -1.15461074 -1.11957195 -1.15103021 -1.01779899\n",
      " -1.00746045 -0.67587317 -0.47453763 -0.45010781 -0.21611622  0.13065476\n",
      "  0.26795153  0.62277154  0.93577803  0.57301744  0.52301634  0.57301744\n",
      "  0.93577803  1.24282697  1.75496719  1.24282697  1.75496719  2.34968512]\n",
      " 6/20 [========>.....................] - ETA: 0s - loss: 0.6223 - value_loss: 0.0816 - policy_loss: 0.5408 - policy_acc: 0.7214"
     ]
    },
    {
     "name": "stderr",
     "output_type": "stream",
     "text": [
      "\n"
     ]
    },
    {
     "name": "stdout",
     "output_type": "stream",
     "text": [
      "20/20 [==============================] - 0s 12ms/step - loss: 0.5863 - value_loss: 0.0875 - policy_loss: 0.4988 - policy_acc: 0.7220\n"
     ]
    },
    {
     "name": "stderr",
     "output_type": "stream",
     "text": [
      "100%|██████████| 100/100 [00:06<00:00, 15.44it/s]\n",
      " 70%|███████   | 1762/2500 [00:47<00:20, 36.38it/s]"
     ]
    }
   ],
   "source": [
    "def get_model(lr=0.0001):\n",
    "    input1 = Input((324,))\n",
    "\n",
    "    d1 = Dense(1024)\n",
    "    d2 = Dense(1024)\n",
    "    d3 = Dense(1024)\n",
    "\n",
    "    d4 = Dense(50)\n",
    "\n",
    "    x1 = d1(input1)\n",
    "    x1 = LeakyReLU()(x1)\n",
    "    x1 = d2(x1)\n",
    "    x1 = LeakyReLU()(x1)\n",
    "    x1 = d3(x1)\n",
    "    x1 = LeakyReLU()(x1)\n",
    "    x1 = d4(x1)\n",
    "    x1 = LeakyReLU()(x1)\n",
    "\n",
    "    out_value = Dense(1, activation=\"linear\", name=\"value\")(x1)\n",
    "    out_policy = Dense(len(action_map_small), activation=\"softmax\", name=\"policy\")(x1)\n",
    "\n",
    "    model = Model(input1, [out_value, out_policy])\n",
    "\n",
    "    model.compile(loss={\"value\": \"mae\", \"policy\": \"sparse_categorical_crossentropy\"}, optimizer=Adam(lr),\n",
    "                  metrics={\"policy\": acc})\n",
    "    model.summary()\n",
    "\n",
    "    return model\n",
    "\n",
    "\n",
    "if __name__ == \"__main__\":\n",
    "\n",
    "    N_SAMPLES = 100\n",
    "    N_EPOCH = 10000\n",
    "\n",
    "    file_path = \"auto.h5\"\n",
    "\n",
    "    checkpoint = ModelCheckpoint(file_path, monitor='val_loss', verbose=1, save_best_only=True, mode='min')\n",
    "\n",
    "    early = EarlyStopping(monitor=\"val_loss\", mode=\"min\", patience=1000)\n",
    "\n",
    "    reduce_on_plateau = ReduceLROnPlateau(monitor=\"val_loss\", mode=\"min\", factor=0.1, patience=50, min_lr=1e-8)\n",
    "\n",
    "    callbacks_list = [checkpoint, early, reduce_on_plateau]\n",
    "\n",
    "    model = get_model(lr=0.0001)\n",
    "    #model.load_weights(file_path)\n",
    "\n",
    "    for i in range(N_EPOCH):\n",
    "        cubes = []\n",
    "        distance_to_solved = []\n",
    "        for j in tqdm(range(N_SAMPLES)):\n",
    "            _cubes, _distance_to_solved = gen_sequence(25)\n",
    "            cubes.extend(_cubes)\n",
    "            distance_to_solved.extend(_distance_to_solved)\n",
    "\n",
    "        cube_next_reward = []\n",
    "        flat_next_states = []\n",
    "        cube_flat = []\n",
    "\n",
    "        for c in tqdm(cubes):\n",
    "            flat_cubes, rewards = get_all_possible_actions_cube_small(c)\n",
    "            cube_next_reward.append(rewards)\n",
    "            flat_next_states.extend(flat_cubes)\n",
    "            cube_flat.append(flatten_1d_b(c))\n",
    "\n",
    "        for _ in range(20):\n",
    "\n",
    "            cube_target_value = []\n",
    "            cube_target_policy = []\n",
    "\n",
    "            next_state_value, _ = model.predict(np.array(flat_next_states), batch_size=1024)\n",
    "            next_state_value = next_state_value.ravel().tolist()\n",
    "            next_state_value = list(chunker(next_state_value, size=len(action_map_small)))\n",
    "\n",
    "            for c, rewards, values in tqdm(zip(cubes, cube_next_reward, next_state_value)):\n",
    "                r_plus_v = 0.4*np.array(rewards) + np.array(values)\n",
    "                target_v = np.max(r_plus_v)\n",
    "                target_p = np.argmax(r_plus_v)\n",
    "                cube_target_value.append(target_v)\n",
    "                cube_target_policy.append(target_p)\n",
    "\n",
    "            cube_target_value = (cube_target_value-np.mean(cube_target_value))/(np.std(cube_target_value)+0.01)\n",
    "\n",
    "            print(cube_target_policy[-30:])\n",
    "            print(cube_target_value[-30:])\n",
    "\n",
    "            sample_weights = 1. / np.array(distance_to_solved)\n",
    "            sample_weights = sample_weights * sample_weights.size / np.sum(sample_weights)\n",
    "\n",
    "            model.fit(np.array(cube_flat), [np.array(cube_target_value), np.array(cube_target_policy)[..., np.newaxis]],\n",
    "                      epochs=1, batch_size=128, sample_weight=[sample_weights, sample_weights])\n",
    "            # sample_weight=[sample_weights, sample_weights],\n",
    "\n",
    "        model.save_weights(file_path)"
   ]
  },
  {
   "cell_type": "code",
   "execution_count": null,
   "metadata": {},
   "outputs": [],
   "source": []
  },
  {
   "cell_type": "code",
   "execution_count": null,
   "metadata": {},
   "outputs": [],
   "source": []
  },
  {
   "cell_type": "code",
   "execution_count": null,
   "metadata": {},
   "outputs": [],
   "source": []
  },
  {
   "cell_type": "code",
   "execution_count": null,
   "metadata": {},
   "outputs": [],
   "source": []
  }
 ],
 "metadata": {
  "kernelspec": {
   "display_name": "Python 3 (ipykernel)",
   "language": "python",
   "name": "python3"
  },
  "language_info": {
   "codemirror_mode": {
    "name": "ipython",
    "version": 3
   },
   "file_extension": ".py",
   "mimetype": "text/x-python",
   "name": "python",
   "nbconvert_exporter": "python",
   "pygments_lexer": "ipython3",
   "version": "3.9.12"
  }
 },
 "nbformat": 4,
 "nbformat_minor": 4
}
